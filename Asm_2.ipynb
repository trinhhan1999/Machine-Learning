{
 "cells": [
  {
   "cell_type": "markdown",
   "metadata": {
    "button": false,
    "id": "SzPE54CYM1kJ",
    "new_sheet": false,
    "run_control": {
     "read_only": false
    }
   },
   "source": [
    "<h1 align=center><font size = 10> ASM 2 </font></h1>"
   ]
  },
  {
   "cell_type": "markdown",
   "metadata": {
    "id": "dzJFrqwyM1kP"
   },
   "source": [
    "# Bài toán"
   ]
  },
  {
   "cell_type": "markdown",
   "metadata": {
    "button": false,
    "id": "XPfbiVLfM1kK",
    "new_sheet": false,
    "run_control": {
     "read_only": false
    }
   },
   "source": [
    "Trong notebook này, chúng ta sẽ thực hành tất cả các thuật toán phân loại mà chúng ta đã học trong khóa này.\n",
    "\n",
    "Hãy tải tập dữ liệu bằng thư viện Pandas và áp dụng các thuật toán sau rồi tìm ra thuật toán tốt nhất cho tập dữ liệu cụ thể này bằng các phương pháp đánh giá độ chính xác."
   ]
  },
  {
   "cell_type": "markdown",
   "metadata": {
    "id": "WFl47FBcM1kQ"
   },
   "source": [
    "Kiểu của tập dữ liệu và bài toán là một phân loại nhị phân có giám sát cổ điển. Với một số yếu tố có các đặc điểm (đặc trưng) nhất định, chúng ta cần xây dựng mô hình ML để xác định những người bị ảnh hưởng bởi bệnh tiểu đường loại 2.\n",
    "\n",
    "Để giải quyết vấn đề, chúng ta sẽ phải phân tích dữ liệu, thực hiện bất kỳ chuyển đổi và chuẩn hóa cần thiết nào, áp dụng thuật toán học máy, huấn luyện mô hình, kiểm tra chất lượng của mô hình đã huấn luyện và lặp lại với các thuật toán khác cho đến khi tìm ra chất lượng cao nhất cho kiểu của tập dữ liệu."
   ]
  },
  {
   "cell_type": "markdown",
   "metadata": {
    "id": "1UzFsK9VIHW3"
   },
   "source": [
    "# Pipeline \n",
    "\n",
    "1. Đọc dữ liệu.\n",
    "\n",
    "3. Trực quan dữ liệu.\n",
    "\n",
    "4. Tiền xử lý dữ liệu.\n",
    "\n",
    "5. Xây dựng mô hình phân loại và đánh giá chất lượng.\n",
    "\n",
    "  - KNN\n",
    "\n",
    "  - Decision Tree\n",
    "\n",
    "  - SVM\n",
    "\n",
    "  - Logistic Regression\n",
    "\n",
    "  - Neural Network\n",
    "\n",
    "6. Xây dựng mô hình phân loại bằng Ensemble và đánh giá chất lượng.\n",
    "\n",
    "  - Soft voting\n",
    "\n",
    "  - Hard voting\n",
    "\n",
    "7. Đưa ra kết quả tổng hợp chất lượng mô hình phân loại của tất cả thuật toán."
   ]
  },
  {
   "cell_type": "markdown",
   "metadata": {
    "button": false,
    "id": "ZAL75IefM1kO",
    "new_sheet": false,
    "run_control": {
     "read_only": false
    }
   },
   "source": [
    "# Tập dữ liệu"
   ]
  },
  {
   "cell_type": "markdown",
   "metadata": {
    "button": false,
    "id": "yrPdRO--M1kO",
    "new_sheet": false,
    "run_control": {
     "read_only": false
    }
   },
   "source": [
    "Pima là một tộc người Mỹ bản địa sống ở Arizona. Yếu tố di truyền cho phép nhóm người này có thể tồn tại được với chế độ ăn nghèo carbohydrate trong nhiều năm. Những năm gần đây, do sự chuyển đổi đột ngột từ cây nông nghiệp truyền thống sang thực phẩm chế biến cùng với sự suy giảm hoạt động thể chất đã khiến tỷ lệ mắc bệnh tiểu đường loại 2 cao nhất, cho nên nó trở thành đối tượng của nhiều nghiên cứu.\n",
    "\n",
    "Tập dữ liệu gồm dữ liệu từ 768 phụ nữ với 8 đặc điểm, cụ thể:\n",
    "\n",
    "- Số lần mang thai\n",
    "- Nồng độ đường huyết sau 2 giờ trong xét nghiệm dung nạp glucose đường uống\n",
    "- Huyết áp tâm trương (mm Hg)\n",
    "- Độ dày của nếp gấp da (mm)\n",
    "- Insulin huyết thanh trong 2 giờ (mu U/ml)\n",
    "- Chỉ số BMI (trọng lượng tính bằng kg/(chiều cao tính bằng m)^2)\n",
    "- Chức năng phả hệ bệnh tiểu đường\n",
    "- Tuổi (năm)\n",
    "- Cột cuối cùng của tập dữ liệu cho biết một người có bị chẩn đoán mắc bệnh tiểu đường (1) hay không (0)"
   ]
  },
  {
   "cell_type": "markdown",
   "metadata": {
    "id": "4P5dHdrDc-Bx"
   },
   "source": [
    "# Thư viện cần thiết"
   ]
  },
  {
   "cell_type": "code",
   "execution_count": 1,
   "metadata": {
    "button": false,
    "id": "vcBmcLcqM1kL",
    "new_sheet": false,
    "run_control": {
     "read_only": false
    }
   },
   "outputs": [],
   "source": [
    "import matplotlib.pyplot as plt\n",
    "from matplotlib.ticker import NullFormatter\n",
    "import pandas as pd\n",
    "import numpy as np\n",
    "import matplotlib.ticker as ticker\n",
    "from sklearn import preprocessing\n",
    "%matplotlib inline"
   ]
  },
  {
   "cell_type": "markdown",
   "metadata": {
    "button": false,
    "id": "Diy5tSZ7M1kQ",
    "new_sheet": false,
    "run_control": {
     "read_only": false
    }
   },
   "source": [
    "# Load dữ liệu từ file CSV  "
   ]
  },
  {
   "cell_type": "markdown",
   "metadata": {
    "id": "qdIctwmZM1kR"
   },
   "source": [
    "### Task 1: Đọc dữ liệu \n",
    "\n",
    "Do file không chứa tên cột/đặc trưng, do đó hãy thêm tên cột bằng cách sử dụng mô tả từ trang web tập dữ liệu gốc:\n",
    "\n",
    "Tên cột lần lượt là: \"NumTimesPrg\", \"PlGlcConc\", \"BloodP\", \"SkinThick\", \"TwoHourSerIns\", \"BMI\", \"DiPedFunc\", \"Age\", \"HasDiabetes\""
   ]
  },
  {
   "cell_type": "code",
   "execution_count": 2,
   "metadata": {
    "button": false,
    "id": "K-TmhZ8vM1kS",
    "new_sheet": false,
    "run_control": {
     "read_only": false
    }
   },
   "outputs": [
    {
     "data": {
      "text/html": [
       "<div>\n",
       "<style scoped>\n",
       "    .dataframe tbody tr th:only-of-type {\n",
       "        vertical-align: middle;\n",
       "    }\n",
       "\n",
       "    .dataframe tbody tr th {\n",
       "        vertical-align: top;\n",
       "    }\n",
       "\n",
       "    .dataframe thead th {\n",
       "        text-align: right;\n",
       "    }\n",
       "</style>\n",
       "<table border=\"1\" class=\"dataframe\">\n",
       "  <thead>\n",
       "    <tr style=\"text-align: right;\">\n",
       "      <th></th>\n",
       "      <th>NumTimesPrg</th>\n",
       "      <th>PlGlcConc</th>\n",
       "      <th>BloodP</th>\n",
       "      <th>SkinThick</th>\n",
       "      <th>TwoHourSerIns</th>\n",
       "      <th>BMI</th>\n",
       "      <th>DiPedFunc</th>\n",
       "      <th>Age</th>\n",
       "      <th>HasDiabetes</th>\n",
       "    </tr>\n",
       "  </thead>\n",
       "  <tbody>\n",
       "    <tr>\n",
       "      <th>0</th>\n",
       "      <td>1</td>\n",
       "      <td>85</td>\n",
       "      <td>66</td>\n",
       "      <td>29</td>\n",
       "      <td>0</td>\n",
       "      <td>26.6</td>\n",
       "      <td>0.351</td>\n",
       "      <td>31</td>\n",
       "      <td>0</td>\n",
       "    </tr>\n",
       "    <tr>\n",
       "      <th>1</th>\n",
       "      <td>8</td>\n",
       "      <td>183</td>\n",
       "      <td>64</td>\n",
       "      <td>0</td>\n",
       "      <td>0</td>\n",
       "      <td>23.3</td>\n",
       "      <td>0.672</td>\n",
       "      <td>32</td>\n",
       "      <td>1</td>\n",
       "    </tr>\n",
       "    <tr>\n",
       "      <th>2</th>\n",
       "      <td>1</td>\n",
       "      <td>89</td>\n",
       "      <td>66</td>\n",
       "      <td>23</td>\n",
       "      <td>94</td>\n",
       "      <td>28.1</td>\n",
       "      <td>0.167</td>\n",
       "      <td>21</td>\n",
       "      <td>0</td>\n",
       "    </tr>\n",
       "    <tr>\n",
       "      <th>3</th>\n",
       "      <td>0</td>\n",
       "      <td>137</td>\n",
       "      <td>40</td>\n",
       "      <td>35</td>\n",
       "      <td>168</td>\n",
       "      <td>43.1</td>\n",
       "      <td>2.288</td>\n",
       "      <td>33</td>\n",
       "      <td>1</td>\n",
       "    </tr>\n",
       "    <tr>\n",
       "      <th>4</th>\n",
       "      <td>5</td>\n",
       "      <td>116</td>\n",
       "      <td>74</td>\n",
       "      <td>0</td>\n",
       "      <td>0</td>\n",
       "      <td>25.6</td>\n",
       "      <td>0.201</td>\n",
       "      <td>30</td>\n",
       "      <td>0</td>\n",
       "    </tr>\n",
       "  </tbody>\n",
       "</table>\n",
       "</div>"
      ],
      "text/plain": [
       "   NumTimesPrg  PlGlcConc  BloodP  SkinThick  TwoHourSerIns   BMI  DiPedFunc  \\\n",
       "0            1         85      66         29              0  26.6      0.351   \n",
       "1            8        183      64          0              0  23.3      0.672   \n",
       "2            1         89      66         23             94  28.1      0.167   \n",
       "3            0        137      40         35            168  43.1      2.288   \n",
       "4            5        116      74          0              0  25.6      0.201   \n",
       "\n",
       "   Age  HasDiabetes  \n",
       "0   31            0  \n",
       "1   32            1  \n",
       "2   21            0  \n",
       "3   33            1  \n",
       "4   30            0  "
      ]
     },
     "execution_count": 2,
     "metadata": {},
     "output_type": "execute_result"
    }
   ],
   "source": [
    "# Nhập code của bạn ở đây:\n",
    "df_init = pd.read_csv('pima-indians-diabetes.csv')\n",
    "df = df_init.set_axis(['NumTimesPrg', 'PlGlcConc', 'BloodP', 'SkinThick', 'TwoHourSerIns', 'BMI', \n",
    "                     'DiPedFunc', 'Age', 'HasDiabetes'], axis=1, inplace=False) #đổi tên các cột theo đúng pipeline\n",
    "df.head()"
   ]
  },
  {
   "cell_type": "markdown",
   "metadata": {
    "button": false,
    "id": "a02T2r1XM1kY",
    "new_sheet": false,
    "run_control": {
     "read_only": false
    }
   },
   "source": [
    "# Trực quan hóa và tiền xử lý dữ liệu\n",
    "\n"
   ]
  },
  {
   "cell_type": "markdown",
   "metadata": {
    "id": "yFAPRH0WBgow"
   },
   "source": [
    "## Ma trận tương quan dữ liệu"
   ]
  },
  {
   "cell_type": "markdown",
   "metadata": {
    "id": "Gny1Ex0wJ7d3"
   },
   "source": [
    "Ma trận tương quan là một công cụ quan trọng để hiểu mối tương quan giữa các đặc điểm khác nhau. Các giá trị sẽ nằm trong khoảng từ -1 đến 1; giá trị càng gần 1 thì càng có giữa hai đặc điểm càng có mối tương quan tốt."
   ]
  },
  {
   "cell_type": "markdown",
   "metadata": {
    "button": false,
    "id": "WyisS4NVM1kZ",
    "new_sheet": false,
    "run_control": {
     "read_only": false
    }
   },
   "source": [
    "### Task 2: Tính ma trận tương quan cho tập dữ liệu."
   ]
  },
  {
   "cell_type": "code",
   "execution_count": 3,
   "metadata": {
    "button": false,
    "id": "vymkxfN8M1kZ",
    "new_sheet": false,
    "run_control": {
     "read_only": false
    }
   },
   "outputs": [],
   "source": [
    "# Nhập code của bạn ở đây:\n",
    "import seaborn as sns\n",
    "corr_df = df.corr() "
   ]
  },
  {
   "cell_type": "markdown",
   "metadata": {
    "id": "Q0YpKuUBM1kb"
   },
   "source": [
    "### Task 3: Trực quan ma trận tương quan bằng heatmap trong seaborn."
   ]
  },
  {
   "cell_type": "code",
   "execution_count": 4,
   "metadata": {
    "id": "ll0POqtIM1kc"
   },
   "outputs": [
    {
     "data": {
      "image/png": "[encoded data removed]",
      "text/plain": [
       "<Figure size 720x720 with 4 Axes>"
      ]
     },
     "metadata": {
      "needs_background": "light"
     },
     "output_type": "display_data"
    }
   ],
   "source": [
    "# Nhập code của bạn ở đây:\n",
    "sns.clustermap(corr_df,annot= True,cmap = \"YlGnBu\",fmt = '.2f')\n",
    "plt.title('Correlation')\n",
    "plt.show();"
   ]
  },
  {
   "cell_type": "markdown",
   "metadata": {
    "id": "gZ5Msu8UM1kg"
   },
   "source": [
    "## Trực quan hóa tập dữ liệu"
   ]
  },
  {
   "cell_type": "markdown",
   "metadata": {
    "id": "qvHkLsj_Kuv9"
   },
   "source": [
    "Trực quan hóa dữ liệu là một bước quan trọng của phân tích dữ liệu. Nhờ có trực quan hóa dữ liệu, chúng ta sẽ hiểu rõ hơn về các phân phối giá trị đặc trưng khác nhau: ví dụ: chúng ta nắm được độ tuổi trung bình của mọi người hoặc chỉ số BMI trung bình,...\n",
    "\n",
    "Tất nhiên, chúng ta có thể giới hạn việc xem xét hiển thị bảng, nhưng điều này cũng đồng nghĩa với việc chúng ta có thể sẽ bỏ lỡ những yếu tố quan trọng có thể ảnh hưởng đến độ chính xác của mô hình."
   ]
  },
  {
   "cell_type": "markdown",
   "metadata": {
    "id": "QsYiOSQNBjyN"
   },
   "source": [
    "### Task 4: Trực quan histogram với tất cả cột tập dữ liệu."
   ]
  },
  {
   "cell_type": "code",
   "execution_count": 5,
   "metadata": {
    "id": "JC3CILgxM1kh"
   },
   "outputs": [
    {
     "data": {
      "image/png": "[encoded data removed]",
      "text/plain": [
       "<Figure size 1440x1440 with 9 Axes>"
      ]
     },
     "metadata": {
      "needs_background": "light"
     },
     "output_type": "display_data"
    }
   ],
   "source": [
    "# Nhập code của bạn ở đây:\n",
    "fig = df.hist(figsize = (20,20), color='#2D4ABF',alpha=0.7, rwidth=0.85)"
   ]
  },
  {
   "cell_type": "markdown",
   "metadata": {
    "button": false,
    "id": "VYSkabikM1kj",
    "new_sheet": false,
    "run_control": {
     "read_only": false
    }
   },
   "source": [
    "Tôi nhận thấy trong tập dữ liệu (điều này không rõ ràng ngay từ đầu) là thực tế một số người có giá trị null (không) cho một số đặc trưng: BMI hoặc huyết áp không hoàn toàn là 0.\n",
    "\n",
    "Làm thế nào để xử lý các giá trị tương tự? Hãy xem phần sau trong giai đoạn biến đổi dữ liệu."
   ]
  },
  {
   "cell_type": "markdown",
   "metadata": {
    "button": false,
    "id": "si5Fgks4M1kj",
    "new_sheet": false,
    "run_control": {
     "read_only": false
    }
   },
   "source": [
    "## Làm sạch và biến đổi dữ liệu"
   ]
  },
  {
   "cell_type": "markdown",
   "metadata": {
    "id": "mU2qrkkCKwyK"
   },
   "source": [
    "Từ phân tích trước, chúng ta đã nhận thấy một số bệnh nhân bị thiếu dữ liệu ở một số đặc trưng. Các thuật toán ML hoạt động không hiệu quả khi dữ liệu bị khuyết, vì vậy chúng ta phải tìm cách để \"làm sạch\" dữ liệu hiện có.\n",
    " \n",
    "Cách dễ nhất là loại bỏ tất cả những bệnh nhân có giá trị null/0, nhưng nếu làm theo cách này, chúng ta cũng sẽ loại bỏ rất nhiều dữ liệu quan trọng.\n",
    "\n",
    "Cách khác là thay thế giá trị null/0 bằng giá trị trung bình của cột dữ liệu đó. Hãy xem làm thế nào để áp dụng phương pháp thứ hai này."
   ]
  },
  {
   "cell_type": "markdown",
   "metadata": {
    "id": "X86RJDfMKCmj"
   },
   "source": [
    "### Task 5: Gán giá trị bị khuyết trên ['BMI', 'BloodP', 'PlGlcConc', 'SkinThick', 'TwoHourSerIns'] bằng giá trị trung vị hoặc bất kỳ cách nào khác có hiệu quả.\n",
    "\n",
    "Chúng tôi chưa chuyển đổi tất cả các cột vì một số giá trị có thể là 0 (như \"Số lần mang thai\")."
   ]
  },
  {
   "cell_type": "code",
   "execution_count": 6,
   "metadata": {
    "button": false,
    "id": "ccZyY2RbM1kk",
    "new_sheet": false,
    "run_control": {
     "read_only": false
    }
   },
   "outputs": [
    {
     "name": "stdout",
     "output_type": "stream",
     "text": [
      "độ lệch mẫu của tập dữ liệu NumTimesPrg là 0.9039762643556906\n",
      "độ lệch mẫu của tập dữ liệu PlGlcConc là 0.5339777900916466\n",
      "độ lệch mẫu của tập dữ liệu BloodP là 0.13392752241515188\n",
      "độ lệch mẫu của tập dữ liệu SkinThick là 0.6933691651021715\n",
      "độ lệch mẫu của tập dữ liệu TwoHourSerIns là 2.166463843812443\n",
      "độ lệch mẫu của tập dữ liệu BMI là 0.5942610397883523\n",
      "độ lệch mẫu của tập dữ liệu DiPedFunc là 1.9211904511620612\n",
      "độ lệch mẫu của tập dữ liệu Age là 1.1351646947682954\n"
     ]
    },
    {
     "data": {
      "text/plain": [
       "NumTimesPrg      0\n",
       "PlGlcConc        0\n",
       "BloodP           0\n",
       "SkinThick        0\n",
       "TwoHourSerIns    0\n",
       "BMI              0\n",
       "DiPedFunc        0\n",
       "Age              0\n",
       "HasDiabetes      0\n",
       "dtype: int64"
      ]
     },
     "execution_count": 6,
     "metadata": {},
     "output_type": "execute_result"
    }
   ],
   "source": [
    "# Nhập code của bạn ở đây:\n",
    "df[['PlGlcConc', 'BloodP', 'SkinThick', 'TwoHourSerIns', 'BMI']] = df[['PlGlcConc', 'BloodP', 'SkinThick', 'TwoHourSerIns', 'BMI']].replace(0, np.nan)\n",
    "for col in df.drop('HasDiabetes', axis = 1).columns:\n",
    "    print(\"độ lệch mẫu của tập dữ liệu {} là {}\".format(col, df[col].skew()))\n",
    "    \n",
    "df['TwoHourSerIns'] = df['TwoHourSerIns'].fillna(df['TwoHourSerIns'].median()) #Điền các giá trị null với giá trị trung bình.\n",
    "\n",
    "for col in ['PlGlcConc', 'BloodP', 'SkinThick', 'BMI']:\n",
    "    df[col] = df[col].fillna(df[col].mean())    \n",
    "df.isnull().sum()"
   ]
  },
  {
   "cell_type": "markdown",
   "metadata": {
    "id": "-8h0P-vLM1kl"
   },
   "source": [
    "## Chuẩn hóa dữ liệu"
   ]
  },
  {
   "cell_type": "markdown",
   "metadata": {
    "id": "l6dcM1TpKzZD"
   },
   "source": [
    "Một trong những cách biến đổi dữ liệu quan trọng nhất mà chúng ta cần áp dụng là co giãn đặc trưng (feature scaling). Về cơ bản, hầu hết các thuật toán ML không hoạt động tốt nếu các đặc trưng có một bộ giá trị khác nhau. Ví dụ trong trường hợp của chúng ta, độ tuổi dao động từ 20 đến 80 tuổi, trong khi số lần bệnh nhân mang thai lại từ 0 đến 17 tuổi. Do đó, chúng ta cần áp dụng một phép biến đổi thích hợp."
   ]
  },
  {
   "cell_type": "markdown",
   "metadata": {
    "id": "Puwt6OQ-Bp3m"
   },
   "source": [
    "### Task 6: Thực hiện co giãn dữ liệu thành giá trị trung bình bằng 0 và phương sai bằng 1.\n",
    "\n",
    "Lưu ý: Chỉ áp dụng với các đặc trưng, không áp dụng với mục tiêu."
   ]
  },
  {
   "cell_type": "code",
   "execution_count": 7,
   "metadata": {
    "id": "S22D1f6QM1km"
   },
   "outputs": [
    {
     "data": {
      "text/plain": [
       "array([[-0.84372629, -1.20482941, -0.52956011, ..., -0.8517715 ,\n",
       "        -0.36426474, -0.18894038],\n",
       "       [ 1.23423997,  2.01661929, -0.69489941, ..., -1.33176959,\n",
       "         0.60470064, -0.1037951 ],\n",
       "       [-0.84372629, -1.0733417 , -0.52956011, ..., -0.63359055,\n",
       "        -0.91968415, -1.0403932 ],\n",
       "       ...,\n",
       "       [ 0.343683  , -0.02144009, -0.03354219, ..., -0.90995308,\n",
       "        -0.68423462, -0.27408566],\n",
       "       [-0.84372629,  0.14291954, -1.02557802, ..., -0.34268262,\n",
       "        -0.37030191,  1.17338414],\n",
       "       [-0.84372629, -0.941854  , -0.1988815 , ..., -0.29904643,\n",
       "        -0.47293375, -0.87010264]])"
      ]
     },
     "execution_count": 7,
     "metadata": {},
     "output_type": "execute_result"
    }
   ],
   "source": [
    "# Nhập code của bạn ở đây:\n",
    "from sklearn.preprocessing import StandardScaler\n",
    "\n",
    "X = df.drop(['HasDiabetes'], axis = 1).values\n",
    "Y = df['HasDiabetes']\n",
    "\n",
    "X = StandardScaler().fit_transform(X)\n",
    "X"
   ]
  },
  {
   "cell_type": "markdown",
   "metadata": {
    "button": false,
    "id": "oOHQu_2rM1ko",
    "new_sheet": false,
    "run_control": {
     "read_only": false
    }
   },
   "source": [
    "## Phân tách dữ liệu"
   ]
  },
  {
   "cell_type": "markdown",
   "metadata": {
    "id": "Wd1-qKnJK1It"
   },
   "source": [
    "Bây giờ dữ liệu đã được chuyển đổi, chúng ta cần chia tập dữ liệu thành hai phần: tập dữ liệu huấn luyện và tập dữ liệu kiểm tra. Phân tách tập dữ liệu là một bước rất quan trọng đối với các mô hình học máy có giám sát. Về cơ bản, chúng ta sẽ sử dụng phần đầu tiên để huấn luyện mô hình (bỏ qua cột có nhãn được gán trước), sau đó sử dụng mô hình đã huấn luyện để đưa ra dự đoán về dữ liệu mới (là tập dữ liệu kiểm tra, không phải là một phần của tập huấn luyện) và so sánh giá trị dự đoán với nhãn đã được chỉ định."
   ]
  },
  {
   "cell_type": "markdown",
   "metadata": {
    "id": "teWZ9Hn0BsQL"
   },
   "source": [
    "### Task 7: Tách tập dữ liệu train/test data\n",
    "\n",
    "- test site = 20%\n",
    "- random_state=7."
   ]
  },
  {
   "cell_type": "code",
   "execution_count": 8,
   "metadata": {
    "id": "Xfh4QK1oM1kp"
   },
   "outputs": [],
   "source": [
    "# Nhập code của bạn ở đây:\n",
    "from sklearn.model_selection import train_test_split\n",
    "X_Train, X_Test, Y_Train, Y_Test = train_test_split(X, Y, test_size = 0.20, random_state = 7)"
   ]
  },
  {
   "cell_type": "markdown",
   "metadata": {
    "id": "Yk3Y6qVtM1kq"
   },
   "source": [
    "**Câu hỏi: Tại sao chúng ta nên thực hiện chuẩn hóa và phân tách dữ liệu trước bước huấn luyện?**"
   ]
  },
  {
   "cell_type": "markdown",
   "metadata": {
    "id": "2yXSkeUjM1kr"
   },
   "source": [
    "Đáp án: \n",
    "- Việc mô hình càng sâu sẽ có nhiều layer cùng với đó là có nhiều hàm kích hoạt, nó sẽ làm biến đổi đi phân phối của dữ liệu. Do đó chúng ta cần chuẩn hóa lại nó để có được sự đồng bộ phân phối của dữ liệu trong quá trình huấn luyện. \n",
    "- Việc tối ưu sẽ trở nên nhanh hơn bởi vì normalization không cho phép việc bùng nổ (explode) weights và nó giới hạn chúng trong một vùng nhất định.\n",
    "- Chuẩn hóa dữ liệu mỗi feature sẽ giữ được sự đóng góp của mọi feature trong quá trình huấn luyện trong trường hợp giá trị một số features cao hơn nhiều so với các feature còn lại."
   ]
  },
  {
   "cell_type": "markdown",
   "metadata": {
    "id": "6PaVBEAwM1ks"
   },
   "source": [
    "### Task 8: In ra tỷ lệ dương tính trên tổng số phụ nữ mắc bệnh tiểu đường trong tập dữ liệu đầy đủ, tập huấn luyện và tập kiểm tra."
   ]
  },
  {
   "cell_type": "code",
   "execution_count": 9,
   "metadata": {
    "id": "36nXnB7cM1ku"
   },
   "outputs": [
    {
     "name": "stdout",
     "output_type": "stream",
     "text": [
      "tỷ lệ dương tính theo tập dữ liệu đầu đủ:  34.8109517601043\n",
      "tỷ lệ dương tính theo tập huấn luyện:  35.39967373572594\n",
      "tỷ lệ dương tính theo tập kiểm tra:  32.467532467532465\n"
     ]
    }
   ],
   "source": [
    "# Nhập code của bạn ở đây:\n",
    "# tập dữ liệu đầy đủ\n",
    "HasDiabetes_0 =len(df[df.HasDiabetes==0])\n",
    "HasDiabetes_1 =len(df[df.HasDiabetes==1])\n",
    "Total = HasDiabetes_0 + HasDiabetes_1\n",
    "diabetic = HasDiabetes_1*100/Total\n",
    "print('tỷ lệ dương tính theo tập dữ liệu đầu đủ: ', diabetic)\n",
    "\n",
    "# tập huấn luyện\n",
    "Y_Train_df = pd.DataFrame(Y_Train)\n",
    "HasDiabetes_0_train = len(Y_Train_df[Y_Train_df.HasDiabetes==0])\n",
    "HasDiabetes_1_train = len(Y_Train_df[Y_Train_df.HasDiabetes==1])\n",
    "Total_train = HasDiabetes_0_train + HasDiabetes_1_train\n",
    "diabetic_train = HasDiabetes_1_train*100/Total_train\n",
    "print('tỷ lệ dương tính theo tập huấn luyện: ', diabetic_train)\n",
    "\n",
    "# tập kiểm tra\n",
    "Y_Test_df = pd.DataFrame(Y_Test)\n",
    "HasDiabetes_0_test = len(Y_Test_df[Y_Test_df.HasDiabetes==0])\n",
    "HasDiabetes_1_test = len(Y_Test_df[Y_Test_df.HasDiabetes==1])\n",
    "Total_test = HasDiabetes_0_test + HasDiabetes_1_test\n",
    "diabetic_test = HasDiabetes_1_test*100/Total_test\n",
    "print('tỷ lệ dương tính theo tập kiểm tra: ', diabetic_test)"
   ]
  },
  {
   "cell_type": "markdown",
   "metadata": {
    "button": false,
    "id": "KHXGaCazM1k0",
    "new_sheet": false,
    "run_control": {
     "read_only": false
    }
   },
   "source": [
    "# Phân loại "
   ]
  },
  {
   "cell_type": "markdown",
   "metadata": {
    "button": false,
    "id": "Q-NwUyDVM1k0",
    "new_sheet": false,
    "run_control": {
     "read_only": false
    }
   },
   "source": [
    "Giờ đến lượt bạn rồi, hãy sử dụng tập huấn luyện để xây dựng một mô hình chính xác, sau đó sử dụng tập kiểm tra để báo lại độ chính xác của mô hình.\n",
    "\n",
    "Bạn nên sử dụng các thuật toán sau:\n",
    "- K Nearest Neighbor(KNN)\n",
    "- Decision Tree\n",
    "- Support Vector Machine\n",
    "- Logistic Regression\n",
    "- Neural Network\n",
    "- Soft voting\n",
    "- Hard voting\n",
    "\n",
    "\n",
    "\n",
    "**__ Lưu ý:__**\n",
    "\n",
    "- Bạn phải cố gắng **TINH CHỈNH ÍT NHẤT 3 SIÊU THAM SỐ** trên mỗi thuật toán, ngoại trừ soft voting và hard voting.\n",
    "- Bạn có thể lên phía trên notebook và thay đổi quá trình tiền xử lý, lựa chọn đặc trưng, trích xuất đặc trưng,... để tạo ra mô hình tốt hơn.\n",
    "- Bạn nên sử dụng thư viện scikit-learn, Scipy hoặc Numpy để phát triển các thuật toán phân loại.\n",
    "- Bạn nên bao gồm code của thuật toán trong các cell sau."
   ]
  },
  {
   "cell_type": "markdown",
   "metadata": {
    "id": "c8HKeDu9M1k1"
   },
   "source": [
    "## Import các phép đo đánh giá"
   ]
  },
  {
   "cell_type": "code",
   "execution_count": 10,
   "metadata": {
    "id": "sZrg6rrsM1k1"
   },
   "outputs": [],
   "source": [
    "from sklearn.metrics import jaccard_score, f1_score"
   ]
  },
  {
   "cell_type": "code",
   "execution_count": 11,
   "metadata": {
    "id": "TBXdCSP-M1k3"
   },
   "outputs": [],
   "source": [
    "# Dictionary để giữ tất cả score của bộ phân loại\n",
    "f1_scores = {'train':{'KNN': 0, 'DT': 0, 'SVM': 0, 'LR': 0, 'NN': 0, 'EN_HARD': 0, 'EN_SOFT': 0},\n",
    "             'test':{'KNN': 0, 'DT': 0, 'SVM': 0, 'LR': 0, 'NN': 0, 'EN_HARD': 0, 'EN_SOFT': 0}}\n",
    "jaccard_scores = {'train':{'KNN': 0, 'DT': 0, 'SVM': 0, 'LR': 0, 'NN': 0, 'EN_HARD': 0, 'EN_SOFT': 0}, \n",
    "                  'test':{'KNN': 0, 'DT': 0, 'SVM': 0, 'LR': 0, 'NN': 0, 'EN_HARD': 0, 'EN_SOFT': 0}}\n"
   ]
  },
  {
   "cell_type": "markdown",
   "metadata": {
    "id": "54H_TZFAK83W"
   },
   "source": [
    "## Task 9: K Nearest Neighbor(KNN)\n",
    "\n",
    "Tinh chỉnh siêu tham số để có được mô hình KNN với độ chính xác tốt nhất. \n",
    "\n",
    "In ra các giá trị siêu tham số của mô hình KNN với độ chính xác tốt nhất. \n",
    "\n",
    "Đưa ra dự đoán từ dữ liệu huấn luyện và kiếm tra trên mô hình KNN. \n",
    "\n",
    "Tính f1 score và Jaccard score rồi lưu vào f1_scores dict và jaccard_scores dict.\n",
    "\n",
    "Yêu cầu:\n",
    "\n",
    "- Số lượng siêu tham số tối thiểu: 3\n",
    "\n",
    "- Số lượng giá trị siêu tham số tối đa trong một lần tìm kiếm: 20\n",
    "\n",
    "- Sử dụng GridSearchCV trong sklearn.model_selection.\n",
    "\n",
    "- Không nên sử dụng dữ liệu kiểm tra để tìm ra các tham số tốt nhất.\n",
    "\n",
    "- F1 score trên dữ liệu kiểm tra phải cao hơn **0.6**, Jaccard score phải cao hơn **0.4**."
   ]
  },
  {
   "cell_type": "code",
   "execution_count": 12,
   "metadata": {
    "id": "WpD6yCUlM1k7"
   },
   "outputs": [],
   "source": [
    "from sklearn.neighbors import KNeighborsClassifier\n",
    "from sklearn.model_selection import GridSearchCV\n",
    "import sklearn"
   ]
  },
  {
   "cell_type": "code",
   "execution_count": 13,
   "metadata": {
    "id": "Xw2vbHFKM1k9"
   },
   "outputs": [
    {
     "name": "stdout",
     "output_type": "stream",
     "text": [
      "    K   ROC_ACC\n",
      "0  17  0.757115\n",
      "1  21  0.747500\n",
      "2  19  0.747115\n",
      "3  15  0.741923\n",
      "4   9  0.737885\n",
      "5  11  0.737885\n",
      "6  13  0.737885\n",
      "7   7  0.727500\n",
      "8  31  0.722308\n",
      "9  23  0.722308\n",
      "f1 score KNN_test:  0.6739130434782609\n",
      "f1 score KNN_train:  0.6632124352331606\n",
      "Jaccard score KNN_test:  0.7560975609756098\n",
      "Jaccard score KNN_train:  0.7319587628865979\n"
     ]
    }
   ],
   "source": [
    "# Nhập code của bạn ở đây:\n",
    "# tìm giá trị k tốt nhất \n",
    "tt = {}\n",
    "il = []\n",
    "ac=[]\n",
    "for  i in range(1,100):\n",
    "    knn = KNeighborsClassifier(n_neighbors=i)\n",
    "    knn.fit(X_Train,Y_Train)\n",
    "    y_pred = knn.predict(X_Test)\n",
    "    from sklearn.metrics import accuracy_score\n",
    "    il.append(i)   \n",
    "    ac.append( sklearn.metrics.roc_auc_score(Y_Test,y_pred) )\n",
    "    tt.update({'K':il})\n",
    "    tt.update({'ROC_ACC':ac})\n",
    "vv = pd.DataFrame(tt)\n",
    "vv.sort_values('ROC_ACC',ascending=False,inplace=True,ignore_index=True)\n",
    "print(vv.head(10))\n",
    "\n",
    "# report với f1-score\n",
    "knn = KNeighborsClassifier(n_neighbors=17)\n",
    "knn.fit(X_Train,Y_Train)\n",
    "y_pred = knn.predict(X_Test)\n",
    "y_pred_train = knn.predict(X_Train)\n",
    "\n",
    "print('f1 score KNN_test: ', f1_score(Y_Test,y_pred))\n",
    "print('f1 score KNN_train: ',f1_score(Y_Train,y_pred_train))\n",
    "\n",
    "# Jaccard score\n",
    "print('Jaccard score KNN_test: ',jaccard_score(Y_Test, y_pred,pos_label=0))\n",
    "print('Jaccard score KNN_train: ',jaccard_score(Y_Train, y_pred_train,pos_label=0))\n",
    "\n",
    "# lưu vào f1_scores dict và jaccard_scores dict.\n",
    "f1_scores['test'].update({'KNN': f1_score(Y_Test,y_pred)})\n",
    "f1_scores['train'].update({'KNN': f1_score(Y_Train,y_pred_train)})\n",
    "jaccard_scores['test'].update({'KNN': jaccard_score(Y_Test, y_pred,pos_label=0)})\n",
    "jaccard_scores['train'].update({'KNN': jaccard_score(Y_Train, y_pred_train,pos_label=0)})"
   ]
  },
  {
   "cell_type": "markdown",
   "metadata": {
    "id": "QLvhv6JrM1lA"
   },
   "source": [
    "**Câu hỏi: Diễn giải các tham số bạn đã chọn để tinh chỉnh trong thuật toán KNN.**"
   ]
  },
  {
   "cell_type": "markdown",
   "metadata": {
    "id": "qaJt1GeEM1lA"
   },
   "source": [
    "Trả lời:  sử dụng vòng lặp và tìm ra k tối ưu nhất theo đoạn code ở trên\n"
   ]
  },
  {
   "cell_type": "markdown",
   "metadata": {
    "id": "rmN0gHsGPn8A"
   },
   "source": [
    "## Task 10: Decision Tree\n",
    "\n",
    "Tinh chỉnh siêu tham số để có được mô hình DT với độ chính xác tốt nhất. \n",
    "\n",
    "In ra các giá trị siêu tham số của mô hình DT với độ chính xác tốt nhất.\n",
    "\n",
    "Đưa ra dự đoán từ dữ liệu huấn luyện và kiếm tra trên mô hình DT. \n",
    "\n",
    "Tính f1 score và Jaccard score rồi lưu vào f1_scores dict và jaccard_scores dict.\n",
    "\n",
    "Yêu cầu:\n",
    "\n",
    "- Số lượng siêu tham số tối thiểu: 3\n",
    "\n",
    "- Số lượng giá trị siêu tham số tối đa trong một lần tìm kiếm: 20\n",
    "\n",
    "- Sử dụng GridSearchCV trong sklearn.model_selection.\n",
    "\n",
    "- Không nên sử dụng dữ liệu kiểm tra để tìm ra các tham số tốt nhất.\n",
    "\n",
    "- F1 score trên dữ liệu kiểm tra phải cao hơn **0.6**, Jaccard score phải cao hơn **0.4**."
   ]
  },
  {
   "cell_type": "code",
   "execution_count": 14,
   "metadata": {
    "id": "CnE8pvjvM1lG"
   },
   "outputs": [],
   "source": [
    "from sklearn import tree"
   ]
  },
  {
   "cell_type": "code",
   "execution_count": 15,
   "metadata": {
    "id": "RPdHH2HiM1lI"
   },
   "outputs": [
    {
     "name": "stdout",
     "output_type": "stream",
     "text": [
      "{'criterion': 'entropy', 'max_depth': 3}\n",
      "f1 score DT_test:  0.7058823529411766\n",
      "f1 score DT_train:  0.7104722792607802\n",
      "Jaccard score DT_test:  0.6875\n",
      "Jaccard score DT_train:  0.6795454545454546\n"
     ]
    }
   ],
   "source": [
    "#Nhập code của bạn ở đây:\n",
    "from sklearn.tree import DecisionTreeClassifier\n",
    "clf = DecisionTreeClassifier()\n",
    "clf.fit(X_Train,Y_Train)\n",
    "\n",
    "param_dist={\n",
    "    \"criterion\":[\"gini\",\"entropy\"],\n",
    "    \"max_depth\":[1,2,3,4,5,6,7,None]\n",
    "}\n",
    "\n",
    "grid = GridSearchCV(clf,param_grid=param_dist,cv=10,n_jobs=-1)\n",
    "grid.fit(X_Train,Y_Train)\n",
    "print(grid.best_params_)\n",
    "\n",
    "# chọn criterion là entropy và max_depth là 3\n",
    "HasDiabetes_Tree = DecisionTreeClassifier(criterion=\"entropy\", max_depth = 4)\n",
    "HasDiabetes_Tree.fit(X_Train, Y_Train)\n",
    "y_pred_tree = HasDiabetes_Tree.predict(X_Test)\n",
    "y_pred_tree_train = HasDiabetes_Tree.predict(X_Train)\n",
    "\n",
    "# in ra các giá trị f1-score và jaccard\n",
    "print('f1 score DT_test: ', f1_score(Y_Test,y_pred_tree))\n",
    "print('f1 score DT_train: ', f1_score(Y_Train,y_pred_tree_train))\n",
    "print('Jaccard score DT_test: ',jaccard_score(Y_Test, y_pred_tree,pos_label=0))\n",
    "print('Jaccard score DT_train: ',jaccard_score(Y_Train, y_pred_tree_train,pos_label=0))\n",
    "\n",
    "# lưu vào f1_scores dict và jaccard_scores dict.\n",
    "f1_scores['test'].update({'DT': f1_score(Y_Test,y_pred_tree)})\n",
    "f1_scores['train'].update({'DT': f1_score(Y_Train,y_pred_tree_train)})\n",
    "jaccard_scores['test'].update({'DT': jaccard_score(Y_Test, y_pred_tree,pos_label=0)})\n",
    "jaccard_scores['train'].update({'DT': jaccard_score(Y_Train, y_pred_tree_train,pos_label=0)})\n"
   ]
  },
  {
   "cell_type": "markdown",
   "metadata": {
    "id": "0ZjQch2RM1lL"
   },
   "source": [
    "**Câu hỏi: Diễn giải các tham số bạn đã chọn để tinh chỉnh trong thuật toán DT.**"
   ]
  },
  {
   "cell_type": "markdown",
   "metadata": {
    "id": "g4aBT64WM1lL"
   },
   "source": [
    "Đáp án:"
   ]
  },
  {
   "cell_type": "markdown",
   "metadata": {
    "id": "nd4a59C6M1lQ"
   },
   "source": [
    "Sử dụng GridSerchCV cho 10 vòng lặp và xem đâu là giá trị tốt nhất của decision tree như đoạn code ở trên"
   ]
  },
  {
   "cell_type": "markdown",
   "metadata": {
    "id": "DwO5te8nQAEJ"
   },
   "source": [
    "## Task 11: Support Vector Machine\n",
    "\n",
    "Tinh chỉnh siêu tham số để có được mô hình SVM với độ chính xác tốt nhất. \n",
    "\n",
    "In ra các giá trị siêu tham số của mô hình SVM với độ chính xác tốt nhất.\n",
    "\n",
    "Đưa ra dự đoán từ dữ liệu huấn luyện và kiếm tra trên mô hình SVM. \n",
    "\n",
    "Tính f1 score và Jaccard score rồi lưu vào f1_scores dict và jaccard_scores dict.\n",
    "\n",
    "Yêu cầu:\n",
    "\n",
    "- Số lượng siêu tham số tối thiểu: 3\n",
    "\n",
    "- Số lượng giá trị siêu tham số tối đa trong một lần tìm kiếm: 20\n",
    "\n",
    "- Sử dụng GridSearchCV trong sklearn.model_selection.\n",
    "\n",
    "- Không nên sử dụng dữ liệu kiểm tra để tìm ra các tham số tốt nhất.\n",
    "\n",
    "- F1 score trên dữ liệu kiểm tra phải cao hơn **0.6**, Jaccard score phải cao hơn **0.4**."
   ]
  },
  {
   "cell_type": "code",
   "execution_count": 16,
   "metadata": {
    "id": "WUwo79EMM1lR"
   },
   "outputs": [
    {
     "name": "stdout",
     "output_type": "stream",
     "text": [
      "{'clf__C': 0.01, 'clf__kernel': 'linear'}\n"
     ]
    }
   ],
   "source": [
    "from sklearn.svm import SVC\n",
    "from sklearn.pipeline import Pipeline\n",
    "pipe_svc = Pipeline([('scl', StandardScaler()),('clf', SVC(random_state=7))])\n",
    "param_range = [0.0001, 0.001, 0.01, 0.1, 1.0, 10.0, 100.0, 1000.0]\n",
    "param_grid = [{'clf__C': param_range,'clf__kernel': ['linear']},{'clf__C': param_range,'clf__gamma': param_range,'clf__kernel': ['rbf']}]\n",
    "gs = GridSearchCV(estimator=pipe_svc,param_grid=param_grid,scoring='accuracy',cv=10,n_jobs=-1)\n",
    "gs = gs.fit(X_Train, Y_Train)\n",
    "print(gs.best_params_)"
   ]
  },
  {
   "cell_type": "code",
   "execution_count": 17,
   "metadata": {
    "id": "JMxZtQa8M1lT"
   },
   "outputs": [
    {
     "name": "stdout",
     "output_type": "stream",
     "text": [
      "f1 score SVM_test:  0.6363636363636364\n",
      "f1 score SVM_train:  0.6115702479338844\n",
      "Jaccard score SVM_test:  0.746031746031746\n",
      "Jaccard score SVM_train:  0.7191235059760956\n"
     ]
    }
   ],
   "source": [
    "# Nhập code của bạn ở đây:\n",
    "from sklearn import svm\n",
    "clf_SVC = svm.SVC(C=0.01, kernel = 'linear')\n",
    "clf_SVC.fit(X_Train, Y_Train)\n",
    "y_pred_SVM = clf_SVC.predict(X_Test)\n",
    "y_pred_SVM_train = clf_SVC.predict(X_Train)\n",
    "\n",
    "# in giá trị f1_scores và jaccard_scores\n",
    "print('f1 score SVM_test: ', f1_score(Y_Test,y_pred_SVM))\n",
    "print('f1 score SVM_train: ', f1_score(Y_Train,y_pred_SVM_train))\n",
    "print('Jaccard score SVM_test: ',jaccard_score(Y_Test, y_pred_SVM,pos_label=0))\n",
    "print('Jaccard score SVM_train: ',jaccard_score(Y_Train, y_pred_SVM_train,pos_label=0))\n",
    "\n",
    "# lưu vào f1_scores dict và jaccard_scores dict.\n",
    "f1_scores['test'].update({'SVM': f1_score(Y_Test,y_pred_SVM)})\n",
    "f1_scores['train'].update({'SVM': f1_score(Y_Train,y_pred_SVM_train)})\n",
    "jaccard_scores['test'].update({'SVM': jaccard_score(Y_Test, y_pred_SVM,pos_label=0)})\n",
    "jaccard_scores['train'].update({'SVM': jaccard_score(Y_Train, y_pred_SVM_train,pos_label=0)})"
   ]
  },
  {
   "cell_type": "markdown",
   "metadata": {
    "id": "03XgTdoPM1lW"
   },
   "source": [
    "**Câu hỏi: Diễn giải các tham số bạn đã chọn để tinh chỉnh trong thuật toán SVM.**"
   ]
  },
  {
   "cell_type": "markdown",
   "metadata": {
    "id": "wz0N8-CIM1lW"
   },
   "source": [
    "Đáp án:"
   ]
  },
  {
   "cell_type": "markdown",
   "metadata": {
    "id": "nTQkBQIXM1la"
   },
   "source": [
    "## Task 12: Logistic Regression\n",
    "\n",
    "Tinh chỉnh siêu tham số để có được mô hình LR với độ chính xác tốt nhất. \n",
    "\n",
    "In ra các giá trị siêu tham số của mô hình LR với độ chính xác tốt nhất.\n",
    "\n",
    "Đưa ra dự đoán từ dữ liệu huấn luyện và kiếm tra trên mô hình LR. \n",
    "\n",
    "Tính f1 score và Jaccard score rồi lưu vào f1_scores dict và jaccard_scores dict.\n",
    "\n",
    "Yêu cầu:\n",
    "\n",
    "- Số lượng siêu tham số tối thiểu: 3\n",
    "\n",
    "- Số lượng giá trị siêu tham số tối đa trong một lần tìm kiếm: 20\n",
    "\n",
    "- Sử dụng GridSearchCV trong sklearn.model_selection.\n",
    "\n",
    "- Không nên sử dụng dữ liệu kiểm tra để tìm ra các tham số tốt nhất.\n",
    "\n",
    "- F1 score trên dữ liệu kiểm tra phải cao hơn **0.6**, Jaccard score phải cao hơn **0.4**."
   ]
  },
  {
   "cell_type": "code",
   "execution_count": 18,
   "metadata": {
    "id": "cWFYayQLM1lb"
   },
   "outputs": [
    {
     "name": "stdout",
     "output_type": "stream",
     "text": [
      "{'C': 1.0, 'penalty': 'l2', 'solver': 'liblinear'}\n"
     ]
    }
   ],
   "source": [
    "from sklearn.linear_model import LogisticRegression\n",
    "from sklearn.model_selection import StratifiedKFold\n",
    "model = LogisticRegression(solver ='liblinear')  \n",
    "solver_list = ['liblinear']  \n",
    "penalty_type = ['l2']  \n",
    "c_values = [0.0001, 0.001, 0.01, 0.1, 1.0, 10.0, 100.0, 1000.0]  \n",
    "\n",
    "grid_lr = dict(solver = solver_list, penalty = penalty_type, C = c_values)  \n",
    "cross_val = StratifiedKFold(n_splits = 100, random_state = 10, shuffle = True)  \n",
    "grid_search_cv = GridSearchCV(estimator = model, param_grid = grid_lr, cv = cross_val, scoring = 'accuracy', error_score = 0)  \n",
    "lr_result = grid_search_cv.fit(X_Train, Y_Train)\n",
    "print(lr_result.best_params_)"
   ]
  },
  {
   "cell_type": "code",
   "execution_count": 19,
   "metadata": {
    "id": "7szXdAHTM1lc"
   },
   "outputs": [
    {
     "name": "stdout",
     "output_type": "stream",
     "text": [
      "f1 score LR_test:  0.6373626373626374\n",
      "f1 score LR_train:  0.640826873385013\n",
      "Jaccard score LR_test:  0.736\n",
      "Jaccard score LR_train:  0.7157464212678937\n"
     ]
    }
   ],
   "source": [
    "# Nhập code của bạn ở đây:\n",
    "LR = LogisticRegression(C=1, solver='liblinear').fit(X_Train,Y_Train)\n",
    "y_pred_LR = LR.predict(X_Test)\n",
    "y_pred_LR_train = LR.predict(X_Train)\n",
    "\n",
    "# in giá trị f1_scores và jaccard_scores\n",
    "print('f1 score LR_test: ', f1_score(Y_Test,y_pred_LR))\n",
    "print('f1 score LR_train: ', f1_score(Y_Train,y_pred_LR_train))\n",
    "print('Jaccard score LR_test: ',jaccard_score(Y_Test, y_pred_LR,pos_label=0))\n",
    "print('Jaccard score LR_train: ',jaccard_score(Y_Train, y_pred_LR_train,pos_label=0))\n",
    "\n",
    "# lưu vào f1_scores dict và jaccard_scores dict.\n",
    "f1_scores['test'].update({'LR': f1_score(Y_Test,y_pred_LR)})\n",
    "f1_scores['train'].update({'LR': f1_score(Y_Train,y_pred_LR_train)})\n",
    "jaccard_scores['test'].update({'LR': jaccard_score(Y_Test, y_pred_LR,pos_label=0)})\n",
    "jaccard_scores['train'].update({'LR': jaccard_score(Y_Train, y_pred_LR_train,pos_label=0)})"
   ]
  },
  {
   "cell_type": "markdown",
   "metadata": {
    "id": "pfPytCDYM1le"
   },
   "source": [
    "**Câu hỏi: Diễn giải các tham số bạn đã chọn để tinh chỉnh trong thuật toán LR.**"
   ]
  },
  {
   "cell_type": "markdown",
   "metadata": {
    "id": "RmPs5O5RM1lf"
   },
   "source": [
    "Đáp án:"
   ]
  },
  {
   "cell_type": "markdown",
   "metadata": {
    "id": "yrxU775odFQx"
   },
   "source": [
    "## Task 13: Neural Network\n",
    "\n",
    "Tinh chỉnh siêu tham số để có được mô hình NN với độ chính xác tốt nhất. \n",
    "\n",
    "In ra các giá trị siêu tham số của mô hình NN với độ chính xác tốt nhất.\n",
    "\n",
    "Đưa ra dự đoán từ dữ liệu huấn luyện và kiếm tra trên mô hình NN. \n",
    "\n",
    "Tính f1 score và Jaccard score rồi lưu vào f1_scores dict và jaccard_scores dict.\n",
    "\n",
    "Yêu cầu:\n",
    "\n",
    "- Số lượng siêu tham số tối thiểu: 3\n",
    "\n",
    "- Số lượng giá trị siêu tham số tối đa trong một lần tìm kiếm: 20\n",
    "\n",
    "- Sử dụng GridSearchCV trong sklearn.model_selection.\n",
    "\n",
    "- Không nên sử dụng dữ liệu kiểm tra để tìm ra các tham số tốt nhất.\n",
    "\n",
    "- F1 score trên dữ liệu kiểm tra phải cao hơn **0.6**, Jaccard score phải cao hơn **0.4**."
   ]
  },
  {
   "cell_type": "code",
   "execution_count": 20,
   "metadata": {
    "id": "-sFoZYw2dFQx"
   },
   "outputs": [
    {
     "name": "stdout",
     "output_type": "stream",
     "text": [
      "{'activation': 'identity', 'alpha': 0.01, 'hidden_layer_sizes': (50, 50, 50), 'learning_rate': 'adaptive', 'solver': 'sgd'}\n"
     ]
    },
    {
     "name": "stderr",
     "output_type": "stream",
     "text": [
      "C:\\Users\\Hades\\anaconda3\\lib\\site-packages\\sklearn\\neural_network\\_multilayer_perceptron.py:582: ConvergenceWarning: Stochastic Optimizer: Maximum iterations (100) reached and the optimization hasn't converged yet.\n",
      "  warnings.warn(\n"
     ]
    }
   ],
   "source": [
    "from sklearn.neural_network import MLPClassifier\n",
    "model_MLP = MLPClassifier(max_iter=100)\n",
    "parameter_space = {\n",
    "    'hidden_layer_sizes': [(50,50,50), (50,100,50), (100,)],\n",
    "    'activation': ['relu','tanh','identity', 'logistic'],\n",
    "    'solver': ['lbfgs', 'sgd', 'adam'],\n",
    "    'alpha': [0.0001, 0.001, 0.01, 0.1, 1.0, 10.0, 100.0, 1000.0],\n",
    "    'learning_rate': ['constant', 'invscaling', 'adaptive'],\n",
    "}\n",
    "\n",
    "clf_MLP = GridSearchCV(model_MLP, parameter_space, n_jobs=-1, cv=3)\n",
    "clf_MLP.fit(X_Train, Y_Train)\n",
    "print(clf_MLP.best_params_)"
   ]
  },
  {
   "cell_type": "code",
   "execution_count": 21,
   "metadata": {
    "id": "rqAn-L4ndFQx"
   },
   "outputs": [
    {
     "name": "stdout",
     "output_type": "stream",
     "text": [
      "f1 score NN_test:  0.6444444444444445\n",
      "f1 score NN_train:  0.6321243523316061\n",
      "Jaccard score NN_test:  0.744\n",
      "Jaccard score NN_train:  0.7107942973523421\n"
     ]
    }
   ],
   "source": [
    "# Nhập code của bạn ở đây:\n",
    "MLP = MLPClassifier(hidden_layer_sizes=(50, 100, 50),\n",
    "    activation = 'identity',                \n",
    "    alpha=0.0001,\n",
    "    solver=\"sgd\",\n",
    "    random_state=1,\n",
    "    learning_rate='adaptive').fit(X_Train, Y_Train)\n",
    "y_pred_MLP = MLP.predict(X_Test)\n",
    "y_pred_MLP_train = MLP.predict(X_Train)\n",
    "\n",
    "# in giá trị f1_scores và jaccard_scores\n",
    "print('f1 score NN_test: ', f1_score(Y_Test,y_pred_MLP))\n",
    "print('f1 score NN_train: ', f1_score(Y_Train,y_pred_MLP_train))\n",
    "print('Jaccard score NN_test: ',jaccard_score(Y_Test, y_pred_MLP,pos_label=0))\n",
    "print('Jaccard score NN_train: ',jaccard_score(Y_Train, y_pred_MLP_train,pos_label=0))\n",
    "\n",
    "# lưu vào f1_scores dict và jaccard_scores dict.\n",
    "f1_scores['test'].update({'NN': f1_score(Y_Test,y_pred_MLP)})\n",
    "f1_scores['train'].update({'NN': f1_score(Y_Train,y_pred_MLP_train)})\n",
    "jaccard_scores['test'].update({'NN': jaccard_score(Y_Test, y_pred_MLP,pos_label=0)})\n",
    "jaccard_scores['train'].update({'NN': jaccard_score(Y_Train, y_pred_MLP_train,pos_label=0)})"
   ]
  },
  {
   "cell_type": "markdown",
   "metadata": {
    "id": "YRIEUAobdFQx"
   },
   "source": [
    "**Câu hỏi: Diễn giải các tham số bạn đã chọn để tinh chỉnh trong thuật toán NN.**"
   ]
  },
  {
   "cell_type": "markdown",
   "metadata": {
    "id": "DtICdIHwdFQx"
   },
   "source": [
    "Đáp án:"
   ]
  },
  {
   "cell_type": "markdown",
   "metadata": {
    "id": "8-eteyNxM1lo"
   },
   "source": [
    "## Task 14: Soft Voting Ensemble \n",
    "\n",
    "Điều chỉnh trọng số trong Soft Voting Ensemble để đưa ra kết quả dự đoán tốt nhất.\n",
    "\n",
    "Đưa ra dự đoán từ dữ liệu huấn luyện và kiếm tra trên mô hình soft voting ensembling model. \n",
    "\n",
    "Tính f1 score và Jaccard score rồi lưu vào f1_scores dict và jaccard_scores dict.\n",
    "\n",
    "Yêu cầu:\n",
    "\n",
    "- Sử dụng 5 mô hình trên\n",
    "\n",
    "- Sử dụng cùng một thiết lập cho 5 mô hình như các bước trên.\n",
    "\n",
    "- F1 score trên dữ liệu kiểm tra phải lớn hơn **0.66**, Jaccard similarity score phải lớn hơn **0.5**."
   ]
  },
  {
   "cell_type": "code",
   "execution_count": 22,
   "metadata": {
    "id": "G7FfposgM1lp"
   },
   "outputs": [
    {
     "data": {
      "text/plain": [
       "VotingClassifier(estimators=[('knn', KNeighborsClassifier(n_neighbors=17)),\n",
       "                             ('dt',\n",
       "                              DecisionTreeClassifier(criterion='entropy',\n",
       "                                                     max_depth=4)),\n",
       "                             ('svm',\n",
       "                              SVC(C=0.01, kernel='linear', probability=True)),\n",
       "                             ('lr',\n",
       "                              LogisticRegression(C=1, solver='liblinear')),\n",
       "                             ('sgd',\n",
       "                              MLPClassifier(activation='identity',\n",
       "                                            hidden_layer_sizes=(50, 100, 50),\n",
       "                                            learning_rate='adaptive',\n",
       "                                            random_state=1, solver='sgd'))],\n",
       "                 voting='soft', weights=[1, 1, 2, 2, 1])"
      ]
     },
     "execution_count": 22,
     "metadata": {},
     "output_type": "execute_result"
    }
   ],
   "source": [
    "from sklearn.ensemble import VotingClassifier\n",
    "clf1 = KNeighborsClassifier(n_neighbors = 17)\n",
    "clf2 = DecisionTreeClassifier(criterion=\"entropy\", max_depth = 4)\n",
    "clf3 = svm.SVC(C=0.01, kernel = 'linear', probability=True)\n",
    "clf4 = LogisticRegression(C=1, solver='liblinear')\n",
    "clf5 = MLPClassifier(hidden_layer_sizes=(50, 100, 50),\n",
    "    activation = 'identity',                \n",
    "    alpha=0.0001,\n",
    "    solver=\"sgd\",\n",
    "    random_state=1,\n",
    "    learning_rate='adaptive')\n",
    "\n",
    "eclf = VotingClassifier(estimators=[('knn', clf1), ('dt', clf2), ('svm', clf3),('lr',clf4),('sgd',clf5)], voting='soft', weights=[1,1,2,2,1])\n",
    "eclf.fit(X_Train,Y_Train)"
   ]
  },
  {
   "cell_type": "code",
   "execution_count": 23,
   "metadata": {
    "id": "J-EjCxe6M1ls"
   },
   "outputs": [
    {
     "name": "stdout",
     "output_type": "stream",
     "text": [
      "f1 score soft_voting_test:  0.6666666666666666\n",
      "f1 score soft_voting_train:  0.6370757180156658\n",
      "Jaccard score soft_voting_test:  0.7479674796747967\n",
      "Jaccard score soft_voting_train:  0.7169042769857433\n"
     ]
    }
   ],
   "source": [
    "# Nhập code của bạn ở đây:\n",
    "y_pred_voting = eclf.predict(X_Test)\n",
    "y_pred_voting_train = eclf.predict(X_Train)\n",
    "\n",
    "# in giá trị f1_scores và jaccard_scores\n",
    "print('f1 score soft_voting_test: ', f1_score(Y_Test,y_pred_voting))\n",
    "print('f1 score soft_voting_train: ', f1_score(Y_Train,y_pred_voting_train))\n",
    "print('Jaccard score soft_voting_test: ',jaccard_score(Y_Test, y_pred_voting,pos_label=0))\n",
    "print('Jaccard score soft_voting_train: ',jaccard_score(Y_Train, y_pred_voting_train,pos_label=0))\n",
    "\n",
    "# lưu vào f1_scores dict và jaccard_scores dict.\n",
    "f1_scores['test'].update({'EN_SOFT': f1_score(Y_Test,y_pred_voting)})\n",
    "f1_scores['train'].update({'EN_SOFT': f1_score(Y_Train,y_pred_voting_train)})\n",
    "jaccard_scores['test'].update({'EN_SOFT': jaccard_score(Y_Test, y_pred_voting,pos_label=0)})\n",
    "jaccard_scores['train'].update({'EN_SOFT': jaccard_score(Y_Train, y_pred_voting_train,pos_label=0)})"
   ]
  },
  {
   "cell_type": "markdown",
   "metadata": {
    "id": "d9vVirtTM1lw"
   },
   "source": [
    "## Task 15: Hard Voting Ensemble \n",
    "\n",
    "Điều chỉnh trọng số trong Hard Voting Ensemble để đưa ra kết quả dự đoán tốt nhất.\n",
    "\n",
    "Đưa ra dự đoán từ dữ liệu huấn luyện và kiếm tra trên mô hình hard voting ensembling model. \n",
    "\n",
    "Tính f1 score và Jaccard score rồi lưu vào f1_scores dict và jaccard_scores dict.\n",
    "\n",
    "Yêu cầu:\n",
    "\n",
    "- Sử dụng 5 mô hình trên\n",
    "\n",
    "- Sử dụng cùng một thiết lập cho 5 mô hình như các bước trên.\n",
    "\n",
    "- F1 score trên dữ liệu kiểm tra phải lớn hơn **0.57**, Jaccard similarity score phải lớn hơn **0.45**."
   ]
  },
  {
   "cell_type": "code",
   "execution_count": 24,
   "metadata": {
    "id": "0n-qRxd5M1lx"
   },
   "outputs": [
    {
     "name": "stdout",
     "output_type": "stream",
     "text": [
      "f1 score hard_voting:  0.6593406593406594\n",
      "f1 score hard_voting:  0.6421052631578947\n",
      "Jaccard score hard_voting:  0.75\n",
      "Jaccard score hard_voting:  0.7230142566191446\n"
     ]
    }
   ],
   "source": [
    "# Nhập code của bạn ở đây:\n",
    "eclf_hard = VotingClassifier(estimators=[('knn', clf1), ('dt', clf2), ('svm', clf3),('lr',clf4),('sgd',clf5)], voting='hard', weights=[1,1,2,2,1])\n",
    "eclf_hard.fit(X_Train,Y_Train)\n",
    "\n",
    "y_pred_voting_hard = eclf_hard.predict(X_Test)\n",
    "y_pred_voting_hard_train = eclf_hard.predict(X_Train)\n",
    "\n",
    "# in giá trị f1_scores và jaccard_scores\n",
    "print('f1 score hard_voting: ', f1_score(Y_Test,y_pred_voting_hard))\n",
    "print('f1 score hard_voting: ', f1_score(Y_Train,y_pred_voting_hard_train))\n",
    "print('Jaccard score hard_voting: ',jaccard_score(Y_Test, y_pred_voting_hard,pos_label=0))\n",
    "print('Jaccard score hard_voting: ',jaccard_score(Y_Train, y_pred_voting_hard_train,pos_label=0))\n",
    "\n",
    "# lưu vào f1_scores dict và jaccard_scores dict.\n",
    "f1_scores['test'].update({'EN_HARD': f1_score(Y_Test,y_pred_voting_hard)})\n",
    "f1_scores['train'].update({'EN_HARD': f1_score(Y_Train,y_pred_voting_hard_train)})\n",
    "jaccard_scores['test'].update({'EN_HARD': jaccard_score(Y_Test, y_pred_voting_hard,pos_label=0)})\n",
    "jaccard_scores['train'].update({'EN_HARD': jaccard_score(Y_Train, y_pred_voting_hard_train,pos_label=0)})"
   ]
  },
  {
   "cell_type": "markdown",
   "metadata": {
    "id": "RmteU8YeM1l3"
   },
   "source": [
    "# Báo cáo\n",
    "Bạn có thể tường thuật độ chính xác của mô hình đã xây bằng cách sử dụng các phép đo đánh giá khác nhau:"
   ]
  },
  {
   "cell_type": "markdown",
   "metadata": {
    "id": "c3q0IThKM1l3"
   },
   "source": [
    "| Algorithm | Jaccard-training | F1-score-training |Jaccard-testing | F1-score-testing |\n",
    "|-----------|------------------|-------------------|----------------|------------------|\n",
    "| KNN | ? | ? |  ? |  ? |\n",
    "| Decision Tree | ? | ? |  ? |  ? |\n",
    "| SVM | ? | ? |  ? |  ? |\n",
    "| Logistic Regression| ? | ? |  ? |  ? |   \n",
    "| Neural Network| ? | ? |  ? |  ? |\n",
    "| Hard Voting | ? | ? |  ? |  ? |\n",
    "| Soft Voting | ? | ? |  ? |  ? |\n"
   ]
  },
  {
   "cell_type": "markdown",
   "metadata": {
    "id": "PpqjW-eOM1l3"
   },
   "source": [
    "## Task 16: Tạo data frame mô tả kết quả chính xác như trên."
   ]
  },
  {
   "cell_type": "code",
   "execution_count": 25,
   "metadata": {
    "id": "pI3_EsgtM1l4"
   },
   "outputs": [
    {
     "data": {
      "text/html": [
       "<div>\n",
       "<style scoped>\n",
       "    .dataframe tbody tr th:only-of-type {\n",
       "        vertical-align: middle;\n",
       "    }\n",
       "\n",
       "    .dataframe tbody tr th {\n",
       "        vertical-align: top;\n",
       "    }\n",
       "\n",
       "    .dataframe thead th {\n",
       "        text-align: right;\n",
       "    }\n",
       "</style>\n",
       "<table border=\"1\" class=\"dataframe\">\n",
       "  <thead>\n",
       "    <tr style=\"text-align: right;\">\n",
       "      <th>Algorithm</th>\n",
       "      <th>Jaccard-training</th>\n",
       "      <th>F1-score-training</th>\n",
       "      <th>Jaccard-testing</th>\n",
       "      <th>F1-score-testing</th>\n",
       "    </tr>\n",
       "  </thead>\n",
       "  <tbody>\n",
       "    <tr>\n",
       "      <th>KNN</th>\n",
       "      <td>0.731959</td>\n",
       "      <td>0.663212</td>\n",
       "      <td>0.756098</td>\n",
       "      <td>0.673913</td>\n",
       "    </tr>\n",
       "    <tr>\n",
       "      <th>Decision Tree</th>\n",
       "      <td>0.679545</td>\n",
       "      <td>0.710472</td>\n",
       "      <td>0.687500</td>\n",
       "      <td>0.705882</td>\n",
       "    </tr>\n",
       "    <tr>\n",
       "      <th>SVM</th>\n",
       "      <td>0.719124</td>\n",
       "      <td>0.611570</td>\n",
       "      <td>0.746032</td>\n",
       "      <td>0.636364</td>\n",
       "    </tr>\n",
       "    <tr>\n",
       "      <th>Logistic Regression</th>\n",
       "      <td>0.715746</td>\n",
       "      <td>0.640827</td>\n",
       "      <td>0.736000</td>\n",
       "      <td>0.637363</td>\n",
       "    </tr>\n",
       "    <tr>\n",
       "      <th>Neural Network</th>\n",
       "      <td>0.710794</td>\n",
       "      <td>0.632124</td>\n",
       "      <td>0.744000</td>\n",
       "      <td>0.644444</td>\n",
       "    </tr>\n",
       "    <tr>\n",
       "      <th>Hard Voting</th>\n",
       "      <td>0.723014</td>\n",
       "      <td>0.642105</td>\n",
       "      <td>0.750000</td>\n",
       "      <td>0.659341</td>\n",
       "    </tr>\n",
       "    <tr>\n",
       "      <th>Soft Voting</th>\n",
       "      <td>0.716904</td>\n",
       "      <td>0.637076</td>\n",
       "      <td>0.747967</td>\n",
       "      <td>0.666667</td>\n",
       "    </tr>\n",
       "  </tbody>\n",
       "</table>\n",
       "</div>"
      ],
      "text/plain": [
       "Algorithm            Jaccard-training  F1-score-training  Jaccard-testing  \\\n",
       "KNN                          0.731959           0.663212         0.756098   \n",
       "Decision Tree                0.679545           0.710472         0.687500   \n",
       "SVM                          0.719124           0.611570         0.746032   \n",
       "Logistic Regression          0.715746           0.640827         0.736000   \n",
       "Neural Network               0.710794           0.632124         0.744000   \n",
       "Hard Voting                  0.723014           0.642105         0.750000   \n",
       "Soft Voting                  0.716904           0.637076         0.747967   \n",
       "\n",
       "Algorithm            F1-score-testing  \n",
       "KNN                          0.673913  \n",
       "Decision Tree                0.705882  \n",
       "SVM                          0.636364  \n",
       "Logistic Regression          0.637363  \n",
       "Neural Network               0.644444  \n",
       "Hard Voting                  0.659341  \n",
       "Soft Voting                  0.666667  "
      ]
     },
     "execution_count": 25,
     "metadata": {},
     "output_type": "execute_result"
    }
   ],
   "source": [
    "# Nhập code của bạn ở đây:\n",
    "result = pd.DataFrame(jaccard_scores['train'].values())\n",
    "result['F1-score-training'] = f1_scores['train'].values()\n",
    "result['Jaccard-testing'] = jaccard_scores['test'].values()\n",
    "result['F1-score-testing'] = f1_scores['test'].values()\n",
    "\n",
    "result_rename = result.rename(columns = {0: 'Jaccard-training'}, \n",
    "              index = {0: 'KNN',\n",
    "                       1: 'Decision Tree', \n",
    "                       2: 'SVM',\n",
    "                       3: 'Logistic Regression', \n",
    "                       4: 'Neural Network', \n",
    "                       5: 'Hard Voting', \n",
    "                       6: 'Soft Voting'})\n",
    "\n",
    "result_rename.rename_axis('Algorithm', axis = 1)"
   ]
  },
  {
   "cell_type": "markdown",
   "metadata": {
    "id": "TYifTRP7M1l5"
   },
   "source": [
    "**Câu hỏi: Có phải các phương pháp ensemble luôn tốt hơn một mô hình đơn lẻ không? Nếu không, hãy giải thích tại sao?**"
   ]
  },
  {
   "cell_type": "markdown",
   "metadata": {
    "id": "450BrJ44M1l6"
   },
   "source": [
    "Trả lời: không \n"
   ]
  }
 ],
 "metadata": {
  "colab": {
   "collapsed_sections": [],
   "provenance": []
  },
  "kernelspec": {
   "display_name": "Python 3",
   "language": "python",
   "name": "python3"
  },
  "language_info": {
   "codemirror_mode": {
    "name": "ipython",
    "version": 3
   },
   "file_extension": ".py",
   "mimetype": "text/x-python",
   "name": "python",
   "nbconvert_exporter": "python",
   "pygments_lexer": "ipython3",
   "version": "3.8.5"
  }
 },
 "nbformat": 4,
 "nbformat_minor": 4
}
