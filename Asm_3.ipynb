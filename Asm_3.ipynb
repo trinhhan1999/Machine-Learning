{
 "cells": [
  {
   "cell_type": "markdown",
   "metadata": {
    "_uuid": "d7aa1b0ad6979877450f9cd89e1e37289b51cf6e",
    "id": "R3jbcteqxNsn"
   },
   "source": [
    "<h1 align=center><font size = 10> ASM 3 </font></h1>"
   ]
  },
  {
   "cell_type": "markdown",
   "metadata": {
    "id": "JR7XtfXe67ez"
   },
   "source": [
    "# Bài toán\n"
   ]
  },
  {
   "cell_type": "markdown",
   "metadata": {
    "_cell_guid": "79c7e3d0-c299-4dcb-8224-4455121ee9b0",
    "_uuid": "d629ff2d2480ee46fbb7e2d37f6b5fab8052498a",
    "id": "LeG_7nXxxNsp"
   },
   "source": [
    "Sự phát triển nhanh chóng của việc thu thập dữ liệu đã dẫn đến một kỷ nguyên thông tin mới. Dữ liệu đang được sử dụng nhằm tạo ra các hệ thống giúp con người có thể đạt được nhiều mục tiêu một cách dễ dàng hơn. Trong phim ảnh, một Hệ Thống Đề Xuất ***`(recommender system)`*** có thể giúp con người nhanh chóng tiếp cận những bộ phim mà họ thích, giảm thời gian tìm kiếm và nhanh chóng tiếp cận đến người dùng. Hệ thống Đề xuất là một loại **hệ thống lọc thông tin** cải thiện chất lượng kết quả tìm kiếm và cung cấp các mục phù hợp hơn với mục tìm kiếm hoặc được xác định với lịch sử tìm kiếm của người dùng.\n"
   ]
  },
  {
   "cell_type": "markdown",
   "metadata": {
    "_uuid": "65dbae55f1e6e06c5fa7251f8ddae887d3fbf480",
    "id": "0r2Ta1p9xNsq"
   },
   "source": [
    "Trong Asm này, chúng ta sẽ xây dựng các loại Hệ Thống Đề Xuất khác nhau cho người dùng. Điều này không chỉ giúp chúng ta có cái nhìn tổng thể với nhiều loại Hệ Thống Đề Xuất khác nhau mà còn giúp chúng ta có thể chọn lựa loại Hệ Thống Đề Xuất phù hợp với bối cảnh. \n",
    "\n",
    "1. Bắt đầu từ hệ thống đơn giản nhất là dựa vào đánh giá của người dùng đến từng bộ phim***` (demographic filtering)`***, từ đó chúng ta có thể đề xuất những bộ phim nổi trội, đang được người dùng đánh giá tốt và bắt trend. \n",
    "\n",
    "2. Sau đó là Hệ Thống Đề Xuất phức tạp hơn dựa trên nội dung phim ***`(content-based filtering)`***, giúp chúng ta có thể đề xuất những bộ phim tương quan với bộ phim mà người dùng đang xem hoặc chú ý đến. \n",
    "\n",
    "3. Cuối cùng chúng ta sẽ được xây dựng một Hệ Thống Đề Xuất dựa vào lịch sử đánh giá của người dùng về các bộ phim thông qua phương pháp Lọc Cộng Tác ***`(collaborative filtering)`***, cụ thể hơn chúng ta sẽ sử dụng một phương pháp khác phục một số nhược điểm của Lọc Cộng Tác là Matrix Factorization. Đồng thời trong phần này, bạn sẽ được tiếp cận một thư viện mới vô cùng hữu ích cho các Hệ Thống Đề Xuất."
   ]
  },
  {
   "cell_type": "markdown",
   "metadata": {
    "id": "UxlB9KePJk5Y"
   },
   "source": [
    "# Pipeline \n",
    "\n",
    "1. Đọc dữ liệu.\n",
    "\n",
    "2. Xây dựng Hệ Thống Đề Xuất bằng phương pháp Demographic Filtering.\n",
    "\n",
    "3. Xây dựng Hệ Thống Đề Xuất bằng phương pháp Content Based Filtering.\n",
    "\n",
    "  - Xây dựng bằng tổng quan của phim.\n",
    "\n",
    "  - Xây dựng bằng thông tin của phim bao gồm: đạo diễn, diễn viên chính, keywords, thể loại phim.\n",
    "\n",
    "4. Xây dựng Hệ Thống Đề Xuất bằng phương pháp Collaborative Filtering bằng SVD."
   ]
  },
  {
   "cell_type": "markdown",
   "metadata": {
    "_uuid": "402a28d17c13bba3f2060d72c2ff75f5377a9f01",
    "id": "UTN6kMd7xNsu"
   },
   "source": [
    "# Tập dữ liệu\n",
    "\n",
    "**credits** bao gồm các đặc trưng sau:\n",
    "\n",
    "* **movie_id**: id của phim\n",
    "* **cast**: tên của các diễn viên chính và phụ.\n",
    "* **crew**: tên của các nhân viên trong quá trình sản xuất phim (đạo diễn, editor, người soạn nhạc, v.v.)\n",
    "\n",
    "**movies** bao gồm các đặc trưng sau:\n",
    "\n",
    "* **budget**: kinh phí thực hiện bộ phim.\n",
    "* **genre**: các thể loại của phim.\n",
    "* **homepage**: liên kết đến trang chủ của bộ phim.\n",
    "* **id**: thông tin về movie_id như trong tập dữ liệu tmdb_5000_credits.\n",
    "* **keywords**: các từ khóa hoặc thẻ liên quan đến bộ phim.\n",
    "* **original_language**: ngôn ngữ trong bộ phim sử dụng.\n",
    "* **original_title**: tên phim trước khi dịch hoặc chuyển thể.\n",
    "* **overview**: mô tả ngắn gọn về bộ phim.\n",
    "* **popularity**: số lượng chỉ định mức độ phổ biến của bộ phim.\n",
    "* **production_companies**: nhà sản xuất của bộ phim.\n",
    "* **production_countries**: quốc gia sản xuất của bộ phim.\n",
    "* **release_date**: ngày mà nó được phát hành.\n",
    "* **revenue**: doanh thu trên toàn thế giới do bộ phim tạo ra.\n",
    "* **runtime**: thời gian  của phim tính bằng phút.\n",
    "* **status**: Đã phát hành hoặc còn là tin đồn.\n",
    "* **tagline**: khẩu hiệu của phim.\n",
    "* **title**: tên phim.\n",
    "* **vote_average**: đánh giá trung bình mà bộ phim nhận được.\n",
    "* **vote_count**: số lượng đánh giá."
   ]
  },
  {
   "cell_type": "markdown",
   "metadata": {
    "id": "3hh-5o3_7DK9"
   },
   "source": [
    "# Chuẩn bị dữ liệu"
   ]
  },
  {
   "cell_type": "code",
   "execution_count": 1,
   "metadata": {
    "id": "s69e85MTCNF_"
   },
   "outputs": [],
   "source": [
    "import pandas as pd \n",
    "import numpy as np \n",
    "import matplotlib.pyplot as plt"
   ]
  },
  {
   "cell_type": "markdown",
   "metadata": {
    "_uuid": "6b418588e3f9139f74cb3a9546f5dca49729579b",
    "id": "LWRxhrAixNst"
   },
   "source": [
    "## Task 1: Đọc dữ liệu creadits và movies và kết hợp 2 dữ liệu thành một dataframe. "
   ]
  },
  {
   "cell_type": "code",
   "execution_count": 2,
   "metadata": {
    "_uuid": "c1fdd129c1cbab68ae3e6bf2062575f01f80b87c",
    "id": "b0NUX41ExNst"
   },
   "outputs": [
    {
     "data": {
      "text/html": [
       "<div>\n",
       "<style scoped>\n",
       "    .dataframe tbody tr th:only-of-type {\n",
       "        vertical-align: middle;\n",
       "    }\n",
       "\n",
       "    .dataframe tbody tr th {\n",
       "        vertical-align: top;\n",
       "    }\n",
       "\n",
       "    .dataframe thead th {\n",
       "        text-align: right;\n",
       "    }\n",
       "</style>\n",
       "<table border=\"1\" class=\"dataframe\">\n",
       "  <thead>\n",
       "    <tr style=\"text-align: right;\">\n",
       "      <th></th>\n",
       "      <th>budget</th>\n",
       "      <th>genres</th>\n",
       "      <th>homepage</th>\n",
       "      <th>id</th>\n",
       "      <th>keywords</th>\n",
       "      <th>original_language</th>\n",
       "      <th>original_title</th>\n",
       "      <th>overview</th>\n",
       "      <th>popularity</th>\n",
       "      <th>production_companies</th>\n",
       "      <th>...</th>\n",
       "      <th>revenue</th>\n",
       "      <th>runtime</th>\n",
       "      <th>spoken_languages</th>\n",
       "      <th>status</th>\n",
       "      <th>tagline</th>\n",
       "      <th>title</th>\n",
       "      <th>vote_average</th>\n",
       "      <th>vote_count</th>\n",
       "      <th>cast</th>\n",
       "      <th>crew</th>\n",
       "    </tr>\n",
       "  </thead>\n",
       "  <tbody>\n",
       "    <tr>\n",
       "      <th>0</th>\n",
       "      <td>237000000</td>\n",
       "      <td>[{\"id\": 28, \"name\": \"Action\"}, {\"id\": 12, \"nam...</td>\n",
       "      <td>http://www.avatarmovie.com/</td>\n",
       "      <td>19995</td>\n",
       "      <td>[{\"id\": 1463, \"name\": \"culture clash\"}, {\"id\":...</td>\n",
       "      <td>en</td>\n",
       "      <td>Avatar</td>\n",
       "      <td>In the 22nd century, a paraplegic Marine is di...</td>\n",
       "      <td>150.437577</td>\n",
       "      <td>[{\"name\": \"Ingenious Film Partners\", \"id\": 289...</td>\n",
       "      <td>...</td>\n",
       "      <td>2787965087</td>\n",
       "      <td>162.0</td>\n",
       "      <td>[{\"iso_639_1\": \"en\", \"name\": \"English\"}, {\"iso...</td>\n",
       "      <td>Released</td>\n",
       "      <td>Enter the World of Pandora.</td>\n",
       "      <td>Avatar</td>\n",
       "      <td>7.2</td>\n",
       "      <td>11800</td>\n",
       "      <td>[{\"cast_id\": 242, \"character\": \"Jake Sully\", \"...</td>\n",
       "      <td>[{\"credit_id\": \"52fe48009251416c750aca23\", \"de...</td>\n",
       "    </tr>\n",
       "    <tr>\n",
       "      <th>1</th>\n",
       "      <td>300000000</td>\n",
       "      <td>[{\"id\": 12, \"name\": \"Adventure\"}, {\"id\": 14, \"...</td>\n",
       "      <td>http://disney.go.com/disneypictures/pirates/</td>\n",
       "      <td>285</td>\n",
       "      <td>[{\"id\": 270, \"name\": \"ocean\"}, {\"id\": 726, \"na...</td>\n",
       "      <td>en</td>\n",
       "      <td>Pirates of the Caribbean: At World's End</td>\n",
       "      <td>Captain Barbossa, long believed to be dead, ha...</td>\n",
       "      <td>139.082615</td>\n",
       "      <td>[{\"name\": \"Walt Disney Pictures\", \"id\": 2}, {\"...</td>\n",
       "      <td>...</td>\n",
       "      <td>961000000</td>\n",
       "      <td>169.0</td>\n",
       "      <td>[{\"iso_639_1\": \"en\", \"name\": \"English\"}]</td>\n",
       "      <td>Released</td>\n",
       "      <td>At the end of the world, the adventure begins.</td>\n",
       "      <td>Pirates of the Caribbean: At World's End</td>\n",
       "      <td>6.9</td>\n",
       "      <td>4500</td>\n",
       "      <td>[{\"cast_id\": 4, \"character\": \"Captain Jack Spa...</td>\n",
       "      <td>[{\"credit_id\": \"52fe4232c3a36847f800b579\", \"de...</td>\n",
       "    </tr>\n",
       "    <tr>\n",
       "      <th>2</th>\n",
       "      <td>245000000</td>\n",
       "      <td>[{\"id\": 28, \"name\": \"Action\"}, {\"id\": 12, \"nam...</td>\n",
       "      <td>http://www.sonypictures.com/movies/spectre/</td>\n",
       "      <td>206647</td>\n",
       "      <td>[{\"id\": 470, \"name\": \"spy\"}, {\"id\": 818, \"name...</td>\n",
       "      <td>en</td>\n",
       "      <td>Spectre</td>\n",
       "      <td>A cryptic message from Bond’s past sends him o...</td>\n",
       "      <td>107.376788</td>\n",
       "      <td>[{\"name\": \"Columbia Pictures\", \"id\": 5}, {\"nam...</td>\n",
       "      <td>...</td>\n",
       "      <td>880674609</td>\n",
       "      <td>148.0</td>\n",
       "      <td>[{\"iso_639_1\": \"fr\", \"name\": \"Fran\\u00e7ais\"},...</td>\n",
       "      <td>Released</td>\n",
       "      <td>A Plan No One Escapes</td>\n",
       "      <td>Spectre</td>\n",
       "      <td>6.3</td>\n",
       "      <td>4466</td>\n",
       "      <td>[{\"cast_id\": 1, \"character\": \"James Bond\", \"cr...</td>\n",
       "      <td>[{\"credit_id\": \"54805967c3a36829b5002c41\", \"de...</td>\n",
       "    </tr>\n",
       "    <tr>\n",
       "      <th>3</th>\n",
       "      <td>250000000</td>\n",
       "      <td>[{\"id\": 28, \"name\": \"Action\"}, {\"id\": 80, \"nam...</td>\n",
       "      <td>http://www.thedarkknightrises.com/</td>\n",
       "      <td>49026</td>\n",
       "      <td>[{\"id\": 849, \"name\": \"dc comics\"}, {\"id\": 853,...</td>\n",
       "      <td>en</td>\n",
       "      <td>The Dark Knight Rises</td>\n",
       "      <td>Following the death of District Attorney Harve...</td>\n",
       "      <td>112.312950</td>\n",
       "      <td>[{\"name\": \"Legendary Pictures\", \"id\": 923}, {\"...</td>\n",
       "      <td>...</td>\n",
       "      <td>1084939099</td>\n",
       "      <td>165.0</td>\n",
       "      <td>[{\"iso_639_1\": \"en\", \"name\": \"English\"}]</td>\n",
       "      <td>Released</td>\n",
       "      <td>The Legend Ends</td>\n",
       "      <td>The Dark Knight Rises</td>\n",
       "      <td>7.6</td>\n",
       "      <td>9106</td>\n",
       "      <td>[{\"cast_id\": 2, \"character\": \"Bruce Wayne / Ba...</td>\n",
       "      <td>[{\"credit_id\": \"52fe4781c3a36847f81398c3\", \"de...</td>\n",
       "    </tr>\n",
       "    <tr>\n",
       "      <th>4</th>\n",
       "      <td>260000000</td>\n",
       "      <td>[{\"id\": 28, \"name\": \"Action\"}, {\"id\": 12, \"nam...</td>\n",
       "      <td>http://movies.disney.com/john-carter</td>\n",
       "      <td>49529</td>\n",
       "      <td>[{\"id\": 818, \"name\": \"based on novel\"}, {\"id\":...</td>\n",
       "      <td>en</td>\n",
       "      <td>John Carter</td>\n",
       "      <td>John Carter is a war-weary, former military ca...</td>\n",
       "      <td>43.926995</td>\n",
       "      <td>[{\"name\": \"Walt Disney Pictures\", \"id\": 2}]</td>\n",
       "      <td>...</td>\n",
       "      <td>284139100</td>\n",
       "      <td>132.0</td>\n",
       "      <td>[{\"iso_639_1\": \"en\", \"name\": \"English\"}]</td>\n",
       "      <td>Released</td>\n",
       "      <td>Lost in our world, found in another.</td>\n",
       "      <td>John Carter</td>\n",
       "      <td>6.1</td>\n",
       "      <td>2124</td>\n",
       "      <td>[{\"cast_id\": 5, \"character\": \"John Carter\", \"c...</td>\n",
       "      <td>[{\"credit_id\": \"52fe479ac3a36847f813eaa3\", \"de...</td>\n",
       "    </tr>\n",
       "    <tr>\n",
       "      <th>...</th>\n",
       "      <td>...</td>\n",
       "      <td>...</td>\n",
       "      <td>...</td>\n",
       "      <td>...</td>\n",
       "      <td>...</td>\n",
       "      <td>...</td>\n",
       "      <td>...</td>\n",
       "      <td>...</td>\n",
       "      <td>...</td>\n",
       "      <td>...</td>\n",
       "      <td>...</td>\n",
       "      <td>...</td>\n",
       "      <td>...</td>\n",
       "      <td>...</td>\n",
       "      <td>...</td>\n",
       "      <td>...</td>\n",
       "      <td>...</td>\n",
       "      <td>...</td>\n",
       "      <td>...</td>\n",
       "      <td>...</td>\n",
       "      <td>...</td>\n",
       "    </tr>\n",
       "    <tr>\n",
       "      <th>4798</th>\n",
       "      <td>220000</td>\n",
       "      <td>[{\"id\": 28, \"name\": \"Action\"}, {\"id\": 80, \"nam...</td>\n",
       "      <td>NaN</td>\n",
       "      <td>9367</td>\n",
       "      <td>[{\"id\": 5616, \"name\": \"united states\\u2013mexi...</td>\n",
       "      <td>es</td>\n",
       "      <td>El Mariachi</td>\n",
       "      <td>El Mariachi just wants to play his guitar and ...</td>\n",
       "      <td>14.269792</td>\n",
       "      <td>[{\"name\": \"Columbia Pictures\", \"id\": 5}]</td>\n",
       "      <td>...</td>\n",
       "      <td>2040920</td>\n",
       "      <td>81.0</td>\n",
       "      <td>[{\"iso_639_1\": \"es\", \"name\": \"Espa\\u00f1ol\"}]</td>\n",
       "      <td>Released</td>\n",
       "      <td>He didn't come looking for trouble, but troubl...</td>\n",
       "      <td>El Mariachi</td>\n",
       "      <td>6.6</td>\n",
       "      <td>238</td>\n",
       "      <td>[{\"cast_id\": 1, \"character\": \"El Mariachi\", \"c...</td>\n",
       "      <td>[{\"credit_id\": \"52fe44eec3a36847f80b280b\", \"de...</td>\n",
       "    </tr>\n",
       "    <tr>\n",
       "      <th>4799</th>\n",
       "      <td>9000</td>\n",
       "      <td>[{\"id\": 35, \"name\": \"Comedy\"}, {\"id\": 10749, \"...</td>\n",
       "      <td>NaN</td>\n",
       "      <td>72766</td>\n",
       "      <td>[]</td>\n",
       "      <td>en</td>\n",
       "      <td>Newlyweds</td>\n",
       "      <td>A newlywed couple's honeymoon is upended by th...</td>\n",
       "      <td>0.642552</td>\n",
       "      <td>[]</td>\n",
       "      <td>...</td>\n",
       "      <td>0</td>\n",
       "      <td>85.0</td>\n",
       "      <td>[]</td>\n",
       "      <td>Released</td>\n",
       "      <td>A newlywed couple's honeymoon is upended by th...</td>\n",
       "      <td>Newlyweds</td>\n",
       "      <td>5.9</td>\n",
       "      <td>5</td>\n",
       "      <td>[{\"cast_id\": 1, \"character\": \"Buzzy\", \"credit_...</td>\n",
       "      <td>[{\"credit_id\": \"52fe487dc3a368484e0fb013\", \"de...</td>\n",
       "    </tr>\n",
       "    <tr>\n",
       "      <th>4800</th>\n",
       "      <td>0</td>\n",
       "      <td>[{\"id\": 35, \"name\": \"Comedy\"}, {\"id\": 18, \"nam...</td>\n",
       "      <td>http://www.hallmarkchannel.com/signedsealeddel...</td>\n",
       "      <td>231617</td>\n",
       "      <td>[{\"id\": 248, \"name\": \"date\"}, {\"id\": 699, \"nam...</td>\n",
       "      <td>en</td>\n",
       "      <td>Signed, Sealed, Delivered</td>\n",
       "      <td>\"Signed, Sealed, Delivered\" introduces a dedic...</td>\n",
       "      <td>1.444476</td>\n",
       "      <td>[{\"name\": \"Front Street Pictures\", \"id\": 3958}...</td>\n",
       "      <td>...</td>\n",
       "      <td>0</td>\n",
       "      <td>120.0</td>\n",
       "      <td>[{\"iso_639_1\": \"en\", \"name\": \"English\"}]</td>\n",
       "      <td>Released</td>\n",
       "      <td>NaN</td>\n",
       "      <td>Signed, Sealed, Delivered</td>\n",
       "      <td>7.0</td>\n",
       "      <td>6</td>\n",
       "      <td>[{\"cast_id\": 8, \"character\": \"Oliver O\\u2019To...</td>\n",
       "      <td>[{\"credit_id\": \"52fe4df3c3a36847f8275ecf\", \"de...</td>\n",
       "    </tr>\n",
       "    <tr>\n",
       "      <th>4801</th>\n",
       "      <td>0</td>\n",
       "      <td>[]</td>\n",
       "      <td>http://shanghaicalling.com/</td>\n",
       "      <td>126186</td>\n",
       "      <td>[]</td>\n",
       "      <td>en</td>\n",
       "      <td>Shanghai Calling</td>\n",
       "      <td>When ambitious New York attorney Sam is sent t...</td>\n",
       "      <td>0.857008</td>\n",
       "      <td>[]</td>\n",
       "      <td>...</td>\n",
       "      <td>0</td>\n",
       "      <td>98.0</td>\n",
       "      <td>[{\"iso_639_1\": \"en\", \"name\": \"English\"}]</td>\n",
       "      <td>Released</td>\n",
       "      <td>A New Yorker in Shanghai</td>\n",
       "      <td>Shanghai Calling</td>\n",
       "      <td>5.7</td>\n",
       "      <td>7</td>\n",
       "      <td>[{\"cast_id\": 3, \"character\": \"Sam\", \"credit_id...</td>\n",
       "      <td>[{\"credit_id\": \"52fe4ad9c3a368484e16a36b\", \"de...</td>\n",
       "    </tr>\n",
       "    <tr>\n",
       "      <th>4802</th>\n",
       "      <td>0</td>\n",
       "      <td>[{\"id\": 99, \"name\": \"Documentary\"}]</td>\n",
       "      <td>NaN</td>\n",
       "      <td>25975</td>\n",
       "      <td>[{\"id\": 1523, \"name\": \"obsession\"}, {\"id\": 224...</td>\n",
       "      <td>en</td>\n",
       "      <td>My Date with Drew</td>\n",
       "      <td>Ever since the second grade when he first saw ...</td>\n",
       "      <td>1.929883</td>\n",
       "      <td>[{\"name\": \"rusty bear entertainment\", \"id\": 87...</td>\n",
       "      <td>...</td>\n",
       "      <td>0</td>\n",
       "      <td>90.0</td>\n",
       "      <td>[{\"iso_639_1\": \"en\", \"name\": \"English\"}]</td>\n",
       "      <td>Released</td>\n",
       "      <td>NaN</td>\n",
       "      <td>My Date with Drew</td>\n",
       "      <td>6.3</td>\n",
       "      <td>16</td>\n",
       "      <td>[{\"cast_id\": 3, \"character\": \"Herself\", \"credi...</td>\n",
       "      <td>[{\"credit_id\": \"58ce021b9251415a390165d9\", \"de...</td>\n",
       "    </tr>\n",
       "  </tbody>\n",
       "</table>\n",
       "<p>4803 rows × 22 columns</p>\n",
       "</div>"
      ],
      "text/plain": [
       "         budget                                             genres  \\\n",
       "0     237000000  [{\"id\": 28, \"name\": \"Action\"}, {\"id\": 12, \"nam...   \n",
       "1     300000000  [{\"id\": 12, \"name\": \"Adventure\"}, {\"id\": 14, \"...   \n",
       "2     245000000  [{\"id\": 28, \"name\": \"Action\"}, {\"id\": 12, \"nam...   \n",
       "3     250000000  [{\"id\": 28, \"name\": \"Action\"}, {\"id\": 80, \"nam...   \n",
       "4     260000000  [{\"id\": 28, \"name\": \"Action\"}, {\"id\": 12, \"nam...   \n",
       "...         ...                                                ...   \n",
       "4798     220000  [{\"id\": 28, \"name\": \"Action\"}, {\"id\": 80, \"nam...   \n",
       "4799       9000  [{\"id\": 35, \"name\": \"Comedy\"}, {\"id\": 10749, \"...   \n",
       "4800          0  [{\"id\": 35, \"name\": \"Comedy\"}, {\"id\": 18, \"nam...   \n",
       "4801          0                                                 []   \n",
       "4802          0                [{\"id\": 99, \"name\": \"Documentary\"}]   \n",
       "\n",
       "                                               homepage      id  \\\n",
       "0                           http://www.avatarmovie.com/   19995   \n",
       "1          http://disney.go.com/disneypictures/pirates/     285   \n",
       "2           http://www.sonypictures.com/movies/spectre/  206647   \n",
       "3                    http://www.thedarkknightrises.com/   49026   \n",
       "4                  http://movies.disney.com/john-carter   49529   \n",
       "...                                                 ...     ...   \n",
       "4798                                                NaN    9367   \n",
       "4799                                                NaN   72766   \n",
       "4800  http://www.hallmarkchannel.com/signedsealeddel...  231617   \n",
       "4801                        http://shanghaicalling.com/  126186   \n",
       "4802                                                NaN   25975   \n",
       "\n",
       "                                               keywords original_language  \\\n",
       "0     [{\"id\": 1463, \"name\": \"culture clash\"}, {\"id\":...                en   \n",
       "1     [{\"id\": 270, \"name\": \"ocean\"}, {\"id\": 726, \"na...                en   \n",
       "2     [{\"id\": 470, \"name\": \"spy\"}, {\"id\": 818, \"name...                en   \n",
       "3     [{\"id\": 849, \"name\": \"dc comics\"}, {\"id\": 853,...                en   \n",
       "4     [{\"id\": 818, \"name\": \"based on novel\"}, {\"id\":...                en   \n",
       "...                                                 ...               ...   \n",
       "4798  [{\"id\": 5616, \"name\": \"united states\\u2013mexi...                es   \n",
       "4799                                                 []                en   \n",
       "4800  [{\"id\": 248, \"name\": \"date\"}, {\"id\": 699, \"nam...                en   \n",
       "4801                                                 []                en   \n",
       "4802  [{\"id\": 1523, \"name\": \"obsession\"}, {\"id\": 224...                en   \n",
       "\n",
       "                                original_title  \\\n",
       "0                                       Avatar   \n",
       "1     Pirates of the Caribbean: At World's End   \n",
       "2                                      Spectre   \n",
       "3                        The Dark Knight Rises   \n",
       "4                                  John Carter   \n",
       "...                                        ...   \n",
       "4798                               El Mariachi   \n",
       "4799                                 Newlyweds   \n",
       "4800                 Signed, Sealed, Delivered   \n",
       "4801                          Shanghai Calling   \n",
       "4802                         My Date with Drew   \n",
       "\n",
       "                                               overview  popularity  \\\n",
       "0     In the 22nd century, a paraplegic Marine is di...  150.437577   \n",
       "1     Captain Barbossa, long believed to be dead, ha...  139.082615   \n",
       "2     A cryptic message from Bond’s past sends him o...  107.376788   \n",
       "3     Following the death of District Attorney Harve...  112.312950   \n",
       "4     John Carter is a war-weary, former military ca...   43.926995   \n",
       "...                                                 ...         ...   \n",
       "4798  El Mariachi just wants to play his guitar and ...   14.269792   \n",
       "4799  A newlywed couple's honeymoon is upended by th...    0.642552   \n",
       "4800  \"Signed, Sealed, Delivered\" introduces a dedic...    1.444476   \n",
       "4801  When ambitious New York attorney Sam is sent t...    0.857008   \n",
       "4802  Ever since the second grade when he first saw ...    1.929883   \n",
       "\n",
       "                                   production_companies  ...     revenue  \\\n",
       "0     [{\"name\": \"Ingenious Film Partners\", \"id\": 289...  ...  2787965087   \n",
       "1     [{\"name\": \"Walt Disney Pictures\", \"id\": 2}, {\"...  ...   961000000   \n",
       "2     [{\"name\": \"Columbia Pictures\", \"id\": 5}, {\"nam...  ...   880674609   \n",
       "3     [{\"name\": \"Legendary Pictures\", \"id\": 923}, {\"...  ...  1084939099   \n",
       "4           [{\"name\": \"Walt Disney Pictures\", \"id\": 2}]  ...   284139100   \n",
       "...                                                 ...  ...         ...   \n",
       "4798           [{\"name\": \"Columbia Pictures\", \"id\": 5}]  ...     2040920   \n",
       "4799                                                 []  ...           0   \n",
       "4800  [{\"name\": \"Front Street Pictures\", \"id\": 3958}...  ...           0   \n",
       "4801                                                 []  ...           0   \n",
       "4802  [{\"name\": \"rusty bear entertainment\", \"id\": 87...  ...           0   \n",
       "\n",
       "     runtime                                   spoken_languages    status  \\\n",
       "0      162.0  [{\"iso_639_1\": \"en\", \"name\": \"English\"}, {\"iso...  Released   \n",
       "1      169.0           [{\"iso_639_1\": \"en\", \"name\": \"English\"}]  Released   \n",
       "2      148.0  [{\"iso_639_1\": \"fr\", \"name\": \"Fran\\u00e7ais\"},...  Released   \n",
       "3      165.0           [{\"iso_639_1\": \"en\", \"name\": \"English\"}]  Released   \n",
       "4      132.0           [{\"iso_639_1\": \"en\", \"name\": \"English\"}]  Released   \n",
       "...      ...                                                ...       ...   \n",
       "4798    81.0      [{\"iso_639_1\": \"es\", \"name\": \"Espa\\u00f1ol\"}]  Released   \n",
       "4799    85.0                                                 []  Released   \n",
       "4800   120.0           [{\"iso_639_1\": \"en\", \"name\": \"English\"}]  Released   \n",
       "4801    98.0           [{\"iso_639_1\": \"en\", \"name\": \"English\"}]  Released   \n",
       "4802    90.0           [{\"iso_639_1\": \"en\", \"name\": \"English\"}]  Released   \n",
       "\n",
       "                                                tagline  \\\n",
       "0                           Enter the World of Pandora.   \n",
       "1        At the end of the world, the adventure begins.   \n",
       "2                                 A Plan No One Escapes   \n",
       "3                                       The Legend Ends   \n",
       "4                  Lost in our world, found in another.   \n",
       "...                                                 ...   \n",
       "4798  He didn't come looking for trouble, but troubl...   \n",
       "4799  A newlywed couple's honeymoon is upended by th...   \n",
       "4800                                                NaN   \n",
       "4801                           A New Yorker in Shanghai   \n",
       "4802                                                NaN   \n",
       "\n",
       "                                         title vote_average vote_count  \\\n",
       "0                                       Avatar          7.2      11800   \n",
       "1     Pirates of the Caribbean: At World's End          6.9       4500   \n",
       "2                                      Spectre          6.3       4466   \n",
       "3                        The Dark Knight Rises          7.6       9106   \n",
       "4                                  John Carter          6.1       2124   \n",
       "...                                        ...          ...        ...   \n",
       "4798                               El Mariachi          6.6        238   \n",
       "4799                                 Newlyweds          5.9          5   \n",
       "4800                 Signed, Sealed, Delivered          7.0          6   \n",
       "4801                          Shanghai Calling          5.7          7   \n",
       "4802                         My Date with Drew          6.3         16   \n",
       "\n",
       "                                                   cast  \\\n",
       "0     [{\"cast_id\": 242, \"character\": \"Jake Sully\", \"...   \n",
       "1     [{\"cast_id\": 4, \"character\": \"Captain Jack Spa...   \n",
       "2     [{\"cast_id\": 1, \"character\": \"James Bond\", \"cr...   \n",
       "3     [{\"cast_id\": 2, \"character\": \"Bruce Wayne / Ba...   \n",
       "4     [{\"cast_id\": 5, \"character\": \"John Carter\", \"c...   \n",
       "...                                                 ...   \n",
       "4798  [{\"cast_id\": 1, \"character\": \"El Mariachi\", \"c...   \n",
       "4799  [{\"cast_id\": 1, \"character\": \"Buzzy\", \"credit_...   \n",
       "4800  [{\"cast_id\": 8, \"character\": \"Oliver O\\u2019To...   \n",
       "4801  [{\"cast_id\": 3, \"character\": \"Sam\", \"credit_id...   \n",
       "4802  [{\"cast_id\": 3, \"character\": \"Herself\", \"credi...   \n",
       "\n",
       "                                                   crew  \n",
       "0     [{\"credit_id\": \"52fe48009251416c750aca23\", \"de...  \n",
       "1     [{\"credit_id\": \"52fe4232c3a36847f800b579\", \"de...  \n",
       "2     [{\"credit_id\": \"54805967c3a36829b5002c41\", \"de...  \n",
       "3     [{\"credit_id\": \"52fe4781c3a36847f81398c3\", \"de...  \n",
       "4     [{\"credit_id\": \"52fe479ac3a36847f813eaa3\", \"de...  \n",
       "...                                                 ...  \n",
       "4798  [{\"credit_id\": \"52fe44eec3a36847f80b280b\", \"de...  \n",
       "4799  [{\"credit_id\": \"52fe487dc3a368484e0fb013\", \"de...  \n",
       "4800  [{\"credit_id\": \"52fe4df3c3a36847f8275ecf\", \"de...  \n",
       "4801  [{\"credit_id\": \"52fe4ad9c3a368484e16a36b\", \"de...  \n",
       "4802  [{\"credit_id\": \"58ce021b9251415a390165d9\", \"de...  \n",
       "\n",
       "[4803 rows x 22 columns]"
      ]
     },
     "execution_count": 2,
     "metadata": {},
     "output_type": "execute_result"
    }
   ],
   "source": [
    "# Nhập code của bạn tại đây\n",
    "# Đọc dữ liệu từ file Movies\n",
    "movies_df = pd.read_csv('movies.csv')\n",
    "# Đọc dữ liệu từ file Creadits\n",
    "credits_df = pd.read_csv('credits.csv')\n",
    "\n",
    "# Đổi tên các cột của credits\n",
    "credits_df.columns = ['id','title','cast','crew']\n",
    "# Kết hợp credits vào movies\n",
    "df = movies_df.merge(credits_df, on = [\"id\", 'title'])\n",
    "df"
   ]
  },
  {
   "cell_type": "markdown",
   "metadata": {
    "id": "mJRhfQX3w4qU"
   },
   "source": [
    "Điều chỉnh định dạng của một số cột dữ liệu để có thể xử lý dữ liệu hiệu quả hơn về sau."
   ]
  },
  {
   "cell_type": "code",
   "execution_count": 3,
   "metadata": {
    "id": "Y_3EDCmyw1AS"
   },
   "outputs": [
    {
     "data": {
      "text/html": [
       "<div>\n",
       "<style scoped>\n",
       "    .dataframe tbody tr th:only-of-type {\n",
       "        vertical-align: middle;\n",
       "    }\n",
       "\n",
       "    .dataframe tbody tr th {\n",
       "        vertical-align: top;\n",
       "    }\n",
       "\n",
       "    .dataframe thead th {\n",
       "        text-align: right;\n",
       "    }\n",
       "</style>\n",
       "<table border=\"1\" class=\"dataframe\">\n",
       "  <thead>\n",
       "    <tr style=\"text-align: right;\">\n",
       "      <th></th>\n",
       "      <th>cast</th>\n",
       "      <th>crew</th>\n",
       "      <th>keywords</th>\n",
       "      <th>genres</th>\n",
       "    </tr>\n",
       "  </thead>\n",
       "  <tbody>\n",
       "    <tr>\n",
       "      <th>0</th>\n",
       "      <td>[{'cast_id': 242, 'character': 'Jake Sully', '...</td>\n",
       "      <td>[{'credit_id': '52fe48009251416c750aca23', 'de...</td>\n",
       "      <td>[{'id': 1463, 'name': 'culture clash'}, {'id':...</td>\n",
       "      <td>[{'id': 28, 'name': 'Action'}, {'id': 12, 'nam...</td>\n",
       "    </tr>\n",
       "    <tr>\n",
       "      <th>1</th>\n",
       "      <td>[{'cast_id': 4, 'character': 'Captain Jack Spa...</td>\n",
       "      <td>[{'credit_id': '52fe4232c3a36847f800b579', 'de...</td>\n",
       "      <td>[{'id': 270, 'name': 'ocean'}, {'id': 726, 'na...</td>\n",
       "      <td>[{'id': 12, 'name': 'Adventure'}, {'id': 14, '...</td>\n",
       "    </tr>\n",
       "    <tr>\n",
       "      <th>2</th>\n",
       "      <td>[{'cast_id': 1, 'character': 'James Bond', 'cr...</td>\n",
       "      <td>[{'credit_id': '54805967c3a36829b5002c41', 'de...</td>\n",
       "      <td>[{'id': 470, 'name': 'spy'}, {'id': 818, 'name...</td>\n",
       "      <td>[{'id': 28, 'name': 'Action'}, {'id': 12, 'nam...</td>\n",
       "    </tr>\n",
       "    <tr>\n",
       "      <th>3</th>\n",
       "      <td>[{'cast_id': 2, 'character': 'Bruce Wayne / Ba...</td>\n",
       "      <td>[{'credit_id': '52fe4781c3a36847f81398c3', 'de...</td>\n",
       "      <td>[{'id': 849, 'name': 'dc comics'}, {'id': 853,...</td>\n",
       "      <td>[{'id': 28, 'name': 'Action'}, {'id': 80, 'nam...</td>\n",
       "    </tr>\n",
       "    <tr>\n",
       "      <th>4</th>\n",
       "      <td>[{'cast_id': 5, 'character': 'John Carter', 'c...</td>\n",
       "      <td>[{'credit_id': '52fe479ac3a36847f813eaa3', 'de...</td>\n",
       "      <td>[{'id': 818, 'name': 'based on novel'}, {'id':...</td>\n",
       "      <td>[{'id': 28, 'name': 'Action'}, {'id': 12, 'nam...</td>\n",
       "    </tr>\n",
       "    <tr>\n",
       "      <th>5</th>\n",
       "      <td>[{'cast_id': 30, 'character': 'Peter Parker / ...</td>\n",
       "      <td>[{'credit_id': '52fe4252c3a36847f80151a5', 'de...</td>\n",
       "      <td>[{'id': 851, 'name': 'dual identity'}, {'id': ...</td>\n",
       "      <td>[{'id': 14, 'name': 'Fantasy'}, {'id': 28, 'na...</td>\n",
       "    </tr>\n",
       "    <tr>\n",
       "      <th>6</th>\n",
       "      <td>[{'cast_id': 34, 'character': 'Flynn Rider (vo...</td>\n",
       "      <td>[{'credit_id': '52fe46db9251416c91062101', 'de...</td>\n",
       "      <td>[{'id': 1562, 'name': 'hostage'}, {'id': 2343,...</td>\n",
       "      <td>[{'id': 16, 'name': 'Animation'}, {'id': 10751...</td>\n",
       "    </tr>\n",
       "    <tr>\n",
       "      <th>7</th>\n",
       "      <td>[{'cast_id': 76, 'character': 'Tony Stark / Ir...</td>\n",
       "      <td>[{'credit_id': '55d5f7d4c3a3683e7e0016eb', 'de...</td>\n",
       "      <td>[{'id': 8828, 'name': 'marvel comic'}, {'id': ...</td>\n",
       "      <td>[{'id': 28, 'name': 'Action'}, {'id': 12, 'nam...</td>\n",
       "    </tr>\n",
       "    <tr>\n",
       "      <th>8</th>\n",
       "      <td>[{'cast_id': 3, 'character': 'Harry Potter', '...</td>\n",
       "      <td>[{'credit_id': '52fe4273c3a36847f801fab1', 'de...</td>\n",
       "      <td>[{'id': 616, 'name': 'witch'}, {'id': 2343, 'n...</td>\n",
       "      <td>[{'id': 12, 'name': 'Adventure'}, {'id': 14, '...</td>\n",
       "    </tr>\n",
       "    <tr>\n",
       "      <th>9</th>\n",
       "      <td>[{'cast_id': 18, 'character': 'Bruce Wayne / B...</td>\n",
       "      <td>[{'credit_id': '553bf23692514135c8002886', 'de...</td>\n",
       "      <td>[{'id': 849, 'name': 'dc comics'}, {'id': 7002...</td>\n",
       "      <td>[{'id': 28, 'name': 'Action'}, {'id': 12, 'nam...</td>\n",
       "    </tr>\n",
       "  </tbody>\n",
       "</table>\n",
       "</div>"
      ],
      "text/plain": [
       "                                                cast  \\\n",
       "0  [{'cast_id': 242, 'character': 'Jake Sully', '...   \n",
       "1  [{'cast_id': 4, 'character': 'Captain Jack Spa...   \n",
       "2  [{'cast_id': 1, 'character': 'James Bond', 'cr...   \n",
       "3  [{'cast_id': 2, 'character': 'Bruce Wayne / Ba...   \n",
       "4  [{'cast_id': 5, 'character': 'John Carter', 'c...   \n",
       "5  [{'cast_id': 30, 'character': 'Peter Parker / ...   \n",
       "6  [{'cast_id': 34, 'character': 'Flynn Rider (vo...   \n",
       "7  [{'cast_id': 76, 'character': 'Tony Stark / Ir...   \n",
       "8  [{'cast_id': 3, 'character': 'Harry Potter', '...   \n",
       "9  [{'cast_id': 18, 'character': 'Bruce Wayne / B...   \n",
       "\n",
       "                                                crew  \\\n",
       "0  [{'credit_id': '52fe48009251416c750aca23', 'de...   \n",
       "1  [{'credit_id': '52fe4232c3a36847f800b579', 'de...   \n",
       "2  [{'credit_id': '54805967c3a36829b5002c41', 'de...   \n",
       "3  [{'credit_id': '52fe4781c3a36847f81398c3', 'de...   \n",
       "4  [{'credit_id': '52fe479ac3a36847f813eaa3', 'de...   \n",
       "5  [{'credit_id': '52fe4252c3a36847f80151a5', 'de...   \n",
       "6  [{'credit_id': '52fe46db9251416c91062101', 'de...   \n",
       "7  [{'credit_id': '55d5f7d4c3a3683e7e0016eb', 'de...   \n",
       "8  [{'credit_id': '52fe4273c3a36847f801fab1', 'de...   \n",
       "9  [{'credit_id': '553bf23692514135c8002886', 'de...   \n",
       "\n",
       "                                            keywords  \\\n",
       "0  [{'id': 1463, 'name': 'culture clash'}, {'id':...   \n",
       "1  [{'id': 270, 'name': 'ocean'}, {'id': 726, 'na...   \n",
       "2  [{'id': 470, 'name': 'spy'}, {'id': 818, 'name...   \n",
       "3  [{'id': 849, 'name': 'dc comics'}, {'id': 853,...   \n",
       "4  [{'id': 818, 'name': 'based on novel'}, {'id':...   \n",
       "5  [{'id': 851, 'name': 'dual identity'}, {'id': ...   \n",
       "6  [{'id': 1562, 'name': 'hostage'}, {'id': 2343,...   \n",
       "7  [{'id': 8828, 'name': 'marvel comic'}, {'id': ...   \n",
       "8  [{'id': 616, 'name': 'witch'}, {'id': 2343, 'n...   \n",
       "9  [{'id': 849, 'name': 'dc comics'}, {'id': 7002...   \n",
       "\n",
       "                                              genres  \n",
       "0  [{'id': 28, 'name': 'Action'}, {'id': 12, 'nam...  \n",
       "1  [{'id': 12, 'name': 'Adventure'}, {'id': 14, '...  \n",
       "2  [{'id': 28, 'name': 'Action'}, {'id': 12, 'nam...  \n",
       "3  [{'id': 28, 'name': 'Action'}, {'id': 80, 'nam...  \n",
       "4  [{'id': 28, 'name': 'Action'}, {'id': 12, 'nam...  \n",
       "5  [{'id': 14, 'name': 'Fantasy'}, {'id': 28, 'na...  \n",
       "6  [{'id': 16, 'name': 'Animation'}, {'id': 10751...  \n",
       "7  [{'id': 28, 'name': 'Action'}, {'id': 12, 'nam...  \n",
       "8  [{'id': 12, 'name': 'Adventure'}, {'id': 14, '...  \n",
       "9  [{'id': 28, 'name': 'Action'}, {'id': 12, 'nam...  "
      ]
     },
     "execution_count": 3,
     "metadata": {},
     "output_type": "execute_result"
    }
   ],
   "source": [
    "from ast import literal_eval\n",
    "\n",
    "features = ['cast', 'crew', 'keywords', 'genres']\n",
    "for feature in features:\n",
    "    df[feature] = df[feature].apply(literal_eval)\n",
    "    \n",
    "df[features].head(10)"
   ]
  },
  {
   "cell_type": "markdown",
   "metadata": {
    "_uuid": "ee603279675033fc397f0c94738e20b34f35312b",
    "id": "Tv7_E7txxNsv"
   },
   "source": [
    "# **Demographic Filtering**\n",
    "\n",
    "Với loại đề xuất trong phần này, chúng ta cần\n",
    "\n",
    "* Một số liệu để chấm điểm hoặc xếp hạng phim\n",
    "* Tính điểm cho mỗi bộ phim\n",
    "* Sắp xếp điểm số và giới thiệu bộ phim được đánh giá tốt nhất cho người dùng.\n",
    "\n",
    "Chúng ta có thể sử dụng đánh giá trung bình làm điểm số nhưng điều này không công bằng. Sự không công bằng này diễn ra khi một bộ phim có đánh giá trung bình là 8.9 nhưng chỉ với 3 lần đánh giá và không được coi là tốt hơn một bộ phim khác có đánh giá trung bình là 7.8 nhưng lại có 40 lần đánh giá.\n",
    "\n",
    "Do đó chúng ta sẽ sử dụng phương pháp IMDB's weighted rating (wr) cho vấn đề này.\n",
    "\n",
    "![](https://image.ibb.co/jYWZp9/wr.png)\n",
    "\n",
    "Trong đó:\n",
    "\n",
    "* v: số lượng đánh giá cho mỗi bộ phim.\n",
    "* m: số đánh giá tối thiểu cần thiết để được liệt kê.\n",
    "* R: đánh giá trung bình của mỗi bộ phim.\n",
    "* C: giá trị trung bình của các đánh giá trung bình của từng bộ phim.\n",
    "\n",
    "Chúng ta đã có v(**vote_count**), R(**vote_average**) và C có thể tính được "
   ]
  },
  {
   "cell_type": "markdown",
   "metadata": {
    "id": "5i3ledE58XsR"
   },
   "source": [
    "## Task 2: Xây dựng hàm tính weighted_rating\n",
    "\n",
    "Tính giá trị C"
   ]
  },
  {
   "cell_type": "code",
   "execution_count": 4,
   "metadata": {
    "_uuid": "5799b99c5e5ed5b7723ae8b31e1fc9fb1e7b89ec",
    "colab": {
     "base_uri": "https://localhost:8080/"
    },
    "id": "CmYXnUcMxNsw",
    "outputId": "9c6116f4-9408-4777-fbd5-f7db3f72ee60"
   },
   "outputs": [
    {
     "name": "stdout",
     "output_type": "stream",
     "text": [
      "6.092171559442011\n"
     ]
    }
   ],
   "source": [
    "# Nhập code của bạn tại đây\n",
    "C = df['vote_average'].mean()\n",
    "print(C)"
   ]
  },
  {
   "cell_type": "markdown",
   "metadata": {
    "_uuid": "02fa8642f75bcef6d4a79e029af6dfeebf19e3a5",
    "id": "TSZc4seAxNsw"
   },
   "source": [
    "Tính giá trị m. Sử dụng số lượng vote chiếm 90% của toàn bộ dữ liệu để thiết lập cho m. Điều này có nghĩa là một bộ phim sẽ được đưa vào so sánh nếu số lượng đánh giá ít nhất bằng 90% của toàn bộ dữ liệu."
   ]
  },
  {
   "cell_type": "code",
   "execution_count": 5,
   "metadata": {
    "_uuid": "f2f1eaff1e4349b5d2d11dd5ce79c19a85561148",
    "colab": {
     "base_uri": "https://localhost:8080/"
    },
    "id": "WMnw-1VixNsw",
    "outputId": "ff3a7e58-9ca1-459b-9d9e-f849336586d9"
   },
   "outputs": [
    {
     "name": "stdout",
     "output_type": "stream",
     "text": [
      "1838.4000000000015\n"
     ]
    }
   ],
   "source": [
    "# Nhập code của bạn tại đây\n",
    "m = df['vote_count'].quantile(0.90)\n",
    "print(m)"
   ]
  },
  {
   "cell_type": "markdown",
   "metadata": {
    "id": "eMBFx7dalAtk"
   },
   "source": [
    "Xây dựng hàm tính weighted_rating"
   ]
  },
  {
   "cell_type": "code",
   "execution_count": 6,
   "metadata": {
    "id": "qH5dxaAalGvh"
   },
   "outputs": [],
   "source": [
    "# Nhập code của bạn tại đây\n",
    "def weighted_rating(x, m = m, C = C):\n",
    "    v = x['vote_count']\n",
    "    R = x['vote_average']\n",
    "    # Tính toán Demographic Filtering\n",
    "    return (v/(v+m) * R) + (m/(m+v) * C)"
   ]
  },
  {
   "cell_type": "markdown",
   "metadata": {
    "_uuid": "b77dea5a38ca2c399e3abeac1487e784fe146078",
    "id": "OeeoYah_xNsw"
   },
   "source": [
    "## Task 3: Tính điểm cho từng bộ phim từ hàm weighted_ratings và đề xuất phim\n",
    "\n",
    "Lọc những bộ phim có số lượng đánh giá ít nhất bằng m"
   ]
  },
  {
   "cell_type": "code",
   "execution_count": 7,
   "metadata": {
    "_uuid": "a22008df6d81d3b716d39a56efd3d547345bfbce",
    "colab": {
     "base_uri": "https://localhost:8080/"
    },
    "id": "bsRrncj1xNsw",
    "outputId": "32c0dbbe-1ae2-4f7d-be57-0358d9b2a463"
   },
   "outputs": [
    {
     "data": {
      "text/html": [
       "<div>\n",
       "<style scoped>\n",
       "    .dataframe tbody tr th:only-of-type {\n",
       "        vertical-align: middle;\n",
       "    }\n",
       "\n",
       "    .dataframe tbody tr th {\n",
       "        vertical-align: top;\n",
       "    }\n",
       "\n",
       "    .dataframe thead th {\n",
       "        text-align: right;\n",
       "    }\n",
       "</style>\n",
       "<table border=\"1\" class=\"dataframe\">\n",
       "  <thead>\n",
       "    <tr style=\"text-align: right;\">\n",
       "      <th></th>\n",
       "      <th>budget</th>\n",
       "      <th>genres</th>\n",
       "      <th>homepage</th>\n",
       "      <th>id</th>\n",
       "      <th>keywords</th>\n",
       "      <th>original_language</th>\n",
       "      <th>original_title</th>\n",
       "      <th>overview</th>\n",
       "      <th>popularity</th>\n",
       "      <th>production_companies</th>\n",
       "      <th>...</th>\n",
       "      <th>revenue</th>\n",
       "      <th>runtime</th>\n",
       "      <th>spoken_languages</th>\n",
       "      <th>status</th>\n",
       "      <th>tagline</th>\n",
       "      <th>title</th>\n",
       "      <th>vote_average</th>\n",
       "      <th>vote_count</th>\n",
       "      <th>cast</th>\n",
       "      <th>crew</th>\n",
       "    </tr>\n",
       "  </thead>\n",
       "  <tbody>\n",
       "    <tr>\n",
       "      <th>0</th>\n",
       "      <td>237000000</td>\n",
       "      <td>[{'id': 28, 'name': 'Action'}, {'id': 12, 'nam...</td>\n",
       "      <td>http://www.avatarmovie.com/</td>\n",
       "      <td>19995</td>\n",
       "      <td>[{'id': 1463, 'name': 'culture clash'}, {'id':...</td>\n",
       "      <td>en</td>\n",
       "      <td>Avatar</td>\n",
       "      <td>In the 22nd century, a paraplegic Marine is di...</td>\n",
       "      <td>150.437577</td>\n",
       "      <td>[{\"name\": \"Ingenious Film Partners\", \"id\": 289...</td>\n",
       "      <td>...</td>\n",
       "      <td>2787965087</td>\n",
       "      <td>162.0</td>\n",
       "      <td>[{\"iso_639_1\": \"en\", \"name\": \"English\"}, {\"iso...</td>\n",
       "      <td>Released</td>\n",
       "      <td>Enter the World of Pandora.</td>\n",
       "      <td>Avatar</td>\n",
       "      <td>7.2</td>\n",
       "      <td>11800</td>\n",
       "      <td>[{'cast_id': 242, 'character': 'Jake Sully', '...</td>\n",
       "      <td>[{'credit_id': '52fe48009251416c750aca23', 'de...</td>\n",
       "    </tr>\n",
       "    <tr>\n",
       "      <th>1</th>\n",
       "      <td>300000000</td>\n",
       "      <td>[{'id': 12, 'name': 'Adventure'}, {'id': 14, '...</td>\n",
       "      <td>http://disney.go.com/disneypictures/pirates/</td>\n",
       "      <td>285</td>\n",
       "      <td>[{'id': 270, 'name': 'ocean'}, {'id': 726, 'na...</td>\n",
       "      <td>en</td>\n",
       "      <td>Pirates of the Caribbean: At World's End</td>\n",
       "      <td>Captain Barbossa, long believed to be dead, ha...</td>\n",
       "      <td>139.082615</td>\n",
       "      <td>[{\"name\": \"Walt Disney Pictures\", \"id\": 2}, {\"...</td>\n",
       "      <td>...</td>\n",
       "      <td>961000000</td>\n",
       "      <td>169.0</td>\n",
       "      <td>[{\"iso_639_1\": \"en\", \"name\": \"English\"}]</td>\n",
       "      <td>Released</td>\n",
       "      <td>At the end of the world, the adventure begins.</td>\n",
       "      <td>Pirates of the Caribbean: At World's End</td>\n",
       "      <td>6.9</td>\n",
       "      <td>4500</td>\n",
       "      <td>[{'cast_id': 4, 'character': 'Captain Jack Spa...</td>\n",
       "      <td>[{'credit_id': '52fe4232c3a36847f800b579', 'de...</td>\n",
       "    </tr>\n",
       "    <tr>\n",
       "      <th>2</th>\n",
       "      <td>245000000</td>\n",
       "      <td>[{'id': 28, 'name': 'Action'}, {'id': 12, 'nam...</td>\n",
       "      <td>http://www.sonypictures.com/movies/spectre/</td>\n",
       "      <td>206647</td>\n",
       "      <td>[{'id': 470, 'name': 'spy'}, {'id': 818, 'name...</td>\n",
       "      <td>en</td>\n",
       "      <td>Spectre</td>\n",
       "      <td>A cryptic message from Bond’s past sends him o...</td>\n",
       "      <td>107.376788</td>\n",
       "      <td>[{\"name\": \"Columbia Pictures\", \"id\": 5}, {\"nam...</td>\n",
       "      <td>...</td>\n",
       "      <td>880674609</td>\n",
       "      <td>148.0</td>\n",
       "      <td>[{\"iso_639_1\": \"fr\", \"name\": \"Fran\\u00e7ais\"},...</td>\n",
       "      <td>Released</td>\n",
       "      <td>A Plan No One Escapes</td>\n",
       "      <td>Spectre</td>\n",
       "      <td>6.3</td>\n",
       "      <td>4466</td>\n",
       "      <td>[{'cast_id': 1, 'character': 'James Bond', 'cr...</td>\n",
       "      <td>[{'credit_id': '54805967c3a36829b5002c41', 'de...</td>\n",
       "    </tr>\n",
       "    <tr>\n",
       "      <th>3</th>\n",
       "      <td>250000000</td>\n",
       "      <td>[{'id': 28, 'name': 'Action'}, {'id': 80, 'nam...</td>\n",
       "      <td>http://www.thedarkknightrises.com/</td>\n",
       "      <td>49026</td>\n",
       "      <td>[{'id': 849, 'name': 'dc comics'}, {'id': 853,...</td>\n",
       "      <td>en</td>\n",
       "      <td>The Dark Knight Rises</td>\n",
       "      <td>Following the death of District Attorney Harve...</td>\n",
       "      <td>112.312950</td>\n",
       "      <td>[{\"name\": \"Legendary Pictures\", \"id\": 923}, {\"...</td>\n",
       "      <td>...</td>\n",
       "      <td>1084939099</td>\n",
       "      <td>165.0</td>\n",
       "      <td>[{\"iso_639_1\": \"en\", \"name\": \"English\"}]</td>\n",
       "      <td>Released</td>\n",
       "      <td>The Legend Ends</td>\n",
       "      <td>The Dark Knight Rises</td>\n",
       "      <td>7.6</td>\n",
       "      <td>9106</td>\n",
       "      <td>[{'cast_id': 2, 'character': 'Bruce Wayne / Ba...</td>\n",
       "      <td>[{'credit_id': '52fe4781c3a36847f81398c3', 'de...</td>\n",
       "    </tr>\n",
       "    <tr>\n",
       "      <th>4</th>\n",
       "      <td>260000000</td>\n",
       "      <td>[{'id': 28, 'name': 'Action'}, {'id': 12, 'nam...</td>\n",
       "      <td>http://movies.disney.com/john-carter</td>\n",
       "      <td>49529</td>\n",
       "      <td>[{'id': 818, 'name': 'based on novel'}, {'id':...</td>\n",
       "      <td>en</td>\n",
       "      <td>John Carter</td>\n",
       "      <td>John Carter is a war-weary, former military ca...</td>\n",
       "      <td>43.926995</td>\n",
       "      <td>[{\"name\": \"Walt Disney Pictures\", \"id\": 2}]</td>\n",
       "      <td>...</td>\n",
       "      <td>284139100</td>\n",
       "      <td>132.0</td>\n",
       "      <td>[{\"iso_639_1\": \"en\", \"name\": \"English\"}]</td>\n",
       "      <td>Released</td>\n",
       "      <td>Lost in our world, found in another.</td>\n",
       "      <td>John Carter</td>\n",
       "      <td>6.1</td>\n",
       "      <td>2124</td>\n",
       "      <td>[{'cast_id': 5, 'character': 'John Carter', 'c...</td>\n",
       "      <td>[{'credit_id': '52fe479ac3a36847f813eaa3', 'de...</td>\n",
       "    </tr>\n",
       "    <tr>\n",
       "      <th>...</th>\n",
       "      <td>...</td>\n",
       "      <td>...</td>\n",
       "      <td>...</td>\n",
       "      <td>...</td>\n",
       "      <td>...</td>\n",
       "      <td>...</td>\n",
       "      <td>...</td>\n",
       "      <td>...</td>\n",
       "      <td>...</td>\n",
       "      <td>...</td>\n",
       "      <td>...</td>\n",
       "      <td>...</td>\n",
       "      <td>...</td>\n",
       "      <td>...</td>\n",
       "      <td>...</td>\n",
       "      <td>...</td>\n",
       "      <td>...</td>\n",
       "      <td>...</td>\n",
       "      <td>...</td>\n",
       "      <td>...</td>\n",
       "      <td>...</td>\n",
       "    </tr>\n",
       "    <tr>\n",
       "      <th>4291</th>\n",
       "      <td>1200000</td>\n",
       "      <td>[{'id': 27, 'name': 'Horror'}, {'id': 9648, 'n...</td>\n",
       "      <td>NaN</td>\n",
       "      <td>176</td>\n",
       "      <td>[{'id': 1366, 'name': 'shotgun'}, {'id': 13000...</td>\n",
       "      <td>en</td>\n",
       "      <td>Saw</td>\n",
       "      <td>Obsessed with teaching his victims the value o...</td>\n",
       "      <td>63.655973</td>\n",
       "      <td>[{\"name\": \"Lions Gate Films\", \"id\": 35}, {\"nam...</td>\n",
       "      <td>...</td>\n",
       "      <td>103911669</td>\n",
       "      <td>103.0</td>\n",
       "      <td>[{\"iso_639_1\": \"en\", \"name\": \"English\"}]</td>\n",
       "      <td>Released</td>\n",
       "      <td>Live or die. Make your choice.</td>\n",
       "      <td>Saw</td>\n",
       "      <td>7.2</td>\n",
       "      <td>2184</td>\n",
       "      <td>[{'cast_id': 4, 'character': 'Dr. Lawrence Gor...</td>\n",
       "      <td>[{'credit_id': '52fe4223c3a36847f8006c57', 'de...</td>\n",
       "    </tr>\n",
       "    <tr>\n",
       "      <th>4300</th>\n",
       "      <td>1200000</td>\n",
       "      <td>[{'id': 80, 'name': 'Crime'}, {'id': 53, 'name...</td>\n",
       "      <td>NaN</td>\n",
       "      <td>500</td>\n",
       "      <td>[{'id': 2052, 'name': 'traitor'}, {'id': 6099,...</td>\n",
       "      <td>en</td>\n",
       "      <td>Reservoir Dogs</td>\n",
       "      <td>A botched robbery indicates a police informant...</td>\n",
       "      <td>66.925866</td>\n",
       "      <td>[{\"name\": \"Live Entertainment\", \"id\": 285}, {\"...</td>\n",
       "      <td>...</td>\n",
       "      <td>14661007</td>\n",
       "      <td>99.0</td>\n",
       "      <td>[{\"iso_639_1\": \"en\", \"name\": \"English\"}]</td>\n",
       "      <td>Released</td>\n",
       "      <td>Every dog has his day.</td>\n",
       "      <td>Reservoir Dogs</td>\n",
       "      <td>8.0</td>\n",
       "      <td>3697</td>\n",
       "      <td>[{'cast_id': 20, 'character': 'Mr. White/Larry...</td>\n",
       "      <td>[{'credit_id': '52fe424ac3a36847f8012cb9', 'de...</td>\n",
       "    </tr>\n",
       "    <tr>\n",
       "      <th>4302</th>\n",
       "      <td>1200000</td>\n",
       "      <td>[{'id': 37, 'name': 'Western'}]</td>\n",
       "      <td>http://www.mgm.com/#/our-titles/766/The-Good,-...</td>\n",
       "      <td>429</td>\n",
       "      <td>[{'id': 801, 'name': 'bounty hunter'}, {'id': ...</td>\n",
       "      <td>it</td>\n",
       "      <td>Il buono, il brutto, il cattivo</td>\n",
       "      <td>While the Civil War rages between the Union an...</td>\n",
       "      <td>88.377076</td>\n",
       "      <td>[{\"name\": \"United Artists\", \"id\": 60}, {\"name\"...</td>\n",
       "      <td>...</td>\n",
       "      <td>6000000</td>\n",
       "      <td>161.0</td>\n",
       "      <td>[{\"iso_639_1\": \"it\", \"name\": \"Italiano\"}]</td>\n",
       "      <td>Released</td>\n",
       "      <td>For three men the Civil War wasn't hell. It wa...</td>\n",
       "      <td>The Good, the Bad and the Ugly</td>\n",
       "      <td>8.1</td>\n",
       "      <td>2311</td>\n",
       "      <td>[{'cast_id': 6, 'character': 'Tuco', 'credit_i...</td>\n",
       "      <td>[{'credit_id': '575aee00c3a3682d10000281', 'de...</td>\n",
       "    </tr>\n",
       "    <tr>\n",
       "      <th>4337</th>\n",
       "      <td>1300000</td>\n",
       "      <td>[{'id': 80, 'name': 'Crime'}, {'id': 18, 'name...</td>\n",
       "      <td>NaN</td>\n",
       "      <td>103</td>\n",
       "      <td>[{'id': 422, 'name': 'vietnam veteran'}, {'id'...</td>\n",
       "      <td>en</td>\n",
       "      <td>Taxi Driver</td>\n",
       "      <td>A mentally unstable Vietnam War veteran works ...</td>\n",
       "      <td>58.845025</td>\n",
       "      <td>[{\"name\": \"Columbia Pictures Corporation\", \"id...</td>\n",
       "      <td>...</td>\n",
       "      <td>28262574</td>\n",
       "      <td>114.0</td>\n",
       "      <td>[{\"iso_639_1\": \"en\", \"name\": \"English\"}, {\"iso...</td>\n",
       "      <td>Released</td>\n",
       "      <td>On every street in every city, there's a nobod...</td>\n",
       "      <td>Taxi Driver</td>\n",
       "      <td>8.0</td>\n",
       "      <td>2535</td>\n",
       "      <td>[{'cast_id': 5, 'character': 'Travis Bickle', ...</td>\n",
       "      <td>[{'credit_id': '52fe4218c3a36847f8003803', 'de...</td>\n",
       "    </tr>\n",
       "    <tr>\n",
       "      <th>4602</th>\n",
       "      <td>350000</td>\n",
       "      <td>[{'id': 18, 'name': 'Drama'}]</td>\n",
       "      <td>NaN</td>\n",
       "      <td>389</td>\n",
       "      <td>[{'id': 934, 'name': 'judge'}, {'id': 1417, 'n...</td>\n",
       "      <td>en</td>\n",
       "      <td>12 Angry Men</td>\n",
       "      <td>The defense and the prosecution have rested an...</td>\n",
       "      <td>59.259204</td>\n",
       "      <td>[{\"name\": \"United Artists\", \"id\": 60}, {\"name\"...</td>\n",
       "      <td>...</td>\n",
       "      <td>1000000</td>\n",
       "      <td>96.0</td>\n",
       "      <td>[{\"iso_639_1\": \"en\", \"name\": \"English\"}]</td>\n",
       "      <td>Released</td>\n",
       "      <td>Life is in their hands. Death is on their minds.</td>\n",
       "      <td>12 Angry Men</td>\n",
       "      <td>8.2</td>\n",
       "      <td>2078</td>\n",
       "      <td>[{'cast_id': 29, 'character': 'Juror 8', 'cred...</td>\n",
       "      <td>[{'credit_id': '52fe423dc3a36847f800ec55', 'de...</td>\n",
       "    </tr>\n",
       "  </tbody>\n",
       "</table>\n",
       "<p>481 rows × 22 columns</p>\n",
       "</div>"
      ],
      "text/plain": [
       "         budget                                             genres  \\\n",
       "0     237000000  [{'id': 28, 'name': 'Action'}, {'id': 12, 'nam...   \n",
       "1     300000000  [{'id': 12, 'name': 'Adventure'}, {'id': 14, '...   \n",
       "2     245000000  [{'id': 28, 'name': 'Action'}, {'id': 12, 'nam...   \n",
       "3     250000000  [{'id': 28, 'name': 'Action'}, {'id': 80, 'nam...   \n",
       "4     260000000  [{'id': 28, 'name': 'Action'}, {'id': 12, 'nam...   \n",
       "...         ...                                                ...   \n",
       "4291    1200000  [{'id': 27, 'name': 'Horror'}, {'id': 9648, 'n...   \n",
       "4300    1200000  [{'id': 80, 'name': 'Crime'}, {'id': 53, 'name...   \n",
       "4302    1200000                    [{'id': 37, 'name': 'Western'}]   \n",
       "4337    1300000  [{'id': 80, 'name': 'Crime'}, {'id': 18, 'name...   \n",
       "4602     350000                      [{'id': 18, 'name': 'Drama'}]   \n",
       "\n",
       "                                               homepage      id  \\\n",
       "0                           http://www.avatarmovie.com/   19995   \n",
       "1          http://disney.go.com/disneypictures/pirates/     285   \n",
       "2           http://www.sonypictures.com/movies/spectre/  206647   \n",
       "3                    http://www.thedarkknightrises.com/   49026   \n",
       "4                  http://movies.disney.com/john-carter   49529   \n",
       "...                                                 ...     ...   \n",
       "4291                                                NaN     176   \n",
       "4300                                                NaN     500   \n",
       "4302  http://www.mgm.com/#/our-titles/766/The-Good,-...     429   \n",
       "4337                                                NaN     103   \n",
       "4602                                                NaN     389   \n",
       "\n",
       "                                               keywords original_language  \\\n",
       "0     [{'id': 1463, 'name': 'culture clash'}, {'id':...                en   \n",
       "1     [{'id': 270, 'name': 'ocean'}, {'id': 726, 'na...                en   \n",
       "2     [{'id': 470, 'name': 'spy'}, {'id': 818, 'name...                en   \n",
       "3     [{'id': 849, 'name': 'dc comics'}, {'id': 853,...                en   \n",
       "4     [{'id': 818, 'name': 'based on novel'}, {'id':...                en   \n",
       "...                                                 ...               ...   \n",
       "4291  [{'id': 1366, 'name': 'shotgun'}, {'id': 13000...                en   \n",
       "4300  [{'id': 2052, 'name': 'traitor'}, {'id': 6099,...                en   \n",
       "4302  [{'id': 801, 'name': 'bounty hunter'}, {'id': ...                it   \n",
       "4337  [{'id': 422, 'name': 'vietnam veteran'}, {'id'...                en   \n",
       "4602  [{'id': 934, 'name': 'judge'}, {'id': 1417, 'n...                en   \n",
       "\n",
       "                                original_title  \\\n",
       "0                                       Avatar   \n",
       "1     Pirates of the Caribbean: At World's End   \n",
       "2                                      Spectre   \n",
       "3                        The Dark Knight Rises   \n",
       "4                                  John Carter   \n",
       "...                                        ...   \n",
       "4291                                       Saw   \n",
       "4300                            Reservoir Dogs   \n",
       "4302           Il buono, il brutto, il cattivo   \n",
       "4337                               Taxi Driver   \n",
       "4602                              12 Angry Men   \n",
       "\n",
       "                                               overview  popularity  \\\n",
       "0     In the 22nd century, a paraplegic Marine is di...  150.437577   \n",
       "1     Captain Barbossa, long believed to be dead, ha...  139.082615   \n",
       "2     A cryptic message from Bond’s past sends him o...  107.376788   \n",
       "3     Following the death of District Attorney Harve...  112.312950   \n",
       "4     John Carter is a war-weary, former military ca...   43.926995   \n",
       "...                                                 ...         ...   \n",
       "4291  Obsessed with teaching his victims the value o...   63.655973   \n",
       "4300  A botched robbery indicates a police informant...   66.925866   \n",
       "4302  While the Civil War rages between the Union an...   88.377076   \n",
       "4337  A mentally unstable Vietnam War veteran works ...   58.845025   \n",
       "4602  The defense and the prosecution have rested an...   59.259204   \n",
       "\n",
       "                                   production_companies  ...     revenue  \\\n",
       "0     [{\"name\": \"Ingenious Film Partners\", \"id\": 289...  ...  2787965087   \n",
       "1     [{\"name\": \"Walt Disney Pictures\", \"id\": 2}, {\"...  ...   961000000   \n",
       "2     [{\"name\": \"Columbia Pictures\", \"id\": 5}, {\"nam...  ...   880674609   \n",
       "3     [{\"name\": \"Legendary Pictures\", \"id\": 923}, {\"...  ...  1084939099   \n",
       "4           [{\"name\": \"Walt Disney Pictures\", \"id\": 2}]  ...   284139100   \n",
       "...                                                 ...  ...         ...   \n",
       "4291  [{\"name\": \"Lions Gate Films\", \"id\": 35}, {\"nam...  ...   103911669   \n",
       "4300  [{\"name\": \"Live Entertainment\", \"id\": 285}, {\"...  ...    14661007   \n",
       "4302  [{\"name\": \"United Artists\", \"id\": 60}, {\"name\"...  ...     6000000   \n",
       "4337  [{\"name\": \"Columbia Pictures Corporation\", \"id...  ...    28262574   \n",
       "4602  [{\"name\": \"United Artists\", \"id\": 60}, {\"name\"...  ...     1000000   \n",
       "\n",
       "     runtime                                   spoken_languages    status  \\\n",
       "0      162.0  [{\"iso_639_1\": \"en\", \"name\": \"English\"}, {\"iso...  Released   \n",
       "1      169.0           [{\"iso_639_1\": \"en\", \"name\": \"English\"}]  Released   \n",
       "2      148.0  [{\"iso_639_1\": \"fr\", \"name\": \"Fran\\u00e7ais\"},...  Released   \n",
       "3      165.0           [{\"iso_639_1\": \"en\", \"name\": \"English\"}]  Released   \n",
       "4      132.0           [{\"iso_639_1\": \"en\", \"name\": \"English\"}]  Released   \n",
       "...      ...                                                ...       ...   \n",
       "4291   103.0           [{\"iso_639_1\": \"en\", \"name\": \"English\"}]  Released   \n",
       "4300    99.0           [{\"iso_639_1\": \"en\", \"name\": \"English\"}]  Released   \n",
       "4302   161.0          [{\"iso_639_1\": \"it\", \"name\": \"Italiano\"}]  Released   \n",
       "4337   114.0  [{\"iso_639_1\": \"en\", \"name\": \"English\"}, {\"iso...  Released   \n",
       "4602    96.0           [{\"iso_639_1\": \"en\", \"name\": \"English\"}]  Released   \n",
       "\n",
       "                                                tagline  \\\n",
       "0                           Enter the World of Pandora.   \n",
       "1        At the end of the world, the adventure begins.   \n",
       "2                                 A Plan No One Escapes   \n",
       "3                                       The Legend Ends   \n",
       "4                  Lost in our world, found in another.   \n",
       "...                                                 ...   \n",
       "4291                     Live or die. Make your choice.   \n",
       "4300                             Every dog has his day.   \n",
       "4302  For three men the Civil War wasn't hell. It wa...   \n",
       "4337  On every street in every city, there's a nobod...   \n",
       "4602   Life is in their hands. Death is on their minds.   \n",
       "\n",
       "                                         title vote_average vote_count  \\\n",
       "0                                       Avatar          7.2      11800   \n",
       "1     Pirates of the Caribbean: At World's End          6.9       4500   \n",
       "2                                      Spectre          6.3       4466   \n",
       "3                        The Dark Knight Rises          7.6       9106   \n",
       "4                                  John Carter          6.1       2124   \n",
       "...                                        ...          ...        ...   \n",
       "4291                                       Saw          7.2       2184   \n",
       "4300                            Reservoir Dogs          8.0       3697   \n",
       "4302            The Good, the Bad and the Ugly          8.1       2311   \n",
       "4337                               Taxi Driver          8.0       2535   \n",
       "4602                              12 Angry Men          8.2       2078   \n",
       "\n",
       "                                                   cast  \\\n",
       "0     [{'cast_id': 242, 'character': 'Jake Sully', '...   \n",
       "1     [{'cast_id': 4, 'character': 'Captain Jack Spa...   \n",
       "2     [{'cast_id': 1, 'character': 'James Bond', 'cr...   \n",
       "3     [{'cast_id': 2, 'character': 'Bruce Wayne / Ba...   \n",
       "4     [{'cast_id': 5, 'character': 'John Carter', 'c...   \n",
       "...                                                 ...   \n",
       "4291  [{'cast_id': 4, 'character': 'Dr. Lawrence Gor...   \n",
       "4300  [{'cast_id': 20, 'character': 'Mr. White/Larry...   \n",
       "4302  [{'cast_id': 6, 'character': 'Tuco', 'credit_i...   \n",
       "4337  [{'cast_id': 5, 'character': 'Travis Bickle', ...   \n",
       "4602  [{'cast_id': 29, 'character': 'Juror 8', 'cred...   \n",
       "\n",
       "                                                   crew  \n",
       "0     [{'credit_id': '52fe48009251416c750aca23', 'de...  \n",
       "1     [{'credit_id': '52fe4232c3a36847f800b579', 'de...  \n",
       "2     [{'credit_id': '54805967c3a36829b5002c41', 'de...  \n",
       "3     [{'credit_id': '52fe4781c3a36847f81398c3', 'de...  \n",
       "4     [{'credit_id': '52fe479ac3a36847f813eaa3', 'de...  \n",
       "...                                                 ...  \n",
       "4291  [{'credit_id': '52fe4223c3a36847f8006c57', 'de...  \n",
       "4300  [{'credit_id': '52fe424ac3a36847f8012cb9', 'de...  \n",
       "4302  [{'credit_id': '575aee00c3a3682d10000281', 'de...  \n",
       "4337  [{'credit_id': '52fe4218c3a36847f8003803', 'de...  \n",
       "4602  [{'credit_id': '52fe423dc3a36847f800ec55', 'de...  \n",
       "\n",
       "[481 rows x 22 columns]"
      ]
     },
     "execution_count": 7,
     "metadata": {},
     "output_type": "execute_result"
    }
   ],
   "source": [
    "# Nhập code của bạn tại đây\n",
    "df_m = df.copy().loc[df['vote_count'] >= m]\n",
    "df_m.shape\n",
    "df_m"
   ]
  },
  {
   "cell_type": "markdown",
   "metadata": {
    "id": "IZhqD2US_iIh"
   },
   "source": [
    "Tính điểm cho từng bộ phim bằng hàm weighted_rating"
   ]
  },
  {
   "cell_type": "code",
   "execution_count": 8,
   "metadata": {
    "_uuid": "d2d189929715237ab19a18fb8747239b86092968",
    "id": "dR_VWGh4xNsx"
   },
   "outputs": [
    {
     "data": {
      "text/html": [
       "<div>\n",
       "<style scoped>\n",
       "    .dataframe tbody tr th:only-of-type {\n",
       "        vertical-align: middle;\n",
       "    }\n",
       "\n",
       "    .dataframe tbody tr th {\n",
       "        vertical-align: top;\n",
       "    }\n",
       "\n",
       "    .dataframe thead th {\n",
       "        text-align: right;\n",
       "    }\n",
       "</style>\n",
       "<table border=\"1\" class=\"dataframe\">\n",
       "  <thead>\n",
       "    <tr style=\"text-align: right;\">\n",
       "      <th></th>\n",
       "      <th>budget</th>\n",
       "      <th>genres</th>\n",
       "      <th>homepage</th>\n",
       "      <th>id</th>\n",
       "      <th>keywords</th>\n",
       "      <th>original_language</th>\n",
       "      <th>original_title</th>\n",
       "      <th>overview</th>\n",
       "      <th>popularity</th>\n",
       "      <th>production_companies</th>\n",
       "      <th>...</th>\n",
       "      <th>runtime</th>\n",
       "      <th>spoken_languages</th>\n",
       "      <th>status</th>\n",
       "      <th>tagline</th>\n",
       "      <th>title</th>\n",
       "      <th>vote_average</th>\n",
       "      <th>vote_count</th>\n",
       "      <th>cast</th>\n",
       "      <th>crew</th>\n",
       "      <th>score</th>\n",
       "    </tr>\n",
       "  </thead>\n",
       "  <tbody>\n",
       "    <tr>\n",
       "      <th>1881</th>\n",
       "      <td>25000000</td>\n",
       "      <td>[{'id': 18, 'name': 'Drama'}, {'id': 80, 'name...</td>\n",
       "      <td>NaN</td>\n",
       "      <td>278</td>\n",
       "      <td>[{'id': 378, 'name': 'prison'}, {'id': 417, 'n...</td>\n",
       "      <td>en</td>\n",
       "      <td>The Shawshank Redemption</td>\n",
       "      <td>Framed in the 1940s for the double murder of h...</td>\n",
       "      <td>136.747729</td>\n",
       "      <td>[{\"name\": \"Castle Rock Entertainment\", \"id\": 97}]</td>\n",
       "      <td>...</td>\n",
       "      <td>142.0</td>\n",
       "      <td>[{\"iso_639_1\": \"en\", \"name\": \"English\"}]</td>\n",
       "      <td>Released</td>\n",
       "      <td>Fear can hold you prisoner. Hope can set you f...</td>\n",
       "      <td>The Shawshank Redemption</td>\n",
       "      <td>8.5</td>\n",
       "      <td>8205</td>\n",
       "      <td>[{'cast_id': 3, 'character': 'Andy Dufresne', ...</td>\n",
       "      <td>[{'credit_id': '52fe4231c3a36847f800b153', 'de...</td>\n",
       "      <td>8.059258</td>\n",
       "    </tr>\n",
       "    <tr>\n",
       "      <th>662</th>\n",
       "      <td>63000000</td>\n",
       "      <td>[{'id': 18, 'name': 'Drama'}]</td>\n",
       "      <td>http://www.foxmovies.com/movies/fight-club</td>\n",
       "      <td>550</td>\n",
       "      <td>[{'id': 825, 'name': 'support group'}, {'id': ...</td>\n",
       "      <td>en</td>\n",
       "      <td>Fight Club</td>\n",
       "      <td>A ticking-time-bomb insomniac and a slippery s...</td>\n",
       "      <td>146.757391</td>\n",
       "      <td>[{\"name\": \"Regency Enterprises\", \"id\": 508}, {...</td>\n",
       "      <td>...</td>\n",
       "      <td>139.0</td>\n",
       "      <td>[{\"iso_639_1\": \"en\", \"name\": \"English\"}]</td>\n",
       "      <td>Released</td>\n",
       "      <td>Mischief. Mayhem. Soap.</td>\n",
       "      <td>Fight Club</td>\n",
       "      <td>8.3</td>\n",
       "      <td>9413</td>\n",
       "      <td>[{'cast_id': 4, 'character': 'The Narrator', '...</td>\n",
       "      <td>[{'credit_id': '55731b8192514111610027d7', 'de...</td>\n",
       "      <td>7.939256</td>\n",
       "    </tr>\n",
       "    <tr>\n",
       "      <th>65</th>\n",
       "      <td>185000000</td>\n",
       "      <td>[{'id': 18, 'name': 'Drama'}, {'id': 28, 'name...</td>\n",
       "      <td>http://thedarkknight.warnerbros.com/dvdsite/</td>\n",
       "      <td>155</td>\n",
       "      <td>[{'id': 849, 'name': 'dc comics'}, {'id': 853,...</td>\n",
       "      <td>en</td>\n",
       "      <td>The Dark Knight</td>\n",
       "      <td>Batman raises the stakes in his war on crime. ...</td>\n",
       "      <td>187.322927</td>\n",
       "      <td>[{\"name\": \"DC Comics\", \"id\": 429}, {\"name\": \"L...</td>\n",
       "      <td>...</td>\n",
       "      <td>152.0</td>\n",
       "      <td>[{\"iso_639_1\": \"en\", \"name\": \"English\"}, {\"iso...</td>\n",
       "      <td>Released</td>\n",
       "      <td>Why So Serious?</td>\n",
       "      <td>The Dark Knight</td>\n",
       "      <td>8.2</td>\n",
       "      <td>12002</td>\n",
       "      <td>[{'cast_id': 35, 'character': 'Bruce Wayne', '...</td>\n",
       "      <td>[{'credit_id': '55a0eb4a925141296b0010f8', 'de...</td>\n",
       "      <td>7.920020</td>\n",
       "    </tr>\n",
       "    <tr>\n",
       "      <th>3232</th>\n",
       "      <td>8000000</td>\n",
       "      <td>[{'id': 53, 'name': 'Thriller'}, {'id': 80, 'n...</td>\n",
       "      <td>NaN</td>\n",
       "      <td>680</td>\n",
       "      <td>[{'id': 396, 'name': 'transporter'}, {'id': 14...</td>\n",
       "      <td>en</td>\n",
       "      <td>Pulp Fiction</td>\n",
       "      <td>A burger-loving hit man, his philosophical par...</td>\n",
       "      <td>121.463076</td>\n",
       "      <td>[{\"name\": \"Miramax Films\", \"id\": 14}, {\"name\":...</td>\n",
       "      <td>...</td>\n",
       "      <td>154.0</td>\n",
       "      <td>[{\"iso_639_1\": \"en\", \"name\": \"English\"}, {\"iso...</td>\n",
       "      <td>Released</td>\n",
       "      <td>Just because you are a character doesn't mean ...</td>\n",
       "      <td>Pulp Fiction</td>\n",
       "      <td>8.3</td>\n",
       "      <td>8428</td>\n",
       "      <td>[{'cast_id': 2, 'character': 'Vincent Vega', '...</td>\n",
       "      <td>[{'credit_id': '52fe4269c3a36847f801caa3', 'de...</td>\n",
       "      <td>7.904645</td>\n",
       "    </tr>\n",
       "    <tr>\n",
       "      <th>96</th>\n",
       "      <td>160000000</td>\n",
       "      <td>[{'id': 28, 'name': 'Action'}, {'id': 53, 'nam...</td>\n",
       "      <td>http://inceptionmovie.warnerbros.com/</td>\n",
       "      <td>27205</td>\n",
       "      <td>[{'id': 1014, 'name': 'loss of lover'}, {'id':...</td>\n",
       "      <td>en</td>\n",
       "      <td>Inception</td>\n",
       "      <td>Cobb, a skilled thief who commits corporate es...</td>\n",
       "      <td>167.583710</td>\n",
       "      <td>[{\"name\": \"Legendary Pictures\", \"id\": 923}, {\"...</td>\n",
       "      <td>...</td>\n",
       "      <td>148.0</td>\n",
       "      <td>[{\"iso_639_1\": \"en\", \"name\": \"English\"}, {\"iso...</td>\n",
       "      <td>Released</td>\n",
       "      <td>Your mind is the scene of the crime.</td>\n",
       "      <td>Inception</td>\n",
       "      <td>8.1</td>\n",
       "      <td>13752</td>\n",
       "      <td>[{'cast_id': 1, 'character': 'Dom Cobb', 'cred...</td>\n",
       "      <td>[{'credit_id': '56e8462cc3a368408400354c', 'de...</td>\n",
       "      <td>7.863239</td>\n",
       "    </tr>\n",
       "    <tr>\n",
       "      <th>...</th>\n",
       "      <td>...</td>\n",
       "      <td>...</td>\n",
       "      <td>...</td>\n",
       "      <td>...</td>\n",
       "      <td>...</td>\n",
       "      <td>...</td>\n",
       "      <td>...</td>\n",
       "      <td>...</td>\n",
       "      <td>...</td>\n",
       "      <td>...</td>\n",
       "      <td>...</td>\n",
       "      <td>...</td>\n",
       "      <td>...</td>\n",
       "      <td>...</td>\n",
       "      <td>...</td>\n",
       "      <td>...</td>\n",
       "      <td>...</td>\n",
       "      <td>...</td>\n",
       "      <td>...</td>\n",
       "      <td>...</td>\n",
       "      <td>...</td>\n",
       "    </tr>\n",
       "    <tr>\n",
       "      <th>41</th>\n",
       "      <td>200000000</td>\n",
       "      <td>[{'id': 12, 'name': 'Adventure'}, {'id': 28, '...</td>\n",
       "      <td>http://greenlanternmovie.warnerbros.com/</td>\n",
       "      <td>44912</td>\n",
       "      <td>[{'id': 849, 'name': 'dc comics'}, {'id': 4375...</td>\n",
       "      <td>en</td>\n",
       "      <td>Green Lantern</td>\n",
       "      <td>For centuries, a small but powerful force of w...</td>\n",
       "      <td>51.872839</td>\n",
       "      <td>[{\"name\": \"De Line Pictures\", \"id\": 2609}, {\"n...</td>\n",
       "      <td>...</td>\n",
       "      <td>114.0</td>\n",
       "      <td>[{\"iso_639_1\": \"en\", \"name\": \"English\"}]</td>\n",
       "      <td>Released</td>\n",
       "      <td>In our darkest hour, there will be light.</td>\n",
       "      <td>Green Lantern</td>\n",
       "      <td>5.1</td>\n",
       "      <td>2487</td>\n",
       "      <td>[{'cast_id': 6, 'character': 'Hal Jordan / Gre...</td>\n",
       "      <td>[{'credit_id': '52fe46a3c3a36847f8109f09', 'de...</td>\n",
       "      <td>5.521697</td>\n",
       "    </tr>\n",
       "    <tr>\n",
       "      <th>337</th>\n",
       "      <td>92000000</td>\n",
       "      <td>[{'id': 28, 'name': 'Action'}, {'id': 53, 'nam...</td>\n",
       "      <td>http://www.diehardmovie.com/</td>\n",
       "      <td>47964</td>\n",
       "      <td>[{'id': 258, 'name': 'bomb'}, {'id': 591, 'nam...</td>\n",
       "      <td>en</td>\n",
       "      <td>A Good Day to Die Hard</td>\n",
       "      <td>Iconoclastic, take-no-prisoners cop John McCla...</td>\n",
       "      <td>65.402595</td>\n",
       "      <td>[{\"name\": \"Ingenious Media\", \"id\": 290}, {\"nam...</td>\n",
       "      <td>...</td>\n",
       "      <td>98.0</td>\n",
       "      <td>[{\"iso_639_1\": \"en\", \"name\": \"English\"}, {\"iso...</td>\n",
       "      <td>Released</td>\n",
       "      <td>Yippee Ki-Yay Mother Russia</td>\n",
       "      <td>A Good Day to Die Hard</td>\n",
       "      <td>5.2</td>\n",
       "      <td>3493</td>\n",
       "      <td>[{'cast_id': 1, 'character': 'John McClane', '...</td>\n",
       "      <td>[{'credit_id': '5336b04a9251417db4000c80', 'de...</td>\n",
       "      <td>5.507643</td>\n",
       "    </tr>\n",
       "    <tr>\n",
       "      <th>193</th>\n",
       "      <td>130000000</td>\n",
       "      <td>[{'id': 878, 'name': 'Science Fiction'}, {'id'...</td>\n",
       "      <td>NaN</td>\n",
       "      <td>82700</td>\n",
       "      <td>[{'id': 4565, 'name': 'dystopia'}]</td>\n",
       "      <td>en</td>\n",
       "      <td>After Earth</td>\n",
       "      <td>One thousand years after cataclysmic events fo...</td>\n",
       "      <td>42.840582</td>\n",
       "      <td>[{\"name\": \"Columbia Pictures\", \"id\": 5}, {\"nam...</td>\n",
       "      <td>...</td>\n",
       "      <td>100.0</td>\n",
       "      <td>[{\"iso_639_1\": \"en\", \"name\": \"English\"}]</td>\n",
       "      <td>Released</td>\n",
       "      <td>Danger is real, fear is a choice</td>\n",
       "      <td>After Earth</td>\n",
       "      <td>5.0</td>\n",
       "      <td>2532</td>\n",
       "      <td>[{'cast_id': 11, 'character': 'Kitai Raige', '...</td>\n",
       "      <td>[{'credit_id': '52fe486f9251416c9108c631', 'de...</td>\n",
       "      <td>5.459420</td>\n",
       "    </tr>\n",
       "    <tr>\n",
       "      <th>91</th>\n",
       "      <td>165000000</td>\n",
       "      <td>[{'id': 28, 'name': 'Action'}, {'id': 12, 'nam...</td>\n",
       "      <td>http://www.warof1996.com</td>\n",
       "      <td>47933</td>\n",
       "      <td>[{'id': 12026, 'name': 'alternate history'}, {...</td>\n",
       "      <td>en</td>\n",
       "      <td>Independence Day: Resurgence</td>\n",
       "      <td>We always knew they were coming back. Using re...</td>\n",
       "      <td>48.775723</td>\n",
       "      <td>[{\"name\": \"Twentieth Century Fox Film Corporat...</td>\n",
       "      <td>...</td>\n",
       "      <td>120.0</td>\n",
       "      <td>[{\"iso_639_1\": \"en\", \"name\": \"English\"}]</td>\n",
       "      <td>Released</td>\n",
       "      <td>We had twenty years to prepare. So did they.</td>\n",
       "      <td>Independence Day: Resurgence</td>\n",
       "      <td>4.9</td>\n",
       "      <td>2491</td>\n",
       "      <td>[{'cast_id': 5, 'character': 'Jake Morrison', ...</td>\n",
       "      <td>[{'credit_id': '5763d39cc3a36860a5000168', 'de...</td>\n",
       "      <td>5.406234</td>\n",
       "    </tr>\n",
       "    <tr>\n",
       "      <th>242</th>\n",
       "      <td>120000000</td>\n",
       "      <td>[{'id': 28, 'name': 'Action'}, {'id': 12, 'nam...</td>\n",
       "      <td>http://www.fantasticfourmovie.com/</td>\n",
       "      <td>166424</td>\n",
       "      <td>[{'id': 3822, 'name': 'teleportation'}, {'id':...</td>\n",
       "      <td>en</td>\n",
       "      <td>Fantastic Four</td>\n",
       "      <td>Four young outsiders teleport to a dangerous u...</td>\n",
       "      <td>38.126095</td>\n",
       "      <td>[{\"name\": \"Twentieth Century Fox Film Corporat...</td>\n",
       "      <td>...</td>\n",
       "      <td>100.0</td>\n",
       "      <td>[{\"iso_639_1\": \"en\", \"name\": \"English\"}]</td>\n",
       "      <td>Released</td>\n",
       "      <td>Change is coming.</td>\n",
       "      <td>Fantastic Four</td>\n",
       "      <td>4.4</td>\n",
       "      <td>2278</td>\n",
       "      <td>[{'cast_id': 169, 'character': 'Reed Richards ...</td>\n",
       "      <td>[{'credit_id': '566e93a9925141664f00eb4c', 'de...</td>\n",
       "      <td>5.155730</td>\n",
       "    </tr>\n",
       "  </tbody>\n",
       "</table>\n",
       "<p>481 rows × 23 columns</p>\n",
       "</div>"
      ],
      "text/plain": [
       "         budget                                             genres  \\\n",
       "1881   25000000  [{'id': 18, 'name': 'Drama'}, {'id': 80, 'name...   \n",
       "662    63000000                      [{'id': 18, 'name': 'Drama'}]   \n",
       "65    185000000  [{'id': 18, 'name': 'Drama'}, {'id': 28, 'name...   \n",
       "3232    8000000  [{'id': 53, 'name': 'Thriller'}, {'id': 80, 'n...   \n",
       "96    160000000  [{'id': 28, 'name': 'Action'}, {'id': 53, 'nam...   \n",
       "...         ...                                                ...   \n",
       "41    200000000  [{'id': 12, 'name': 'Adventure'}, {'id': 28, '...   \n",
       "337    92000000  [{'id': 28, 'name': 'Action'}, {'id': 53, 'nam...   \n",
       "193   130000000  [{'id': 878, 'name': 'Science Fiction'}, {'id'...   \n",
       "91    165000000  [{'id': 28, 'name': 'Action'}, {'id': 12, 'nam...   \n",
       "242   120000000  [{'id': 28, 'name': 'Action'}, {'id': 12, 'nam...   \n",
       "\n",
       "                                          homepage      id  \\\n",
       "1881                                           NaN     278   \n",
       "662     http://www.foxmovies.com/movies/fight-club     550   \n",
       "65    http://thedarkknight.warnerbros.com/dvdsite/     155   \n",
       "3232                                           NaN     680   \n",
       "96           http://inceptionmovie.warnerbros.com/   27205   \n",
       "...                                            ...     ...   \n",
       "41        http://greenlanternmovie.warnerbros.com/   44912   \n",
       "337                   http://www.diehardmovie.com/   47964   \n",
       "193                                            NaN   82700   \n",
       "91                        http://www.warof1996.com   47933   \n",
       "242             http://www.fantasticfourmovie.com/  166424   \n",
       "\n",
       "                                               keywords original_language  \\\n",
       "1881  [{'id': 378, 'name': 'prison'}, {'id': 417, 'n...                en   \n",
       "662   [{'id': 825, 'name': 'support group'}, {'id': ...                en   \n",
       "65    [{'id': 849, 'name': 'dc comics'}, {'id': 853,...                en   \n",
       "3232  [{'id': 396, 'name': 'transporter'}, {'id': 14...                en   \n",
       "96    [{'id': 1014, 'name': 'loss of lover'}, {'id':...                en   \n",
       "...                                                 ...               ...   \n",
       "41    [{'id': 849, 'name': 'dc comics'}, {'id': 4375...                en   \n",
       "337   [{'id': 258, 'name': 'bomb'}, {'id': 591, 'nam...                en   \n",
       "193                  [{'id': 4565, 'name': 'dystopia'}]                en   \n",
       "91    [{'id': 12026, 'name': 'alternate history'}, {...                en   \n",
       "242   [{'id': 3822, 'name': 'teleportation'}, {'id':...                en   \n",
       "\n",
       "                    original_title  \\\n",
       "1881      The Shawshank Redemption   \n",
       "662                     Fight Club   \n",
       "65                 The Dark Knight   \n",
       "3232                  Pulp Fiction   \n",
       "96                       Inception   \n",
       "...                            ...   \n",
       "41                   Green Lantern   \n",
       "337         A Good Day to Die Hard   \n",
       "193                    After Earth   \n",
       "91    Independence Day: Resurgence   \n",
       "242                 Fantastic Four   \n",
       "\n",
       "                                               overview  popularity  \\\n",
       "1881  Framed in the 1940s for the double murder of h...  136.747729   \n",
       "662   A ticking-time-bomb insomniac and a slippery s...  146.757391   \n",
       "65    Batman raises the stakes in his war on crime. ...  187.322927   \n",
       "3232  A burger-loving hit man, his philosophical par...  121.463076   \n",
       "96    Cobb, a skilled thief who commits corporate es...  167.583710   \n",
       "...                                                 ...         ...   \n",
       "41    For centuries, a small but powerful force of w...   51.872839   \n",
       "337   Iconoclastic, take-no-prisoners cop John McCla...   65.402595   \n",
       "193   One thousand years after cataclysmic events fo...   42.840582   \n",
       "91    We always knew they were coming back. Using re...   48.775723   \n",
       "242   Four young outsiders teleport to a dangerous u...   38.126095   \n",
       "\n",
       "                                   production_companies  ... runtime  \\\n",
       "1881  [{\"name\": \"Castle Rock Entertainment\", \"id\": 97}]  ...   142.0   \n",
       "662   [{\"name\": \"Regency Enterprises\", \"id\": 508}, {...  ...   139.0   \n",
       "65    [{\"name\": \"DC Comics\", \"id\": 429}, {\"name\": \"L...  ...   152.0   \n",
       "3232  [{\"name\": \"Miramax Films\", \"id\": 14}, {\"name\":...  ...   154.0   \n",
       "96    [{\"name\": \"Legendary Pictures\", \"id\": 923}, {\"...  ...   148.0   \n",
       "...                                                 ...  ...     ...   \n",
       "41    [{\"name\": \"De Line Pictures\", \"id\": 2609}, {\"n...  ...   114.0   \n",
       "337   [{\"name\": \"Ingenious Media\", \"id\": 290}, {\"nam...  ...    98.0   \n",
       "193   [{\"name\": \"Columbia Pictures\", \"id\": 5}, {\"nam...  ...   100.0   \n",
       "91    [{\"name\": \"Twentieth Century Fox Film Corporat...  ...   120.0   \n",
       "242   [{\"name\": \"Twentieth Century Fox Film Corporat...  ...   100.0   \n",
       "\n",
       "                                       spoken_languages    status  \\\n",
       "1881           [{\"iso_639_1\": \"en\", \"name\": \"English\"}]  Released   \n",
       "662            [{\"iso_639_1\": \"en\", \"name\": \"English\"}]  Released   \n",
       "65    [{\"iso_639_1\": \"en\", \"name\": \"English\"}, {\"iso...  Released   \n",
       "3232  [{\"iso_639_1\": \"en\", \"name\": \"English\"}, {\"iso...  Released   \n",
       "96    [{\"iso_639_1\": \"en\", \"name\": \"English\"}, {\"iso...  Released   \n",
       "...                                                 ...       ...   \n",
       "41             [{\"iso_639_1\": \"en\", \"name\": \"English\"}]  Released   \n",
       "337   [{\"iso_639_1\": \"en\", \"name\": \"English\"}, {\"iso...  Released   \n",
       "193            [{\"iso_639_1\": \"en\", \"name\": \"English\"}]  Released   \n",
       "91             [{\"iso_639_1\": \"en\", \"name\": \"English\"}]  Released   \n",
       "242            [{\"iso_639_1\": \"en\", \"name\": \"English\"}]  Released   \n",
       "\n",
       "                                                tagline  \\\n",
       "1881  Fear can hold you prisoner. Hope can set you f...   \n",
       "662                             Mischief. Mayhem. Soap.   \n",
       "65                                      Why So Serious?   \n",
       "3232  Just because you are a character doesn't mean ...   \n",
       "96                 Your mind is the scene of the crime.   \n",
       "...                                                 ...   \n",
       "41            In our darkest hour, there will be light.   \n",
       "337                         Yippee Ki-Yay Mother Russia   \n",
       "193                    Danger is real, fear is a choice   \n",
       "91         We had twenty years to prepare. So did they.   \n",
       "242                                   Change is coming.   \n",
       "\n",
       "                             title vote_average vote_count  \\\n",
       "1881      The Shawshank Redemption          8.5       8205   \n",
       "662                     Fight Club          8.3       9413   \n",
       "65                 The Dark Knight          8.2      12002   \n",
       "3232                  Pulp Fiction          8.3       8428   \n",
       "96                       Inception          8.1      13752   \n",
       "...                            ...          ...        ...   \n",
       "41                   Green Lantern          5.1       2487   \n",
       "337         A Good Day to Die Hard          5.2       3493   \n",
       "193                    After Earth          5.0       2532   \n",
       "91    Independence Day: Resurgence          4.9       2491   \n",
       "242                 Fantastic Four          4.4       2278   \n",
       "\n",
       "                                                   cast  \\\n",
       "1881  [{'cast_id': 3, 'character': 'Andy Dufresne', ...   \n",
       "662   [{'cast_id': 4, 'character': 'The Narrator', '...   \n",
       "65    [{'cast_id': 35, 'character': 'Bruce Wayne', '...   \n",
       "3232  [{'cast_id': 2, 'character': 'Vincent Vega', '...   \n",
       "96    [{'cast_id': 1, 'character': 'Dom Cobb', 'cred...   \n",
       "...                                                 ...   \n",
       "41    [{'cast_id': 6, 'character': 'Hal Jordan / Gre...   \n",
       "337   [{'cast_id': 1, 'character': 'John McClane', '...   \n",
       "193   [{'cast_id': 11, 'character': 'Kitai Raige', '...   \n",
       "91    [{'cast_id': 5, 'character': 'Jake Morrison', ...   \n",
       "242   [{'cast_id': 169, 'character': 'Reed Richards ...   \n",
       "\n",
       "                                                   crew     score  \n",
       "1881  [{'credit_id': '52fe4231c3a36847f800b153', 'de...  8.059258  \n",
       "662   [{'credit_id': '55731b8192514111610027d7', 'de...  7.939256  \n",
       "65    [{'credit_id': '55a0eb4a925141296b0010f8', 'de...  7.920020  \n",
       "3232  [{'credit_id': '52fe4269c3a36847f801caa3', 'de...  7.904645  \n",
       "96    [{'credit_id': '56e8462cc3a368408400354c', 'de...  7.863239  \n",
       "...                                                 ...       ...  \n",
       "41    [{'credit_id': '52fe46a3c3a36847f8109f09', 'de...  5.521697  \n",
       "337   [{'credit_id': '5336b04a9251417db4000c80', 'de...  5.507643  \n",
       "193   [{'credit_id': '52fe486f9251416c9108c631', 'de...  5.459420  \n",
       "91    [{'credit_id': '5763d39cc3a36860a5000168', 'de...  5.406234  \n",
       "242   [{'credit_id': '566e93a9925141664f00eb4c', 'de...  5.155730  \n",
       "\n",
       "[481 rows x 23 columns]"
      ]
     },
     "execution_count": 8,
     "metadata": {},
     "output_type": "execute_result"
    }
   ],
   "source": [
    "# Nhập code của bạn tại đây\n",
    "df_m['score'] = df_m.apply(weighted_rating, axis=1)\n",
    "df_m = df_m.sort_values('score', ascending=False)\n",
    "df_m"
   ]
  },
  {
   "cell_type": "markdown",
   "metadata": {
    "_uuid": "4cdd60c146173606146ec4fc3a1c9d8c184cb81c",
    "id": "CHTR-Z5ZxNsx"
   },
   "source": [
    "Đề xuất 10 bộ phim dựa vào phương pháp đề xuất Demographic Filtering"
   ]
  },
  {
   "cell_type": "code",
   "execution_count": 9,
   "metadata": {
    "_uuid": "a9a9fc3810ea67c31908bbdf8bb930daa918102b",
    "colab": {
     "base_uri": "https://localhost:8080/",
     "height": 363
    },
    "id": "w1ITz7NlxNsx",
    "outputId": "01837e37-c5d8-4314-c047-4e270a00985d"
   },
   "outputs": [
    {
     "data": {
      "text/html": [
       "<div>\n",
       "<style scoped>\n",
       "    .dataframe tbody tr th:only-of-type {\n",
       "        vertical-align: middle;\n",
       "    }\n",
       "\n",
       "    .dataframe tbody tr th {\n",
       "        vertical-align: top;\n",
       "    }\n",
       "\n",
       "    .dataframe thead th {\n",
       "        text-align: right;\n",
       "    }\n",
       "</style>\n",
       "<table border=\"1\" class=\"dataframe\">\n",
       "  <thead>\n",
       "    <tr style=\"text-align: right;\">\n",
       "      <th></th>\n",
       "      <th>title</th>\n",
       "      <th>vote_count</th>\n",
       "      <th>vote_average</th>\n",
       "      <th>score</th>\n",
       "    </tr>\n",
       "  </thead>\n",
       "  <tbody>\n",
       "    <tr>\n",
       "      <th>1881</th>\n",
       "      <td>The Shawshank Redemption</td>\n",
       "      <td>8205</td>\n",
       "      <td>8.5</td>\n",
       "      <td>8.059258</td>\n",
       "    </tr>\n",
       "    <tr>\n",
       "      <th>662</th>\n",
       "      <td>Fight Club</td>\n",
       "      <td>9413</td>\n",
       "      <td>8.3</td>\n",
       "      <td>7.939256</td>\n",
       "    </tr>\n",
       "    <tr>\n",
       "      <th>65</th>\n",
       "      <td>The Dark Knight</td>\n",
       "      <td>12002</td>\n",
       "      <td>8.2</td>\n",
       "      <td>7.920020</td>\n",
       "    </tr>\n",
       "    <tr>\n",
       "      <th>3232</th>\n",
       "      <td>Pulp Fiction</td>\n",
       "      <td>8428</td>\n",
       "      <td>8.3</td>\n",
       "      <td>7.904645</td>\n",
       "    </tr>\n",
       "    <tr>\n",
       "      <th>96</th>\n",
       "      <td>Inception</td>\n",
       "      <td>13752</td>\n",
       "      <td>8.1</td>\n",
       "      <td>7.863239</td>\n",
       "    </tr>\n",
       "    <tr>\n",
       "      <th>3337</th>\n",
       "      <td>The Godfather</td>\n",
       "      <td>5893</td>\n",
       "      <td>8.4</td>\n",
       "      <td>7.851236</td>\n",
       "    </tr>\n",
       "    <tr>\n",
       "      <th>95</th>\n",
       "      <td>Interstellar</td>\n",
       "      <td>10867</td>\n",
       "      <td>8.1</td>\n",
       "      <td>7.809479</td>\n",
       "    </tr>\n",
       "    <tr>\n",
       "      <th>809</th>\n",
       "      <td>Forrest Gump</td>\n",
       "      <td>7927</td>\n",
       "      <td>8.2</td>\n",
       "      <td>7.803188</td>\n",
       "    </tr>\n",
       "    <tr>\n",
       "      <th>329</th>\n",
       "      <td>The Lord of the Rings: The Return of the King</td>\n",
       "      <td>8064</td>\n",
       "      <td>8.1</td>\n",
       "      <td>7.727243</td>\n",
       "    </tr>\n",
       "    <tr>\n",
       "      <th>1990</th>\n",
       "      <td>The Empire Strikes Back</td>\n",
       "      <td>5879</td>\n",
       "      <td>8.2</td>\n",
       "      <td>7.697884</td>\n",
       "    </tr>\n",
       "  </tbody>\n",
       "</table>\n",
       "</div>"
      ],
      "text/plain": [
       "                                              title  vote_count  vote_average  \\\n",
       "1881                       The Shawshank Redemption        8205           8.5   \n",
       "662                                      Fight Club        9413           8.3   \n",
       "65                                  The Dark Knight       12002           8.2   \n",
       "3232                                   Pulp Fiction        8428           8.3   \n",
       "96                                        Inception       13752           8.1   \n",
       "3337                                  The Godfather        5893           8.4   \n",
       "95                                     Interstellar       10867           8.1   \n",
       "809                                    Forrest Gump        7927           8.2   \n",
       "329   The Lord of the Rings: The Return of the King        8064           8.1   \n",
       "1990                        The Empire Strikes Back        5879           8.2   \n",
       "\n",
       "         score  \n",
       "1881  8.059258  \n",
       "662   7.939256  \n",
       "65    7.920020  \n",
       "3232  7.904645  \n",
       "96    7.863239  \n",
       "3337  7.851236  \n",
       "95    7.809479  \n",
       "809   7.803188  \n",
       "329   7.727243  \n",
       "1990  7.697884  "
      ]
     },
     "execution_count": 9,
     "metadata": {},
     "output_type": "execute_result"
    }
   ],
   "source": [
    "# Nhập code của bạn tại đây\n",
    "\n",
    "df_m[['title', 'vote_count', 'vote_average', 'score']].head(10)"
   ]
  },
  {
   "cell_type": "markdown",
   "metadata": {
    "id": "EHzSflaBCyuB"
   },
   "source": [
    "## Task 4: Trực quan biểu đồ trực quan 10 bộ phim phổ biến nhất hiện nay bằng chỉ số popularity."
   ]
  },
  {
   "cell_type": "code",
   "execution_count": 10,
   "metadata": {
    "_uuid": "207f7058f92698b5fd776f7771a3ac0cc2928bf1",
    "colab": {
     "base_uri": "https://localhost:8080/",
     "height": 312
    },
    "id": "TT6F0jVBxNsx",
    "outputId": "e58cf51f-ac2f-4b20-cd2e-fa291c8c7e9d"
   },
   "outputs": [
    {
     "data": {
      "image/png": "[encoded data removed]",
      "text/plain": [
       "<Figure size 864x432 with 1 Axes>"
      ]
     },
     "metadata": {
      "needs_background": "light"
     },
     "output_type": "display_data"
    }
   ],
   "source": [
    "# Nhập code của bạn tại đây\n",
    "df.sort_values(by='popularity', ascending=False, inplace=True)\n",
    "df_top10 = df[['title', 'popularity', ]].head(10)\n",
    "# chọn cột title làm chỉ mục\n",
    "df_top10.set_index('title', inplace=True)\n",
    "# vẽ bar chart\n",
    "df_top10.plot(kind = 'barh',\n",
    "              figsize=(12, 6), \n",
    "              color='steelblue')\n",
    "plt.xlabel('Number of Immigrants')\n",
    "plt.title('Popularity Movies')\n",
    "\n",
    "    \n",
    "plt.show()"
   ]
  },
  {
   "cell_type": "markdown",
   "metadata": {
    "_uuid": "fe716df6e5e5a354ac53d556087147c0a64df2cc",
    "id": "zTuL81bPxNsy"
   },
   "source": [
    "# **Content Based Filtering**\n",
    "\n",
    "Trong hệ thống đề xuất này, nội dung của phim (overview, cast, crew, keyword, v.v.) được sử dụng để tìm sự tương đồng của giữa các bộ phim. Sau đó, những bộ phim có nhiều khả năng tương tự nhất được đề xuất."
   ]
  },
  {
   "cell_type": "markdown",
   "metadata": {
    "_uuid": "b0a813c803b0ba1f0204188ab2a63dc7f59ce2eb",
    "id": "g28lYQY6xNsy"
   },
   "source": [
    "Chúng ta sẽ tính toán điểm tương đồng theo từng cặp cho tất cả các phim dựa trên mô tả cốt truyện của chúng và đề xuất các phim dựa trên điểm tương đồng đó. Mô tả cốt truyện được đưa ra trong đặc trưng **overview** của tập dữ liệu của chúng tôi."
   ]
  },
  {
   "cell_type": "code",
   "execution_count": 11,
   "metadata": {
    "_uuid": "5e676c38ace04a24205b76b16dac0fa3e058027f",
    "colab": {
     "base_uri": "https://localhost:8080/"
    },
    "id": "e1g4GcoQxNsy",
    "outputId": "4290d443-4f8c-4233-ffb4-983a87c6f8d1"
   },
   "outputs": [
    {
     "data": {
      "text/plain": [
       "546    Minions Stuart, Kevin and Bob are recruited by...\n",
       "95     Interstellar chronicles the adventures of a gr...\n",
       "788    Deadpool tells the origin story of former Spec...\n",
       "94     Light years from Earth, 26 years after being a...\n",
       "127    An apocalyptic story set in the furthest reach...\n",
       "Name: overview, dtype: object"
      ]
     },
     "execution_count": 11,
     "metadata": {},
     "output_type": "execute_result"
    }
   ],
   "source": [
    "df['overview'].head(5)"
   ]
  },
  {
   "cell_type": "markdown",
   "metadata": {
    "_uuid": "277a9bb5b00a6bd2469c45777f9c659066f402b3",
    "id": "L7gjnD_BxNsy"
   },
   "source": [
    "Trước hết, vì đặc trưng **overview** là chuỗi, do đó chúng ta không thể làm việc với chúng. Do đó chúng ta sẽ sử dụng một phương pháp là tính toán vector Term Frequency-Inverse Document Frequency (TF-IDF) cho từng **overview**.\n",
    "\n",
    "Term Frequency(TF) tần xuất xuất hiện của từ trong văn bản. Còn Inverse Document Frequency (IDF) là mức độ quan trọng của từ.\n",
    "\n",
    "Công thức:\n",
    "\n",
    "* TF = (số lần từ t xuất hiện trong văn bản d) / (tổng số từ trong văn bản d)\n",
    "* IDF(t, D) = log(tổng số lượng văn bản trong bộ dữ liệu D/số lượng văn bản trong bộ dữ liệu D có từ t)\n",
    "\n",
    "Điều này sẽ cung cấp cho bạn một ma trận trong đó mỗi cột đại diện cho một từ trong từ vựng tổng quan (tất cả các từ xuất hiện trong ít nhất một tài liệu) và mỗi hàng đại diện cho một bộ phim hay cụ thể là một overview.\n",
    "\n"
   ]
  },
  {
   "cell_type": "markdown",
   "metadata": {
    "id": "Mb3jg3Ma-Jcc"
   },
   "source": [
    "## Task 5: Tính IF-IDF cho toàn bộ overview"
   ]
  },
  {
   "cell_type": "markdown",
   "metadata": {
    "id": "9fZTAU5U-L7O"
   },
   "source": [
    "Xử lý dữ liệu bị khuyết cho overview. Thay thế Na bằng chuỗi trống: \"\"."
   ]
  },
  {
   "cell_type": "code",
   "execution_count": 12,
   "metadata": {
    "id": "TY-N0E9YMCjo"
   },
   "outputs": [],
   "source": [
    "# Nhập code của bạn tại đây\n",
    "df['overview'] = df['overview'].fillna('')"
   ]
  },
  {
   "cell_type": "code",
   "execution_count": 13,
   "metadata": {
    "_uuid": "a92da8cde39c61deef5a1b8efa31ed84cda7f5fe",
    "colab": {
     "base_uri": "https://localhost:8080/"
    },
    "id": "2X3KG9ruxNsy",
    "outputId": "d987762e-00c7-44ca-cf70-504e95c0d73e"
   },
   "outputs": [
    {
     "data": {
      "text/plain": [
       "(4803, 20978)"
      ]
     },
     "execution_count": 13,
     "metadata": {},
     "output_type": "execute_result"
    }
   ],
   "source": [
    "from sklearn.feature_extraction.text import TfidfVectorizer\n",
    "\n",
    "# Nhập code của bạn tại đây\n",
    "tfidf = TfidfVectorizer(stop_words='english')\n",
    "tfidf_matrix = tfidf.fit_transform(df['overview'])\n",
    "\n",
    "tfidf_matrix.shape"
   ]
  },
  {
   "cell_type": "markdown",
   "metadata": {
    "_uuid": "6bde57434bf9a0e8f8b229d36901d75b77ff962f",
    "id": "rsyaAi8lxNsy"
   },
   "source": [
    "Với ma trận này, chúng ta đã có thể tính toán giá trị tương tự cho cặp overview.Có nhiều cách để tính giá trị tương tự như euclidean, Pearson and cosine similarity. Trong bài toán này chúng ta sẽ sử dụng similarity để tính giá trị tương tự.\n",
    "\n",
    "![](data:image/png;base64,iVBORw0KGgoAAAANSUhEUgAAAa0AAAB1CAMAAADKkk7zAAAAh1BMVEX///8AAAD5+fnFxcWtra3z8/P8/Pzw8PBycnL09PTo6Oj39/e9vb3g4ODBwcGXl5ednZ3Pz8/c3NyIiIiOjo5FRUXS0tJ+fn64uLimpqZPT0/d3d1tbW1jY2NXV1c9PT02NjZ3d3cvLy9TU1NdXV0YGBggICBISEg5OTkqKioLCwsTExMdHR2pbwthAAARwklEQVR4nO1d2YKiOhBNARJAIIGETVkVtbX7/7/vJiCILTPdLr3ckfPQ4xoYDlU5VamUCE2YMGHChAkTng2+YS1Z8tNnMeFzyMhBm716P30aEz4DnGQ1UjbxT5/HhM8BYmSBqf/0aUz4DDDMEQusyRX+L5CskF5HxPrp85jwGcRiyvIi/6dPY8KECRN+BKZ1DvzTJzThL/DyrGIsapFmteG8+wA+f0GZmeZMQPm+U5zQA2/BCI9wSfoC7Pz9GVmbg6d6SAWShGr+/FvPc0IDF2CgBdX1y/nb3ls+NC7FS2EfUR4FhT3F0j8ABuVgsnJ29vBNzGARnn1c3XPpBeNNNgn+n8AaqpOZ6PYwFa+7xSJQzz6tQfMBe7WYMh8/AecNtD+9VSXG6izZa5KtfG7yzZT5+BloZ1PXAHON42h7tu7l1zsXW0uaTWT9FAxYjMZZoeHM+IHKh/pRArr7BUlouqJy8tKVSWl8P3AAbOS6Y5IgJQEuH/taK+Q1qGJN04zME1/w4snAfgDeAS6vu26XNI6jNgLzeGN9x2kLxQdDfMEm72PpCd+BVXbpCp2UUEIjiMRj5ZiS8uu6EfT2Pg+RaZkXX5rw9bDT5cVrcyppQiFUwifGSRt1qRsmGZoTiDBWkynk+gGo+eVlN+M2LA4hnSMvSknzahtt4aTcqchO6j8p/wlfhzAfBLp64/IUjwcrTRdGxSEgqqVltrAoj2aQCo3Bc8NThPBI3Z865ecFzgfxr642TxQ10RJNQVj81aiKNAMraK6SNqer2Y0moZE/Kfhvhl7RwTO/HrMXp+L+hfyzKs17Vk2oO+NLRthp8WXrhHywRqK4xsuYufhpGl8c30mrp4234nR0ytZplhpGmmVplKhfsQRID5rqNoiThAdSAV5i5tmXVjR/4uB4B/uxu1pXkxyaqZ1B8AWV6j7sF7sW5dsGDiv14+9MUN8AwvG3GDSJVSeA8vGX0rGHcG11WhL+BDIAMEbfUY5szSp44997UhPGYW3TA8Bs7K2erQy2UzT6K0DAWQCMzkuCrTfu+CF9W9Ev0IVsuLKvhyp5/CH+OQQB0l5hNfaWYOsQpFm9h+wPE9tdSIcL9grl+y84xj8GF8QdvhrqDMw6ryfY2rDQ8+JildrjX78H1jAs0J1k9I6ZMEQGVIsLodT7V1TYHh918xayAbJHR1whfVc/GE9sfQRr9VoUhbCtk87AaZe869myAILLhY37UKkgAmSaJIlMAOpIn9j6EOTg+b7v7ABOc3zvoXq2fIDdg5MHikdeRMzVAT0HW8ogLzO7XrgF6+Yf7QBvI2lS3ip3R4Rko2mhuwAi4O4qq8NfwJbuf3k2C/NWEihujJFDriuLxKnQ7oWJkPEiXGERnCcTdL7YAOzz9bqA8vEKXjhCguIjpIaxv4MtnbPLF+cxWyJvV4yFEBZJHvZfn1GjKVBw0rRiWLev22SoLIUXlAtFS797dHaifo8vKIPQDiREsw5IITnwr19inMPm0oc4iw0VlL1GI1+I9ztpAvEjQphw0dBjZQZWdxqa07Fyr98JUzt3BNYXLs2coEfR5RUyNXmX++UYWw5v3Ap7wI2Eq0Z4m3QXIj/gsszh/7MCPv+RG2s+ljtuCkz9lzG20FxqrvGV0ivhrJpZy38Txwn3wiM7xpR9/QM0TjwPhZ46Q47n+cjVhKgINalvLPn8yJZDiI2b11TLTxzF9zyMMDtQz5Gfk39Dz/9r8BkTu7klQkob/6knPPGWSIkDKWNm5E2Q5slaST3JnnaZ7u8Ispi+ErTYlo7O9mW0plVAI0a2DGGyLZIjW95LGkdBLATBvlznK2Yb2zy0og2sXhhOiv2eYb46/O0iWy+LJFoJLx/tE20nhrSCSGNljHCUy/eXgdyWZjd1yHYwremNwQVZBhKJuQMcZHpQWIoDpaZbmQgkFRXokS0bIrQ0ah/p2iGNs8rCUeEhhUNsmiJaqgthLbWGWyfu5kGPstN3Jei6IbigYCm6syGIFIKxNEFWncn3Q9gEu2C/l17RLbskn704DZV/RVK2ga4Vp8NUv7ckM4ZFgrEvF1gdmZtJ5U7anfgTyesfNmwVgi3sCbOhhbjl7QNtJjki2BKXvjUCBsKZGl1aRzFnJ+jdgZiULQoCudVTWZSYQxZjyxI2JlcRdRuYYnpBU0eplt3ahzIYqW+jNPPUx6DnZfQw1qMOcyfck1oXAf6brOE+siWJ2a/P2WrmLb8qV2+B0BTxa3slectWqzLUIprx+G+zVtXsSNMRhoW8OtnGwzsRtTLlyJaZbJtpq1E0akn/MhRSA3gMRuVTj2T/oMPci0EGxqv2UPdssRG2hG3pMWS+SWRdQ7x5x5YjlXy1CaveUeHBTekqHVttlhVDINmqNyrS3fT1wJC1lgIeS1udNdYr6Fh1tmUN7jGvS9nqyoPQq2/LPR2m32z/sMPci/40E8lbejiy5YyyJeItf7HwRNRa8Bjbb+/Y4mpzH+aslxheZPRIj95GPW5jQiCX65Ria3ExNl7UIiiW85ai7Xxhxm1G5TRvqdVpqK/ro6Tb6ekwv3SXjrSFRKgMxMVUwg/W0bbMfS4T14UU73Lt3CmZYEvMJ05WVAS7m/ZKkiBs5i2dy2h+lsEH2b1SHokwMYGp7W0RiZtCMSoRBjSa0Cs9ROs2N2QXkyZ8ByZrhCgsqgyW6BVgQyLhI4tY/qFbgEMqn0eq+LNQbShTI90AI+JpaSN1If61kZ/DSmt8HQ8+uvNXUGVCBopDrnNhaPMKcmNRWDI6kHezla2yqPV1SlL/zvv7B1GBuNstjNTPXRlHxcgP3+dZdC9s3TzXPiykw3YrGvVQmqFuzRW1cZ5Oo9pF/NC5UisdSTG/gytmS3W0xskSduk2NqrJ1cGRT+hOiHA4+uVfDHjQOCp3UHV7MIRZev6Cuv7YEVaejrLTfcbd/j6KxWhZM0AgQsZS3lHuEV77oZlG0ZLf1K7C0a6DfZniteLrhkja/+WyuOV8R8BAJfcsHS2LMy+K+SfShNEZW+4r9OGDLRx82rAlA/xCytATUnmaki3nNrbqK8V3cHkU7VoB36q610flBvx0m96T2NPt3ZDr2PgE85E6ZEtcRK0zroatJgyUbDVtl/QSmkVKcaGk/ryDrd39hdPaTSWofvrxZ74JijYoiv5cx9MztiwRx64644ov2cIrKHD7Oalk72Arv3vxyqJfUCb323HGFhMStm8Hc8bWvJQPera2IGOD2+etsLpbm4Tky9KdvxdnbJXR+gBZl5FMh7ZVygeSLUvXFRUO0ohvZ4vSuz2hS56wPeiQLQ18ddvXEjaa8MK2Nqlh5PAayat9O1uGd/dScfzXFOg/iiFbeTlHAcDxMoyztY0Yi4rXppHq7Ww9oB5Re3K2nC3FOn+FfaszztjqPWEgLQ/vYHXXvNU339JnM3OGb6jTxrSThLppiiGeY3PegC12EF4ue+32LPxh3pLXWdGaUvmb2fLTjq04K6JqfAfSB0OQLvL30jytSv4Us9iAraLmhJP60MRSR03YqOSerdklWzcpeI13FYmVB0tk1NcPofZ9CW1eaygZaTn0D6JjS9G1Q3PdwzcALJeC7J6thWBLls4qltSEiqIsM9jwO9iK+s7FilxB2NwwBfUiQxdMhYg9l23ZSQDE11GoCVdoUP89W6W0KLKBLUkSksNeNpq7ma1B++mCIgz4+tBpIDIImy2z2Pq/ZZdvQcdWtMjznaagZJ3n+Vr2WLiwLXMtPpMvBPIqvitPuD5JQrCQ9ur9vVRgBErSz3W40lBcM+0ZivHOs7pDuEO25mObCMwb2cKnJoSOmLLUNL26sN4hfbnsknjIY8ZTZDbOs7pDXHjCC9xqWza722t5/PfWv30h/mxbH7N1q21x7YoAaz66e8EmV5ijbv0rXpIJti5+4aWBGskNpvJRjZGyG/mEGSfCJV3vgtqeADN8jvFcFLYJHelnF8vdVfr83RDjN4HiUa7+G71cXXHbXbYlk3DEzND2/xOmoI8tJim+15azXomF/IpJidxmnCSUCIhI78JG5R7aGUlD9nJxQ+ha0/oz5schmjEIH2835C487bRsN+E6zGrJFt7BtrnWhDEWGWVTzTrEUpZmW4sKOZuLNXCLyDoRK4It0/ohAsj7EHnmqW0xpodRtDJREEw//XQb1KixZXUPg9IcN33Xr2heHTTpbGPkby82lYa87bWbAzmZUxjt+zoUh+1ldZmRAcNqoqBgPbF1G0jSXmF6GP4Qhrk4tyBPmF7zYJ6sLzyhe0xduMV24OJwNFjzYk0JupJBItv7r+LJE96GtFvciiAbTP7Ls9ZtuF4fGvp01bis3IqP1qYkr/WAcZ+e9JIBzWMGhoks4ws6Kj4J+kwGXp9l34fKVNdSrdkMoYfURxexVZ93ElMXG2ik08KJuS6bw2TCxDC10f3Ln88Jpe5VpLr9U+dKZ+24Ms2vhwZRtfcqw+oXt1BYv47KPbWMTFm2WEQmZpGr1tO8dRO86mQMFNaj0YPCKQrllp0ZeVns6vfVTf5A7tvleiw+J6+VFsfZns6RvVvsCjLZ1k1IyEn8KSmwsZvez3VkSU0/l52R1feMqvwU5JkExqL7FDillO2oiUIxxEjz5AmfQaUObnOngJGyQCWt7TiBsfxJg3joGq0KLiuo8Hp1nLYmMXgXzn5bFREY6T3hFlFVGW0NyBi0swAsLulFXsletYXKEUT/Rs7pm+Ed3ZmeD1NVijGybmzlnuVY4eZFpiaw1itC6yhJMB1KyRnhl8kvDu1+YCEJxb+xOhnYVbC6zZ3+Wak/H5m25u1ui/mL7DMhvtiJCEyPJuXzQQSma2xk8SSFZfPeprk3qmRi6yrQbs+nNqygSNILSTijDCJLSHfyBoaYdPS+1Yu3P25H89jAmbrsQhLOYloCT5KE7atmp5z/FEUbj4NVwzHfFA1aFsTZoFJJaWMoXFWRYENXIwGqO3ZnR5h1v4ds85OpeGzg5WbttkNMxVdlopc2P5mB1SkBfx1o9la1HnCQKVLrYWxM2jo1xRIQV3cm/8WY0uz4fhisjhtzB5LQZ8N+FVrk9EMchxFI7O0zVNg8DpjTYNFe6pPICPNhAlAbk/JCY/Bj+hDHLGsbIZmnCpolG278dYtkbIHL1l4mXXgNTMepN41ROX0Pq2XNl85y6cv9y37C3mDUXS2D47LK3PFZ29fX4R2vFos8McTSRLrlxzzYjFcd5HzyhFcibZdH4ug445sZyGK4fF1FRr4GgGzsW7q9sLqATNHa5sxeJwIxgbKWY6SRUa+3YojRjIW1da4pBJmAZJzayAGeHL2SorquLbecN78JJDBaxGTSIO4NRm1/8thlR383D9tN63Y/xCgp6opOCY0rQYDKuT67rkRK95PTWocHhuTJvrJHJk7iad66Etq+CYvza9Ors5NZhKXsDDe/eufWbPKD18ILCtmv7NQo03HP3dPHPyfoZC9xV0HTwHpXcPXJBjMTPoRZS5nhRv31pWdJp5huP/SRmMkugSHrozSXD/cBeWT3hNv8vwiNKCT09AspZ3ZhWfBh4xw9lg3k1FNdtmkN4yvsLSY18ShEMi3eV9Ag7f1q7sdsCVEom932zas8er7FDmcTW48COXCM6u76JuEqRDZpweV881GrPyRFYYr1fnHL03iCQnocQtwGgq2vOvmnQ7yqLbOPXzVrYwlneIR0aJ+wLb9YhJh0FTRhHCXCGR5hoomtByLcrSyv6iYrhb6vnv0EW066ipes/1ycnpvj5AkfB6UGJzkV0xZugmLegn3SE2J+SMJeVeqEeH7YDRFOtvVQpOBEdmdQ1ptKFPO0lcf34OO9RUIUErUXGU4VxY5yGsKKC+ZNWYsHQYjC9SkZSM534Wtxwj/efSxE4SnvpNv8jF9V0zif4uMHgW5YcLqYyrkVzBVl/vGaofe2YKcKGuX8h4UUMYQ5TVwPgv2yz+/cUuovDvXUhvtb4CzOdhjcAquCu7qjTvg8Mvjrj358AjMKH7fhnvAQGHB32wQXph+A+yaw7d2KTd1P++a+Ccm9IkOIwkf8ZOOEz8C/P3a1LnYHTfjH8R9wYiZCyjFLIwAAAABJRU5ErkJggg==)"
   ]
  },
  {
   "cell_type": "markdown",
   "metadata": {
    "_uuid": "c1c138ae64648cb5a94127a06441d88dddc2bd9a",
    "id": "VZX8fLNIxNsz"
   },
   "source": [
    "## Task 6: Tính ma trận tương tự cho overview từ TF-IDF\n",
    "\n",
    "Ma trận này có kích thước nxn, trong đó n là số lượng overview.\n",
    "\n",
    "Giá trị cột i dòng j trả về mức độ tương tự của overview thứ i và overview thứ j."
   ]
  },
  {
   "cell_type": "code",
   "execution_count": 14,
   "metadata": {
    "colab": {
     "base_uri": "https://localhost:8080/"
    },
    "id": "n874TqqbNR6x",
    "outputId": "e607731f-be93-4ee7-af04-ccb587d82741"
   },
   "outputs": [
    {
     "data": {
      "text/plain": [
       "(4803, 4803)"
      ]
     },
     "execution_count": 14,
     "metadata": {},
     "output_type": "execute_result"
    }
   ],
   "source": [
    "from sklearn.metrics.pairwise import linear_kernel\n",
    "\n",
    "# Nhập code của bạn tại đây\n",
    "cosine_sim = linear_kernel(tfidf_matrix, tfidf_matrix)\n",
    "\n",
    "cosine_sim.shape"
   ]
  },
  {
   "cell_type": "markdown",
   "metadata": {
    "_uuid": "da5896c6ccfd44c3347af3097275d0aa707c1001",
    "id": "2ED-FT1NxNsz"
   },
   "source": [
    "## Task 7: Xây dựng hàm để đề xuất phim dựa vào tổng quan của phim\n",
    "\n",
    "Hàm sẽ được xây dựng bằng các bước nhỏ sau:\n",
    "\n",
    "* Lấy index của bộ phim thông qua title.\n",
    "\n",
    "* Lấy danh sách giá trị tương đồng của bộ phim cụ thể theo index so với tất cả các bộ phim. Chuyển nó thành một danh sách các bộ giá trị trong đó phần tử đầu tiên là index và phần tử thứ hai là giá trị tương tự.\n",
    "\n",
    "* Sắp xếp danh sách trên theo giá trị tương tự giảm dần.\n",
    "\n",
    "* Lấy ra 10 phần tử đầu từ danh sách trên (10 phần tử này là 10 bộ phim có mức độ tương tự so với phim hiện tại mà ta muốn khuyến nghị). Chú ý là loại bỏ phần tử đầu tiên và bắt đầu lấy từ phẩn tử thứ 2 vì phần tử đầu tiên là chính bộ phim đó. Do là chính bộ phim đó nên giá trị tương tự rất lớn.\n",
    "\n",
    "* Trả về tiêu đề theo index có trong danh sách 10 bộ phim mà ta muốn khuyến nghị."
   ]
  },
  {
   "cell_type": "markdown",
   "metadata": {
    "_uuid": "f5ca112fbbe25b11f0f3356a31d1604727242700",
    "id": "QTAWQGG-xNsz"
   },
   "source": [
    "Tạo một pandas Series với value là index của dữ liệu bộ phim, index là title của bộ phim."
   ]
  },
  {
   "cell_type": "code",
   "execution_count": 15,
   "metadata": {
    "_uuid": "55df2df36be98e6dec5f617a5aa51b77c500faa4",
    "id": "SqKq8LnKxNsz"
   },
   "outputs": [
    {
     "data": {
      "text/plain": [
       "title\n",
       "Minions                                                   546\n",
       "Interstellar                                               95\n",
       "Deadpool                                                  788\n",
       "Guardians of the Galaxy                                    94\n",
       "Mad Max: Fury Road                                        127\n",
       "Jurassic World                                             28\n",
       "Pirates of the Caribbean: The Curse of the Black Pearl    199\n",
       "Dawn of the Planet of the Apes                             82\n",
       "The Hunger Games: Mockingjay - Part 1                     200\n",
       "Big Hero 6                                                 88\n",
       "dtype: int64"
      ]
     },
     "execution_count": 15,
     "metadata": {},
     "output_type": "execute_result"
    }
   ],
   "source": [
    "# Nhập code của bạn tại đây\n",
    "series_title = pd.Series(df.index, index=df['title']).drop_duplicates()\n",
    "series_title[:10]"
   ]
  },
  {
   "cell_type": "code",
   "execution_count": 16,
   "metadata": {
    "_uuid": "9c383fcbb916dce464b01adf980d26ad96aebe0e",
    "id": "aMq4ktaRxNsz"
   },
   "outputs": [],
   "source": [
    "def get_recommendations(df, title, cosine_sim=cosine_sim):\n",
    "    # Nhập code của bạn tại đây\n",
    "    # Lấy chỉ số của phim phù hợp với tiêu đề\n",
    "    idx = series_title[title]\n",
    "\n",
    "    # Nhận điểm số tương đồng theo từng cặp của tất cả các phim có phim đó\n",
    "    sim_scores = list(enumerate(cosine_sim[idx]))\n",
    "\n",
    "    # Sắp xếp phim dựa trên điểm số tương tự\n",
    "    sim_scores = sorted(sim_scores, key=lambda x: x[1], reverse=True)\n",
    "\n",
    "    # Nhận điểm của 10 bộ phim tương tự nhất\n",
    "    sim_scores = sim_scores[1:11]\n",
    "\n",
    "    # Nhận chỉ số phim\n",
    "    movie_series_title = [i[0] for i in sim_scores]\n",
    "\n",
    "    \n",
    "    return df['title'].iloc[movie_series_title]"
   ]
  },
  {
   "cell_type": "markdown",
   "metadata": {
    "id": "y9oHhEc-SNsF"
   },
   "source": [
    "Giả sử người dùng đang xem phim về 'The Dark Knight Rises', hãy thử sử dụng hàm đã thiết kế để xem 10 bộ phim mà chúng ta muốn đề xuất cho người dùng."
   ]
  },
  {
   "cell_type": "code",
   "execution_count": 17,
   "metadata": {
    "_uuid": "14d722124f82e69cb444adcc589e396c75cbb4ff",
    "colab": {
     "base_uri": "https://localhost:8080/"
    },
    "id": "6hK-SJ9pxNsz",
    "outputId": "bb7e937b-ac37-4d07-9eaa-36ca223b07f2"
   },
   "outputs": [
    {
     "data": {
      "text/plain": [
       "3150                  Heavy Metal\n",
       "38       The Amazing Spider-Man 2\n",
       "3649                Lovely, Still\n",
       "2262                          CJ7\n",
       "1572    Forgetting Sarah Marshall\n",
       "2900      Space Battleship Yamato\n",
       "1824         The Face of an Angel\n",
       "20         The Amazing Spider-Man\n",
       "193                   After Earth\n",
       "1115           The Sweetest Thing\n",
       "Name: title, dtype: object"
      ]
     },
     "execution_count": 17,
     "metadata": {},
     "output_type": "execute_result"
    }
   ],
   "source": [
    "get_recommendations(df, 'The Dark Knight Rises')"
   ]
  },
  {
   "cell_type": "markdown",
   "metadata": {
    "id": "iAhCFwg9SX6j"
   },
   "source": [
    "Bạn có thể thấy hầy hết các phim được trả về là phim của DC, tương tự như bộ phim mà người dùng đang xem."
   ]
  },
  {
   "cell_type": "markdown",
   "metadata": {
    "id": "elhv3MuISXiq"
   },
   "source": [
    "Thực hiện lại điều này với một bộ phim của Marvel như 'The Avengers' "
   ]
  },
  {
   "cell_type": "code",
   "execution_count": 18,
   "metadata": {
    "_uuid": "902b9f1ab91921889c85e9008818dcc0b4710ccd",
    "colab": {
     "base_uri": "https://localhost:8080/"
    },
    "id": "Yd5eBHAAxNs0",
    "outputId": "39577355-73ce-4961-f233-499da4faa5c6"
   },
   "outputs": [
    {
     "data": {
      "text/plain": [
       "591                Stardust\n",
       "3999                    Ida\n",
       "2299              Leap Year\n",
       "1669            The Promise\n",
       "3237                 Splash\n",
       "4364    Two Girls and a Guy\n",
       "1563    The Prince of Tides\n",
       "809            Forrest Gump\n",
       "4621             Royal Kill\n",
       "2608       Black Snake Moan\n",
       "Name: title, dtype: object"
      ]
     },
     "execution_count": 18,
     "metadata": {},
     "output_type": "execute_result"
    }
   ],
   "source": [
    "get_recommendations(df, 'The Avengers')"
   ]
  },
  {
   "cell_type": "markdown",
   "metadata": {
    "_uuid": "fcfe9db9c2fdd9334538256d233c6acf33c1c049",
    "id": "Na6AkbsGxNs0"
   },
   "source": [
    "Tiếp theo, chúng ta sẽ xây dựng một hệ thống đề xuất khác, ngoài việc chỉ sử dụng overview, chúng ta sẽ sử dụng các dữ liệu khác như 3 diễn viên hàng đầu (actor), đạo diễn, thể loại và keywords"
   ]
  },
  {
   "cell_type": "markdown",
   "metadata": {
    "id": "VeNwNeAhwD2G"
   },
   "source": [
    "Dữ liệu cột crew cho chúng ta biết được các nhân viên đã tham gia trong quá trình sản xuất phim. Do đó để có được dữ liệu về đạo diễn, bạn cần tách đạo diễn từ crew sang một cột director. \n",
    "\n",
    "## Task 8: Lấy ra tên tác giả từ cột crew và lưu vào cột director"
   ]
  },
  {
   "cell_type": "code",
   "execution_count": 19,
   "metadata": {
    "_uuid": "783b0e89f1c04a12ff51eb29cc68e93c818896cd",
    "id": "dai-kP0VxNs0"
   },
   "outputs": [
    {
     "data": {
      "text/plain": [
       "546            Kyle Balda\n",
       "95      Christopher Nolan\n",
       "788            Tim Miller\n",
       "94             James Gunn\n",
       "127         George Miller\n",
       "              ...        \n",
       "4625           Pece Dingo\n",
       "4118                  NaN\n",
       "4727         Jamaa Fanaka\n",
       "3361       Sharron Miller\n",
       "4553                  NaN\n",
       "Name: director, Length: 4803, dtype: object"
      ]
     },
     "execution_count": 19,
     "metadata": {},
     "output_type": "execute_result"
    }
   ],
   "source": [
    "# Nhập code của bạn tại đây\n",
    "def get_director(x):\n",
    "    for i in x:\n",
    "        if i['job'] == 'Director':\n",
    "            return i['name']\n",
    "    return np.nan\n",
    "\n",
    "df['director'] = df['crew'].apply(get_director)\n",
    "df['director']"
   ]
  },
  {
   "cell_type": "markdown",
   "metadata": {
    "id": "_YJVsemCxdZL"
   },
   "source": [
    "## Task 9: Lấy ra 3 diễn viên đầu tiên từ cột cast và lưu vào chính cột cast. Làm điều tương tự với keywords và genres"
   ]
  },
  {
   "cell_type": "code",
   "execution_count": 20,
   "metadata": {
    "_uuid": "86c4e9f4e6ef1e5ff287f58f3a1119fbddbdae09",
    "id": "UU_FF6inxNs0"
   },
   "outputs": [],
   "source": [
    "# Nhập code của bạn tại đây\n",
    "def get_list(x):\n",
    "    if isinstance(x, list):\n",
    "        names = [i['name'] for i in x]\n",
    "        #Kiểm tra xem có hơn 3 phần tử tồn tại hay không. Nếu có, chỉ trả lại ba đầu tiên. Nếu không, hãy trả lại toàn bộ danh sách.\n",
    "        if len(names) > 3:\n",
    "            names = names[:3]\n",
    "        return names\n",
    "\n",
    "    #Trả lại danh sách trống trong trường hợp dữ liệu bị thiếu / không đúng định dạng\n",
    "    return []\n",
    "\n",
    "features = ['cast', 'keywords', 'genres']\n",
    "for feature in features:\n",
    "    df[feature] = df[feature].apply(get_list)"
   ]
  },
  {
   "cell_type": "code",
   "execution_count": 21,
   "metadata": {
    "_uuid": "87a96f835470aa3df590b74322c2717ff529d6ae",
    "colab": {
     "base_uri": "https://localhost:8080/",
     "height": 143
    },
    "id": "wIx_JktpxNs0",
    "outputId": "08b53876-473c-4a47-8c13-3ece3fcbe1e1"
   },
   "outputs": [
    {
     "data": {
      "text/html": [
       "<div>\n",
       "<style scoped>\n",
       "    .dataframe tbody tr th:only-of-type {\n",
       "        vertical-align: middle;\n",
       "    }\n",
       "\n",
       "    .dataframe tbody tr th {\n",
       "        vertical-align: top;\n",
       "    }\n",
       "\n",
       "    .dataframe thead th {\n",
       "        text-align: right;\n",
       "    }\n",
       "</style>\n",
       "<table border=\"1\" class=\"dataframe\">\n",
       "  <thead>\n",
       "    <tr style=\"text-align: right;\">\n",
       "      <th></th>\n",
       "      <th>title</th>\n",
       "      <th>cast</th>\n",
       "      <th>director</th>\n",
       "      <th>keywords</th>\n",
       "      <th>genres</th>\n",
       "    </tr>\n",
       "  </thead>\n",
       "  <tbody>\n",
       "    <tr>\n",
       "      <th>546</th>\n",
       "      <td>Minions</td>\n",
       "      <td>[Sandra Bullock, Jon Hamm, Michael Keaton]</td>\n",
       "      <td>Kyle Balda</td>\n",
       "      <td>[assistant, aftercreditsstinger, duringcredits...</td>\n",
       "      <td>[Family, Animation, Adventure]</td>\n",
       "    </tr>\n",
       "    <tr>\n",
       "      <th>95</th>\n",
       "      <td>Interstellar</td>\n",
       "      <td>[Matthew McConaughey, Jessica Chastain, Anne H...</td>\n",
       "      <td>Christopher Nolan</td>\n",
       "      <td>[saving the world, artificial intelligence, fa...</td>\n",
       "      <td>[Adventure, Drama, Science Fiction]</td>\n",
       "    </tr>\n",
       "    <tr>\n",
       "      <th>788</th>\n",
       "      <td>Deadpool</td>\n",
       "      <td>[Ryan Reynolds, Morena Baccarin, Ed Skrein]</td>\n",
       "      <td>Tim Miller</td>\n",
       "      <td>[anti hero, mercenary, marvel comic]</td>\n",
       "      <td>[Action, Adventure, Comedy]</td>\n",
       "    </tr>\n",
       "  </tbody>\n",
       "</table>\n",
       "</div>"
      ],
      "text/plain": [
       "            title                                               cast  \\\n",
       "546       Minions         [Sandra Bullock, Jon Hamm, Michael Keaton]   \n",
       "95   Interstellar  [Matthew McConaughey, Jessica Chastain, Anne H...   \n",
       "788      Deadpool        [Ryan Reynolds, Morena Baccarin, Ed Skrein]   \n",
       "\n",
       "              director                                           keywords  \\\n",
       "546         Kyle Balda  [assistant, aftercreditsstinger, duringcredits...   \n",
       "95   Christopher Nolan  [saving the world, artificial intelligence, fa...   \n",
       "788         Tim Miller               [anti hero, mercenary, marvel comic]   \n",
       "\n",
       "                                  genres  \n",
       "546       [Family, Animation, Adventure]  \n",
       "95   [Adventure, Drama, Science Fiction]  \n",
       "788          [Action, Adventure, Comedy]  "
      ]
     },
     "execution_count": 21,
     "metadata": {},
     "output_type": "execute_result"
    }
   ],
   "source": [
    "df[['title', 'cast', 'director', 'keywords', 'genres']].head(3)"
   ]
  },
  {
   "cell_type": "markdown",
   "metadata": {
    "_uuid": "0bcb2c2e99ffd9ce73205c9c6ef6687d16caa31f",
    "id": "NKkUDPJXxNs0"
   },
   "source": [
    "## Task 10: Điều chỉnh dữ liệu phù hợp với đầu vào của thuật toán\n",
    "\n",
    "Chuyển đổi tên và các trường hợp từ khóa thành chữ thường và loại bỏ tất cả các khoảng cách giữa chúng. Điều này được thực hiện để không tính từ Johnny của \"Johnny Depp\" và \"Johnny Galecki\" là giống nhau."
   ]
  },
  {
   "cell_type": "code",
   "execution_count": 22,
   "metadata": {
    "_uuid": "86af764c406a8b6184b37b57cfe499d20ce45f9c",
    "id": "nnzG4-6FxNs1"
   },
   "outputs": [
    {
     "data": {
      "text/html": [
       "<div>\n",
       "<style scoped>\n",
       "    .dataframe tbody tr th:only-of-type {\n",
       "        vertical-align: middle;\n",
       "    }\n",
       "\n",
       "    .dataframe tbody tr th {\n",
       "        vertical-align: top;\n",
       "    }\n",
       "\n",
       "    .dataframe thead th {\n",
       "        text-align: right;\n",
       "    }\n",
       "</style>\n",
       "<table border=\"1\" class=\"dataframe\">\n",
       "  <thead>\n",
       "    <tr style=\"text-align: right;\">\n",
       "      <th></th>\n",
       "      <th>title</th>\n",
       "      <th>cast</th>\n",
       "      <th>director</th>\n",
       "      <th>keywords</th>\n",
       "      <th>genres</th>\n",
       "    </tr>\n",
       "  </thead>\n",
       "  <tbody>\n",
       "    <tr>\n",
       "      <th>546</th>\n",
       "      <td>Minions</td>\n",
       "      <td>[sandrabullock, jonhamm, michaelkeaton]</td>\n",
       "      <td>kylebalda</td>\n",
       "      <td>[assistant, aftercreditsstinger, duringcredits...</td>\n",
       "      <td>[family, animation, adventure]</td>\n",
       "    </tr>\n",
       "    <tr>\n",
       "      <th>95</th>\n",
       "      <td>Interstellar</td>\n",
       "      <td>[matthewmcconaughey, jessicachastain, annehath...</td>\n",
       "      <td>christophernolan</td>\n",
       "      <td>[savingtheworld, artificialintelligence, fathe...</td>\n",
       "      <td>[adventure, drama, sciencefiction]</td>\n",
       "    </tr>\n",
       "    <tr>\n",
       "      <th>788</th>\n",
       "      <td>Deadpool</td>\n",
       "      <td>[ryanreynolds, morenabaccarin, edskrein]</td>\n",
       "      <td>timmiller</td>\n",
       "      <td>[antihero, mercenary, marvelcomic]</td>\n",
       "      <td>[action, adventure, comedy]</td>\n",
       "    </tr>\n",
       "  </tbody>\n",
       "</table>\n",
       "</div>"
      ],
      "text/plain": [
       "            title                                               cast  \\\n",
       "546       Minions            [sandrabullock, jonhamm, michaelkeaton]   \n",
       "95   Interstellar  [matthewmcconaughey, jessicachastain, annehath...   \n",
       "788      Deadpool           [ryanreynolds, morenabaccarin, edskrein]   \n",
       "\n",
       "             director                                           keywords  \\\n",
       "546         kylebalda  [assistant, aftercreditsstinger, duringcredits...   \n",
       "95   christophernolan  [savingtheworld, artificialintelligence, fathe...   \n",
       "788         timmiller                 [antihero, mercenary, marvelcomic]   \n",
       "\n",
       "                                 genres  \n",
       "546      [family, animation, adventure]  \n",
       "95   [adventure, drama, sciencefiction]  \n",
       "788         [action, adventure, comedy]  "
      ]
     },
     "execution_count": 22,
     "metadata": {},
     "output_type": "execute_result"
    }
   ],
   "source": [
    "# Nhập code của bạn tại đây\n",
    "def clean_data(x):\n",
    "    if isinstance(x, list):\n",
    "        return [str.lower(i.replace(\" \", \"\")) for i in x]\n",
    "    else:\n",
    "        #Kiểm tra xem director có tồn tại không. Nếu không, trả về chuỗi trống\n",
    "        if isinstance(x, str):\n",
    "            return str.lower(x.replace(\" \", \"\"))\n",
    "        else:\n",
    "            return ''\n",
    "        \n",
    "features = ['cast', 'keywords', 'director', 'genres']\n",
    "\n",
    "for feature in features:\n",
    "    df[feature] = df[feature].apply(clean_data)\n",
    "    \n",
    "df[['title', 'cast', 'director', 'keywords', 'genres']].head(3)"
   ]
  },
  {
   "cell_type": "markdown",
   "metadata": {
    "_uuid": "b6b3e1c480a7c280fbe81e63c5c4cf3ce308dc28",
    "id": "TZU5JLpIxNs1"
   },
   "source": [
    "Tiếp theo chúng ta sẽ kết hợp tất cả dữ liệu này thành một trường dữ liệu duy nhất.\n",
    "\n",
    "## Task 11: Kết hợp dữ liệu của từng giá trị trong keywords, cast, director, genres thành một chuỗi và lưu vào cột movie_info"
   ]
  },
  {
   "cell_type": "code",
   "execution_count": 23,
   "metadata": {
    "_uuid": "20aef87703c408926f7617573ed043605207767f",
    "colab": {
     "base_uri": "https://localhost:8080/"
    },
    "id": "EZux0jh-xNs1",
    "outputId": "ada3f56d-fb35-4213-fdb2-4b2d1ce81cb7"
   },
   "outputs": [
    {
     "data": {
      "text/html": [
       "<div>\n",
       "<style scoped>\n",
       "    .dataframe tbody tr th:only-of-type {\n",
       "        vertical-align: middle;\n",
       "    }\n",
       "\n",
       "    .dataframe tbody tr th {\n",
       "        vertical-align: top;\n",
       "    }\n",
       "\n",
       "    .dataframe thead th {\n",
       "        text-align: right;\n",
       "    }\n",
       "</style>\n",
       "<table border=\"1\" class=\"dataframe\">\n",
       "  <thead>\n",
       "    <tr style=\"text-align: right;\">\n",
       "      <th></th>\n",
       "      <th>movie_info</th>\n",
       "    </tr>\n",
       "  </thead>\n",
       "  <tbody>\n",
       "    <tr>\n",
       "      <th>546</th>\n",
       "      <td>assistant aftercreditsstinger duringcreditssti...</td>\n",
       "    </tr>\n",
       "    <tr>\n",
       "      <th>95</th>\n",
       "      <td>savingtheworld artificialintelligence fatherso...</td>\n",
       "    </tr>\n",
       "    <tr>\n",
       "      <th>788</th>\n",
       "      <td>antihero mercenary marvelcomic ryanreynolds mo...</td>\n",
       "    </tr>\n",
       "    <tr>\n",
       "      <th>94</th>\n",
       "      <td>marvelcomic spaceship space chrispratt zoesald...</td>\n",
       "    </tr>\n",
       "    <tr>\n",
       "      <th>127</th>\n",
       "      <td>future chase post-apocalyptic tomhardy charliz...</td>\n",
       "    </tr>\n",
       "  </tbody>\n",
       "</table>\n",
       "</div>"
      ],
      "text/plain": [
       "                                            movie_info\n",
       "546  assistant aftercreditsstinger duringcreditssti...\n",
       "95   savingtheworld artificialintelligence fatherso...\n",
       "788  antihero mercenary marvelcomic ryanreynolds mo...\n",
       "94   marvelcomic spaceship space chrispratt zoesald...\n",
       "127  future chase post-apocalyptic tomhardy charliz..."
      ]
     },
     "execution_count": 23,
     "metadata": {},
     "output_type": "execute_result"
    }
   ],
   "source": [
    "# Nhập code của bạn tại đây\n",
    "def create_movie_info(x):\n",
    "    return ' '.join(x['keywords']) + ' ' + ' '.join(x['cast']) + ' ' + x['director'] + ' ' + ' '.join(x['genres'])\n",
    "\n",
    "df['movie_info'] = df.apply(create_movie_info, axis=1)\n",
    "df[['movie_info']].head()"
   ]
  },
  {
   "cell_type": "markdown",
   "metadata": {
    "_uuid": "7b79886883806b8fb58098f9f803dabeaa0cadf6",
    "id": "W6ZiYJioxNs1"
   },
   "source": [
    "## Task 12: Tính CountVectorizer cho từng movie_info\n",
    "\n",
    "Thay vì tính IF-IDF, lần này chúng ta sẽ tính CountVectorizer cho từng bộ phim bởi vì chúng ta chỉ cần kiểm tra xem một từ có xuất hiện trong đoạn văn hay không. Điều này giống như kiểm tra xem đạo diễn hoặc diễn viên có xuất hiện trong movie_info hay không."
   ]
  },
  {
   "cell_type": "code",
   "execution_count": 24,
   "metadata": {
    "_uuid": "b66a1afc1083917d5ef136ccdcd9b50cca087e2b",
    "id": "F7bh8edkxNs1"
   },
   "outputs": [
    {
     "data": {
      "text/plain": [
       "(4803, 11520)"
      ]
     },
     "execution_count": 24,
     "metadata": {},
     "output_type": "execute_result"
    }
   ],
   "source": [
    "from sklearn.feature_extraction.text import CountVectorizer\n",
    "\n",
    "# Nhập code của bạn tại đây\n",
    "count = CountVectorizer(stop_words='english')\n",
    "count_matrix = count.fit_transform(df['movie_info'])\n",
    "count_matrix.shape"
   ]
  },
  {
   "cell_type": "markdown",
   "metadata": {
    "id": "CZnEgzEjNPi6"
   },
   "source": [
    "## Task 13: Tính ma trận tương tự cho movie_info từ CountVectorizer\n"
   ]
  },
  {
   "cell_type": "code",
   "execution_count": 25,
   "metadata": {
    "_uuid": "3fa5539ed1680ed5323f8351ac7e4840f629e958",
    "id": "FygDRU4IxNs1"
   },
   "outputs": [],
   "source": [
    "from sklearn.metrics.pairwise import cosine_similarity\n",
    "\n",
    "# Nhập code của bạn tại đây\n",
    "cosine_sim2 = cosine_similarity(count_matrix, count_matrix)\n",
    "\n",
    "series_title = pd.Series(df.index, index = df['title'])"
   ]
  },
  {
   "cell_type": "markdown",
   "metadata": {
    "_uuid": "3c5a3a44893f63aa558030d03e228a365d10d91f",
    "id": "CajuwVaqxNs1"
   },
   "source": [
    "Sử dụng hàm **get_recommendations()** với ma trận tương tự mới: **cosine_sim2** để đưa ra những bộ phim đề xuất khi người dùng xem phim 'The Dark Knight Rises'."
   ]
  },
  {
   "cell_type": "code",
   "execution_count": 26,
   "metadata": {
    "_uuid": "d1e0e02be7a9e71422d3a492834cb4f8434d1464",
    "id": "4y7EfINLxNs1",
    "outputId": "d6412169-9797-4d90-bd19-51369ef46cf1"
   },
   "outputs": [
    {
     "data": {
      "text/plain": [
       "28                 Jurassic World\n",
       "26     Captain America: Civil War\n",
       "16                   The Avengers\n",
       "7         Avengers: Age of Ultron\n",
       "182                       Ant-Man\n",
       "47        Star Trek Into Darkness\n",
       "79                     Iron Man 2\n",
       "228                      Oblivion\n",
       "174           The Incredible Hulk\n",
       "511                         X-Men\n",
       "Name: title, dtype: object"
      ]
     },
     "execution_count": 26,
     "metadata": {},
     "output_type": "execute_result"
    }
   ],
   "source": [
    "get_recommendations(df, 'The Dark Knight Rises', cosine_sim2)"
   ]
  },
  {
   "cell_type": "markdown",
   "metadata": {
    "id": "Aj7InIsYNeHl"
   },
   "source": [
    "Làm điều tương tự với phim 'The Godfather'"
   ]
  },
  {
   "cell_type": "code",
   "execution_count": 27,
   "metadata": {
    "_uuid": "d6c4df85a80d830b2905f69e0e59ebb3461db3b7",
    "id": "TK2hLquPxNs1",
    "outputId": "682c38cf-3f97-47df-8739-74834942f03e"
   },
   "outputs": [
    {
     "data": {
      "text/plain": [
       "4401    The Helix... Loaded\n",
       "2410              Good Boy!\n",
       "1733      The Spy Next Door\n",
       "727      Jingle All the Way\n",
       "3670        Running Forever\n",
       "1053           Galaxy Quest\n",
       "1496              Snow Dogs\n",
       "2097      Are We There Yet?\n",
       "450                 Flubber\n",
       "2923          St. Trinian's\n",
       "Name: title, dtype: object"
      ]
     },
     "execution_count": 27,
     "metadata": {},
     "output_type": "execute_result"
    }
   ],
   "source": [
    "get_recommendations(df, 'The Godfather', cosine_sim2)"
   ]
  },
  {
   "cell_type": "markdown",
   "metadata": {
    "id": "YDo0peKIR-ai"
   },
   "source": [
    "# **Collaborative Filtering**\n"
   ]
  },
  {
   "cell_type": "markdown",
   "metadata": {
    "id": "b4wt3VvAqqCI"
   },
   "source": [
    "## Single Value Decomposition\n",
    "\n",
    "***`Nhược điểm của Lọc Cộng tác về khả năng mở rộng (scalability) và độ thưa thớt (sparsity)`***. Để xử lý vấn đề này chúng ta có thể sử dụng latent factor model (mô hình yếu tố tiềm ẩn) để nắm bắt sử giống nhau của người dùng và mặt hàng.\n",
    "\n",
    "Về cơ bản, chúng ta muốn biến vấn đề đề xuất thành vấn đề tối ưu hóa. ***`Chúng ta có thể xem đó là mức độ tốt của chúng ta trong việc dự đoán xếp hạng cho các mặt hàng do người dùng cung cấp. Với chi phí càng nhỏ thì dự đoán càng tốt.`***\n",
    "\n",
    "Một latent factor model mà chúng ta có thể sử dụng là [Single Value Decomposition](https://machinelearningcoban.com/2017/06/07/svd/) mà chúng ta đã tìm hiểu từ [Matrix Factorization](https://machinelearningcoban.com/2017/05/31/matrixfactorization/)"
   ]
  },
  {
   "cell_type": "markdown",
   "metadata": {
    "_uuid": "4307f75107f9c5e5f911d52a6f1dc5530990c75e",
    "id": "w1ifzd28xNs2"
   },
   "source": [
    "## Single Value Decomposition\n",
    "\n",
    "Ở phần này chúng ta sẽ sử dụng phương pháp lọc công tác Matrix Factorization bằng phương pháp tối ưu Single Value Decomposition với chi phí càng nhỏ thì càng tối ưu."
   ]
  },
  {
   "cell_type": "markdown",
   "metadata": {
    "id": "hFeDb3wF8Toy"
   },
   "source": [
    "### Task 14: Đọc dữ liệu đánh giá phim của người dùng."
   ]
  },
  {
   "cell_type": "code",
   "execution_count": 28,
   "metadata": {
    "colab": {
     "base_uri": "https://localhost:8080/",
     "height": 206
    },
    "id": "gX2IynmBiTBK",
    "outputId": "a404bc47-9ed0-4990-94d6-5256ccd8ea25"
   },
   "outputs": [
    {
     "data": {
      "text/html": [
       "<div>\n",
       "<style scoped>\n",
       "    .dataframe tbody tr th:only-of-type {\n",
       "        vertical-align: middle;\n",
       "    }\n",
       "\n",
       "    .dataframe tbody tr th {\n",
       "        vertical-align: top;\n",
       "    }\n",
       "\n",
       "    .dataframe thead th {\n",
       "        text-align: right;\n",
       "    }\n",
       "</style>\n",
       "<table border=\"1\" class=\"dataframe\">\n",
       "  <thead>\n",
       "    <tr style=\"text-align: right;\">\n",
       "      <th></th>\n",
       "      <th>user_id</th>\n",
       "      <th>movie_id</th>\n",
       "      <th>rating</th>\n",
       "      <th>timestamp</th>\n",
       "    </tr>\n",
       "  </thead>\n",
       "  <tbody>\n",
       "    <tr>\n",
       "      <th>0</th>\n",
       "      <td>1</td>\n",
       "      <td>31</td>\n",
       "      <td>2.5</td>\n",
       "      <td>1260759144</td>\n",
       "    </tr>\n",
       "    <tr>\n",
       "      <th>1</th>\n",
       "      <td>1</td>\n",
       "      <td>1029</td>\n",
       "      <td>3.0</td>\n",
       "      <td>1260759179</td>\n",
       "    </tr>\n",
       "    <tr>\n",
       "      <th>2</th>\n",
       "      <td>1</td>\n",
       "      <td>1061</td>\n",
       "      <td>3.0</td>\n",
       "      <td>1260759182</td>\n",
       "    </tr>\n",
       "    <tr>\n",
       "      <th>3</th>\n",
       "      <td>1</td>\n",
       "      <td>1129</td>\n",
       "      <td>2.0</td>\n",
       "      <td>1260759185</td>\n",
       "    </tr>\n",
       "    <tr>\n",
       "      <th>4</th>\n",
       "      <td>1</td>\n",
       "      <td>1172</td>\n",
       "      <td>4.0</td>\n",
       "      <td>1260759205</td>\n",
       "    </tr>\n",
       "  </tbody>\n",
       "</table>\n",
       "</div>"
      ],
      "text/plain": [
       "   user_id  movie_id  rating   timestamp\n",
       "0        1        31     2.5  1260759144\n",
       "1        1      1029     3.0  1260759179\n",
       "2        1      1061     3.0  1260759182\n",
       "3        1      1129     2.0  1260759185\n",
       "4        1      1172     4.0  1260759205"
      ]
     },
     "execution_count": 28,
     "metadata": {},
     "output_type": "execute_result"
    }
   ],
   "source": [
    "# Nhập code của bạn tại đây\n",
    "df_rating = pd.read_csv('user_ratings.csv')\n",
    "df_rating.head()"
   ]
  },
  {
   "cell_type": "markdown",
   "metadata": {
    "id": "oOyzvLRtEHxa"
   },
   "source": [
    "### Task 15: Xử lý dữ liệu đầu vào phù hợp với SVD của surprise\n",
    "\n",
    "Tham khảo đường dẫn sau: [Use custom data](https://surprise.readthedocs.io/en/stable/getting_started.html#use-a-custom-dataset)"
   ]
  },
  {
   "cell_type": "code",
   "execution_count": 29,
   "metadata": {
    "id": "rjWowoqBEHU0"
   },
   "outputs": [],
   "source": [
    "\n",
    "import surprise\n",
    "from surprise import Reader, Dataset\n",
    "\n",
    "\n",
    "# Nhập code của bạn tại đây\n",
    "reader = Reader(rating_scale=(1, 5))\n",
    "data = Dataset.load_from_df(df_rating[['user_id', 'movie_id', 'rating']], reader)"
   ]
  },
  {
   "cell_type": "markdown",
   "metadata": {
    "id": "-ViWJolXOOY6"
   },
   "source": [
    "### Task 16: Sử dụng K-Fold để huấn luyện và đánh giá mô hình\n",
    "\n",
    "\n",
    "Tham khảo đường dẫn sau: [Use cross-validation iterators\n",
    "](https://surprise.readthedocs.io/en/stable/getting_started.html#use-cross-validation-iterators)\n",
    "\n",
    "\n",
    "\n",
    "\n"
   ]
  },
  {
   "cell_type": "code",
   "execution_count": 30,
   "metadata": {
    "colab": {
     "base_uri": "https://localhost:8080/"
    },
    "id": "3Q6TbMdiIcMh",
    "outputId": "860a83bc-9d46-4390-d230-46864f1183ea"
   },
   "outputs": [
    {
     "name": "stdout",
     "output_type": "stream",
     "text": [
      "RMSE: 0.9508\n",
      "RMSE: 0.9395\n",
      "RMSE: 0.9473\n"
     ]
    }
   ],
   "source": [
    "from surprise.model_selection import KFold\n",
    "from surprise import accuracy, SVD\n",
    "\n",
    "# Nhập code của bạn tại đây\n",
    "data = Dataset.load_builtin(\"ml-100k\")\n",
    "\n",
    "# define a cross-validation iterator\n",
    "kf = KFold(n_splits=3)\n",
    "\n",
    "algo = SVD()\n",
    "\n",
    "for trainset, testset in kf.split(data):\n",
    "\n",
    "    # train and test algorithm.\n",
    "    algo.fit(trainset)\n",
    "    predictions = algo.test(testset)\n",
    "\n",
    "    # Compute and print Root Mean Squared Error\n",
    "    accuracy.rmse(predictions, verbose=True)"
   ]
  },
  {
   "cell_type": "markdown",
   "metadata": {
    "_uuid": "81f6d5f460d4cbaaa43b6bb86a0abd9bce1a3134",
    "id": "rLvA_SwlxNs3"
   },
   "source": [
    "Root Mean Sqaure Error trung bình là 0,90, là quá đủ tốt cho trường hợp của chúng ta. Bây giờ chúng ta hãy dự đoán kết quả người dùng có id = 1 với phim có id là 302.\n"
   ]
  },
  {
   "cell_type": "code",
   "execution_count": 32,
   "metadata": {
    "id": "NVXmsJ37pTLO"
   },
   "outputs": [
    {
     "name": "stdout",
     "output_type": "stream",
     "text": [
      "user: 497        item: 181        r_ui = 5.00   est = 4.00   {'was_impossible': False}\n",
      "user: 1          item: 302        r_ui = 5.00   est = 4.51   {'was_impossible': False}\n"
     ]
    }
   ],
   "source": [
    "# Nhập code của bạn tại đây\n",
    "predictions = algo.fit(trainset).test(testset)\n",
    "print(predictions[0])\n",
    "print(algo.predict('1', '302', r_ui = 5.0))"
   ]
  },
  {
   "cell_type": "markdown",
   "metadata": {
    "id": "2_pjDCCrUp_b"
   },
   "source": [
    "**Câu hỏi: Người dùng có id là 1 đánh giá bao nhiêu cho phim có id là 302.**\n",
    "\n",
    "Trả lời: với r_ui là 5 thì ước tính estimate là 4.51"
   ]
  },
  {
   "cell_type": "code",
   "execution_count": null,
   "metadata": {},
   "outputs": [],
   "source": []
  }
 ],
 "metadata": {
  "colab": {
   "collapsed_sections": [],
   "provenance": [],
   "toc_visible": true
  },
  "kernelspec": {
   "display_name": "Python 3",
   "language": "python",
   "name": "python3"
  },
  "language_info": {
   "codemirror_mode": {
    "name": "ipython",
    "version": 3
   },
   "file_extension": ".py",
   "mimetype": "text/x-python",
   "name": "python",
   "nbconvert_exporter": "python",
   "pygments_lexer": "ipython3",
   "version": "3.8.5"
  }
 },
 "nbformat": 4,
 "nbformat_minor": 4
}
